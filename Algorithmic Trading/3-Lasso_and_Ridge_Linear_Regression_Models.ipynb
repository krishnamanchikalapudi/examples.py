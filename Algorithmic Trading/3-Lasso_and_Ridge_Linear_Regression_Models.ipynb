{
  "nbformat": 4,
  "nbformat_minor": 0,
  "metadata": {
    "colab": {
      "name": "O'Reilly Class: Multiple, Lasso and Ridge Linear Regression Models",
      "provenance": []
    },
    "kernelspec": {
      "name": "python3",
      "display_name": "Python 3"
    }
  },
  "cells": [
    {
      "cell_type": "markdown",
      "metadata": {
        "id": "8cEKLHguVXXa"
      },
      "source": [
        "# Import Libraries"
      ]
    },
    {
      "cell_type": "code",
      "metadata": {
        "id": "pxgRHy12PJfK"
      },
      "source": [
        "import numpy as np\n",
        "import pandas as pd\n",
        "from datetime import datetime\n",
        "\n",
        "import pandas_datareader.data as pdr\n",
        "!pip install yfinance\n",
        "import yfinance as yf\n",
        "\n",
        "import matplotlib.pyplot as plt\n",
        "plt.style.use('seaborn')"
      ],
      "execution_count": null,
      "outputs": []
    },
    {
      "cell_type": "markdown",
      "metadata": {
        "id": "qnroHaPZVjlA"
      },
      "source": [
        "#Import Data"
      ]
    },
    {
      "cell_type": "code",
      "metadata": {
        "id": "eGcDaP4vQjuX"
      },
      "source": [
        "start = datetime(2021, 4, 1)\n",
        "end = datetime(2021, 8, 31)\n",
        "\n",
        "stock = yf.Ticker('AAPL').history(start=start, end=end) #Apple Inc.\n",
        "market = yf.Ticker('SPY').history(start=start, end=end) #S&P 500 index. Broad market value weighted index that affects all stocks\n",
        "vix = yf.Ticker('VXX').history(start=start, end=end)   #Volatility index. The 30 day expected volatility of the market implied by option prices on the S&P 500\n",
        "dxy = yf.Ticker('UUP').history(start=start, end=end) #Dollar index. A weighted index of the value of the US dollar relative to a basket of major currencies\n",
        "junk = yf.Ticker('JNK').history(start=start, end=end)   #Junk bond index. An index of high yielding/risky corporate bonds"
      ],
      "execution_count": null,
      "outputs": []
    },
    {
      "cell_type": "markdown",
      "metadata": {
        "id": "qo5uRa28W3GV"
      },
      "source": [
        "#Train Model"
      ]
    },
    {
      "cell_type": "code",
      "metadata": {
        "id": "EX2JBnMfXHTi",
        "colab": {
          "base_uri": "https://localhost:8080/",
          "height": 235
        },
        "outputId": "e91dfa19-0757-4797-aca6-0ff5edaf7430"
      },
      "source": [
        "#Creat target dataframe\n",
        "target = pd.DataFrame()\n",
        "target['return'] = stock['Close'].pct_change(1)*100 #data lagged by a day to avoid look-ahead bias\n",
        "target = target.dropna() #Drop NA in the first row\n",
        "target.head()"
      ],
      "execution_count": null,
      "outputs": [
        {
          "output_type": "execute_result",
          "data": {
            "text/html": [
              "<div>\n",
              "<style scoped>\n",
              "    .dataframe tbody tr th:only-of-type {\n",
              "        vertical-align: middle;\n",
              "    }\n",
              "\n",
              "    .dataframe tbody tr th {\n",
              "        vertical-align: top;\n",
              "    }\n",
              "\n",
              "    .dataframe thead th {\n",
              "        text-align: right;\n",
              "    }\n",
              "</style>\n",
              "<table border=\"1\" class=\"dataframe\">\n",
              "  <thead>\n",
              "    <tr style=\"text-align: right;\">\n",
              "      <th></th>\n",
              "      <th>return</th>\n",
              "    </tr>\n",
              "    <tr>\n",
              "      <th>Date</th>\n",
              "      <th></th>\n",
              "    </tr>\n",
              "  </thead>\n",
              "  <tbody>\n",
              "    <tr>\n",
              "      <th>2021-04-05</th>\n",
              "      <td>2.357733</td>\n",
              "    </tr>\n",
              "    <tr>\n",
              "      <th>2021-04-06</th>\n",
              "      <td>0.246223</td>\n",
              "    </tr>\n",
              "    <tr>\n",
              "      <th>2021-04-07</th>\n",
              "      <td>1.339037</td>\n",
              "    </tr>\n",
              "    <tr>\n",
              "      <th>2021-04-08</th>\n",
              "      <td>1.923379</td>\n",
              "    </tr>\n",
              "    <tr>\n",
              "      <th>2021-04-09</th>\n",
              "      <td>2.025158</td>\n",
              "    </tr>\n",
              "  </tbody>\n",
              "</table>\n",
              "</div>"
            ],
            "text/plain": [
              "              return\n",
              "Date                \n",
              "2021-04-05  2.357733\n",
              "2021-04-06  0.246223\n",
              "2021-04-07  1.339037\n",
              "2021-04-08  1.923379\n",
              "2021-04-09  2.025158"
            ]
          },
          "metadata": {},
          "execution_count": 88
        }
      ]
    },
    {
      "cell_type": "code",
      "metadata": {
        "id": "4PUC0AmibGxp",
        "colab": {
          "base_uri": "https://localhost:8080/",
          "height": 235
        },
        "outputId": "d2e228d6-ccaa-41bf-e973-203b2b7b4e34"
      },
      "source": [
        "#Create features dataframe\n",
        "features = pd.DataFrame()\n",
        "features['market'] = market['Close'].pct_change(1)*100\n",
        "features['vix'] = vix['Close'].diff() #VIX is volatility index and is measured in percentage terms so you only need to take the difference\n",
        "features['dxy'] = dxy['Close'].pct_change(1)*100\n",
        "features['junk'] = junk['Close'].pct_change(1)*100\n",
        "features = features.dropna() #Drop NA in the first row\n",
        "features.head()"
      ],
      "execution_count": null,
      "outputs": [
        {
          "output_type": "execute_result",
          "data": {
            "text/html": [
              "<div>\n",
              "<style scoped>\n",
              "    .dataframe tbody tr th:only-of-type {\n",
              "        vertical-align: middle;\n",
              "    }\n",
              "\n",
              "    .dataframe tbody tr th {\n",
              "        vertical-align: top;\n",
              "    }\n",
              "\n",
              "    .dataframe thead th {\n",
              "        text-align: right;\n",
              "    }\n",
              "</style>\n",
              "<table border=\"1\" class=\"dataframe\">\n",
              "  <thead>\n",
              "    <tr style=\"text-align: right;\">\n",
              "      <th></th>\n",
              "      <th>market</th>\n",
              "      <th>vix</th>\n",
              "      <th>dxy</th>\n",
              "      <th>junk</th>\n",
              "    </tr>\n",
              "    <tr>\n",
              "      <th>Date</th>\n",
              "      <th></th>\n",
              "      <th></th>\n",
              "      <th></th>\n",
              "      <th></th>\n",
              "    </tr>\n",
              "  </thead>\n",
              "  <tbody>\n",
              "    <tr>\n",
              "      <th>2021-04-05</th>\n",
              "      <td>1.435314</td>\n",
              "      <td>-1.119999</td>\n",
              "      <td>-0.319872</td>\n",
              "      <td>0.092059</td>\n",
              "    </tr>\n",
              "    <tr>\n",
              "      <th>2021-04-06</th>\n",
              "      <td>-0.059056</td>\n",
              "      <td>0.000000</td>\n",
              "      <td>-0.240672</td>\n",
              "      <td>0.174728</td>\n",
              "    </tr>\n",
              "    <tr>\n",
              "      <th>2021-04-07</th>\n",
              "      <td>0.115724</td>\n",
              "      <td>-1.120003</td>\n",
              "      <td>0.120622</td>\n",
              "      <td>0.009176</td>\n",
              "    </tr>\n",
              "    <tr>\n",
              "      <th>2021-04-08</th>\n",
              "      <td>0.474680</td>\n",
              "      <td>-0.639999</td>\n",
              "      <td>-0.441762</td>\n",
              "      <td>0.036724</td>\n",
              "    </tr>\n",
              "    <tr>\n",
              "      <th>2021-04-09</th>\n",
              "      <td>0.727018</td>\n",
              "      <td>-0.079998</td>\n",
              "      <td>0.080672</td>\n",
              "      <td>-0.082586</td>\n",
              "    </tr>\n",
              "  </tbody>\n",
              "</table>\n",
              "</div>"
            ],
            "text/plain": [
              "              market       vix       dxy      junk\n",
              "Date                                              \n",
              "2021-04-05  1.435314 -1.119999 -0.319872  0.092059\n",
              "2021-04-06 -0.059056  0.000000 -0.240672  0.174728\n",
              "2021-04-07  0.115724 -1.120003  0.120622  0.009176\n",
              "2021-04-08  0.474680 -0.639999 -0.441762  0.036724\n",
              "2021-04-09  0.727018 -0.079998  0.080672 -0.082586"
            ]
          },
          "metadata": {},
          "execution_count": 90
        }
      ]
    },
    {
      "cell_type": "code",
      "metadata": {
        "id": "mxSW85He9kAd",
        "colab": {
          "base_uri": "https://localhost:8080/"
        },
        "outputId": "30041a6b-3044-4919-e074-247c008dc7bc"
      },
      "source": [
        "#Run multiple linear regression\n",
        "from sklearn.linear_model import LinearRegression\n",
        "from sklearn.model_selection import train_test_split\n",
        "\n",
        "regression = LinearRegression()\n",
        "features_train, features_test, target_train, target_test = train_test_split(features, target, test_size = 0.25, random_state=0)\n",
        "\n",
        "#Model is trained on 75% of the data\n",
        "model = regression.fit(features_train, target_train)\n",
        "\n",
        "print(\"Model Intercept:\", model.intercept_)\n",
        "print(\"Model Coefficients:\", model.coef_)"
      ],
      "execution_count": null,
      "outputs": [
        {
          "output_type": "stream",
          "name": "stdout",
          "text": [
            "Model Intercept: [-0.01184251]\n",
            "Model Coefficients: [[ 1.9745785   0.23674555 -0.0595629  -0.21642663]]\n"
          ]
        }
      ]
    },
    {
      "cell_type": "markdown",
      "metadata": {
        "id": "Co3C05Pda6Xg"
      },
      "source": [
        "#Evaluate Model"
      ]
    },
    {
      "cell_type": "code",
      "metadata": {
        "colab": {
          "base_uri": "https://localhost:8080/"
        },
        "id": "m7ViKzoi5xtz",
        "outputId": "c3dd6f92-b1d7-4486-f3e4-6d0157ece481"
      },
      "source": [
        "#Use default R2 performance metric\n",
        "print(\"Training score: \", model.score(features_train, target_train))\n",
        "print(\"Test score: \", model.score(features_test, target_test))"
      ],
      "execution_count": null,
      "outputs": [
        {
          "output_type": "stream",
          "name": "stdout",
          "text": [
            "Training score:  0.5442502340459178\n",
            "Test score:  0.47473771464878267\n"
          ]
        }
      ]
    },
    {
      "cell_type": "markdown",
      "metadata": {
        "id": "SyP17beTAJkV"
      },
      "source": [
        "#Lasso Regression/L1 Regularization"
      ]
    },
    {
      "cell_type": "code",
      "metadata": {
        "id": "atoWcOZRoM59",
        "colab": {
          "base_uri": "https://localhost:8080/"
        },
        "outputId": "fe3e1bf2-51a7-47a5-c074-6af5c204291b"
      },
      "source": [
        "#Remove less informative features with Lasso Regression\n",
        "from sklearn.linear_model import Lasso\n",
        "from sklearn.preprocessing import StandardScaler\n",
        "\n",
        "scaler = StandardScaler() #Scales input data so that it is has a mean of zero and variance of one\n",
        "features_standardized = scaler.fit_transform(features) #Every feature now has zero mean and unit variance\n",
        "lasso_regression = Lasso (alpha = 0.2) #alpha is a hyperparameter (default = 1). Increasing alpha increases regularization\n",
        "\n",
        "features_standardized_train, features_standardized_test, target_train, target_test = train_test_split(features_standardized, target, test_size=0.25, random_state=0)\n",
        "lasso_model = lasso_regression.fit(features_standardized_train, target_train)\n",
        "\n",
        "print(\"Lasso model intercept:\", lasso_model.intercept_)\n",
        "print(\"Lasso model coefficients:\", lasso_model.coef_)\n",
        "\n",
        "print(\"Lasso training score: \", lasso_model.score(features_standardized_train, target_train))\n",
        "print(\"Lasso test score: \", lasso_model.score(features_standardized_test, target_test))"
      ],
      "execution_count": null,
      "outputs": [
        {
          "output_type": "stream",
          "name": "stdout",
          "text": [
            "Lasso model intercept: [0.19120591]\n",
            "Lasso model coefficients: [ 0.76978242 -0.         -0.          0.        ]\n",
            "Lasso training score:  0.49990907988479444\n",
            "Lasso test score:  0.5410461991374984\n"
          ]
        }
      ]
    },
    {
      "cell_type": "markdown",
      "metadata": {
        "id": "bly1MMLUEY78"
      },
      "source": [
        "#Ridge Regression/L2 Regularization"
      ]
    },
    {
      "cell_type": "code",
      "metadata": {
        "id": "TENwnv-bqCF7",
        "colab": {
          "base_uri": "https://localhost:8080/"
        },
        "outputId": "e9fbcdce-59cb-47f9-e0bb-30b88c3fbdd3"
      },
      "source": [
        "#Reduce effects of all coefficients/collinearity with Ridge Regression\n",
        "from sklearn.linear_model import Ridge\n",
        "\n",
        "ridge_regression = Ridge (alpha=10) #alpha is a hyperparameter. Increasing it increases regularization\n",
        "\n",
        "features_standardized_train, features_standardized_test, target_train, target_test = train_test_split(features_standardized, target, test_size=0.25, random_state=0)\n",
        "ridge_model = ridge_regression.fit(features_standardized_train, target_train)\n",
        "\n",
        "print(\"Ridge model intercept:\", ridge_model.intercept_)\n",
        "print(\"Ridge model coefficients:\", ridge_model.coef_)\n",
        "\n",
        "print(\"Ridge training score: \", ridge_model.score(features_standardized_train, target_train))\n",
        "print(\"Ridge test score: \", ridge_model.score(features_standardized_test, target_test))"
      ],
      "execution_count": null,
      "outputs": [
        {
          "output_type": "stream",
          "name": "stdout",
          "text": [
            "Ridge model intercept: [0.19136873]\n",
            "Ridge model coefficients: [[ 0.83896426  0.05825698 -0.06185699  0.05429043]]\n",
            "Ridge training score:  0.5165309187044727\n",
            "Ridge test score:  0.5219382795294056\n"
          ]
        }
      ]
    }
  ]
}