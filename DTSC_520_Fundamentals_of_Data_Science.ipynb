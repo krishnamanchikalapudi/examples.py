{
  "nbformat": 4,
  "nbformat_minor": 0,
  "metadata": {
    "colab": {
      "name": "DTSC_520_Fundamentals-of-Data-Science.ipynb",
      "provenance": [],
      "private_outputs": true,
      "collapsed_sections": [],
      "toc_visible": true,
      "authorship_tag": "ABX9TyMbb0nHFr7T62KBrc7aj8Wv",
      "include_colab_link": true
    },
    "kernelspec": {
      "name": "python3",
      "display_name": "Python 3"
    }
  },
  "cells": [
    {
      "cell_type": "markdown",
      "metadata": {
        "id": "view-in-github",
        "colab_type": "text"
      },
      "source": [
        "<a href=\"https://colab.research.google.com/github/krishnamanchikalapudi/examples.py/blob/develop/DTSC_520_Fundamentals_of_Data_Science.ipynb\" target=\"_parent\"><img src=\"https://colab.research.google.com/assets/colab-badge.svg\" alt=\"Open In Colab\"/></a>"
      ]
    },
    {
      "cell_type": "markdown",
      "metadata": {
        "id": "Qz_YgHa-Y3Nl",
        "colab_type": "text"
      },
      "source": [
        "# String"
      ]
    },
    {
      "cell_type": "markdown",
      "metadata": {
        "id": "Au95KGKHZCkD",
        "colab_type": "text"
      },
      "source": [
        "## Substrings and Slicing"
      ]
    },
    {
      "cell_type": "code",
      "metadata": {
        "id": "PQbJULLCZJga",
        "colab_type": "code",
        "colab": {}
      },
      "source": [
        "str1=\"Eastern University\"\n",
        "str1[0:3]"
      ],
      "execution_count": null,
      "outputs": []
    },
    {
      "cell_type": "code",
      "metadata": {
        "id": "47mjAzvCZKVl",
        "colab_type": "code",
        "colab": {}
      },
      "source": [
        "str1[8:18]"
      ],
      "execution_count": null,
      "outputs": []
    },
    {
      "cell_type": "code",
      "metadata": {
        "id": "AMG6fHZ7ZPyd",
        "colab_type": "code",
        "colab": {}
      },
      "source": [
        "str1[8:20]"
      ],
      "execution_count": null,
      "outputs": []
    },
    {
      "cell_type": "code",
      "metadata": {
        "id": "WiunS1zdZQnD",
        "colab_type": "code",
        "colab": {}
      },
      "source": [
        "str1[8:]"
      ],
      "execution_count": null,
      "outputs": []
    },
    {
      "cell_type": "code",
      "metadata": {
        "id": "Gwf_H1-UZUIy",
        "colab_type": "code",
        "colab": {}
      },
      "source": [
        "str1[-1]"
      ],
      "execution_count": null,
      "outputs": []
    },
    {
      "cell_type": "markdown",
      "metadata": {
        "id": "5QIaJMqJZZCi",
        "colab_type": "text"
      },
      "source": [
        "## Operator"
      ]
    },
    {
      "cell_type": "code",
      "metadata": {
        "id": "jmv4J8NgZe7b",
        "colab_type": "code",
        "colab": {}
      },
      "source": [
        "\"Hello \" + 'Hello '"
      ],
      "execution_count": null,
      "outputs": []
    },
    {
      "cell_type": "code",
      "metadata": {
        "id": "bqXNBoVEZgtq",
        "colab_type": "code",
        "colab": {}
      },
      "source": [
        "\"Hello \" * 3"
      ],
      "execution_count": null,
      "outputs": []
    },
    {
      "cell_type": "code",
      "metadata": {
        "id": "uq_kenQsZkyN",
        "colab_type": "code",
        "colab": {}
      },
      "source": [
        "for i in 'Hello':\n",
        "    print (i)"
      ],
      "execution_count": null,
      "outputs": []
    },
    {
      "cell_type": "markdown",
      "metadata": {
        "id": "IuhS5FHFaG6a",
        "colab_type": "text"
      },
      "source": [
        "# List"
      ]
    },
    {
      "cell_type": "code",
      "metadata": {
        "id": "RcqWErYAaMrv",
        "colab_type": "code",
        "colab": {}
      },
      "source": [
        "classes = ['DTSC520', 'DTSC550', 'DTSC560', 'DTSC600']\n",
        "classes"
      ],
      "execution_count": null,
      "outputs": []
    },
    {
      "cell_type": "code",
      "metadata": {
        "id": "TDxlETQSaQQD",
        "colab_type": "code",
        "colab": {}
      },
      "source": [
        "len(classes)"
      ],
      "execution_count": null,
      "outputs": []
    },
    {
      "cell_type": "code",
      "metadata": {
        "id": "ddnSrrCUaSa8",
        "colab_type": "code",
        "colab": {}
      },
      "source": [
        "numb=[2, 4, 6, 8 , 10, 12, 14]\n",
        "len(numb)"
      ],
      "execution_count": null,
      "outputs": []
    },
    {
      "cell_type": "code",
      "metadata": {
        "id": "WEJt4cUpaWMC",
        "colab_type": "code",
        "colab": {}
      },
      "source": [
        "hetro = [2, 'hello', True, 4.5]\n",
        "hetro"
      ],
      "execution_count": null,
      "outputs": []
    },
    {
      "cell_type": "code",
      "metadata": {
        "id": "AT7BQhzVaZCJ",
        "colab_type": "code",
        "colab": {}
      },
      "source": [
        "len(hetro)"
      ],
      "execution_count": null,
      "outputs": []
    },
    {
      "cell_type": "markdown",
      "metadata": {
        "id": "OWVzc2-Taa1w",
        "colab_type": "text"
      },
      "source": [
        "## Slicing"
      ]
    },
    {
      "cell_type": "code",
      "metadata": {
        "id": "GXp52ZnIadNm",
        "colab_type": "code",
        "colab": {}
      },
      "source": [
        "strArr1 = ['E','a','s','t','e','r','n',' ','U','n','i','v','e','r','s','i','t','y']\n",
        "strArr1[0:3]"
      ],
      "execution_count": null,
      "outputs": []
    },
    {
      "cell_type": "code",
      "metadata": {
        "id": "mBb5bQOzaj9m",
        "colab_type": "code",
        "colab": {}
      },
      "source": [
        "strArr1[8:18]"
      ],
      "execution_count": null,
      "outputs": []
    },
    {
      "cell_type": "code",
      "metadata": {
        "id": "ZsxHvGCNal7-",
        "colab_type": "code",
        "colab": {}
      },
      "source": [
        "strArr1[8:20]"
      ],
      "execution_count": null,
      "outputs": []
    },
    {
      "cell_type": "code",
      "metadata": {
        "id": "RjeRYFKzanwh",
        "colab_type": "code",
        "colab": {}
      },
      "source": [
        "strArr1[8:]"
      ],
      "execution_count": null,
      "outputs": []
    },
    {
      "cell_type": "code",
      "metadata": {
        "id": "iuvzKJadarqx",
        "colab_type": "code",
        "colab": {}
      },
      "source": [
        "strArr1[-1]"
      ],
      "execution_count": null,
      "outputs": []
    },
    {
      "cell_type": "code",
      "metadata": {
        "id": "PSmDWA4Pat6Y",
        "colab_type": "code",
        "colab": {}
      },
      "source": [
        "strArr1[8:-1]"
      ],
      "execution_count": null,
      "outputs": []
    },
    {
      "cell_type": "code",
      "metadata": {
        "id": "aKv8IXZ7a0uW",
        "colab_type": "code",
        "colab": {}
      },
      "source": [
        "y = [1, 2, 3, 4,5,6,7,8,9,10]\n",
        "y[3:7]"
      ],
      "execution_count": null,
      "outputs": []
    },
    {
      "cell_type": "code",
      "metadata": {
        "id": "ptRwpFdha3Ib",
        "colab_type": "code",
        "colab": {}
      },
      "source": [
        "len(y[3:7])"
      ],
      "execution_count": null,
      "outputs": []
    },
    {
      "cell_type": "markdown",
      "metadata": {
        "id": "-hb1_v6ha8eH",
        "colab_type": "text"
      },
      "source": [
        "## Alter values"
      ]
    },
    {
      "cell_type": "code",
      "metadata": {
        "id": "DvAAAle8a-wM",
        "colab_type": "code",
        "colab": {}
      },
      "source": [
        "y.append(11)\n",
        "y"
      ],
      "execution_count": null,
      "outputs": []
    },
    {
      "cell_type": "code",
      "metadata": {
        "id": "OZTa_ASpbDUW",
        "colab_type": "code",
        "colab": {}
      },
      "source": [
        "y.clear()"
      ],
      "execution_count": null,
      "outputs": []
    },
    {
      "cell_type": "code",
      "metadata": {
        "id": "cta3rPvpbDz2",
        "colab_type": "code",
        "colab": {}
      },
      "source": [
        "list_1=[100, 200, 300]\n",
        "list_2=[150, 250, 350]\n",
        "list_1.extend(list_2)\n",
        "print(list_1)\n",
        "print(list_2)"
      ],
      "execution_count": null,
      "outputs": []
    },
    {
      "cell_type": "code",
      "metadata": {
        "id": "BLJ-niuGbG-v",
        "colab_type": "code",
        "colab": {}
      },
      "source": [
        "list_11=[100, 200, 300]\n",
        "list_12=[150, 250, 350]\n",
        "list_11.append(list_12)\n",
        "print(list_11)\n",
        "print(list_12)"
      ],
      "execution_count": null,
      "outputs": []
    },
    {
      "cell_type": "markdown",
      "metadata": {
        "id": "69lAGysEbLHH",
        "colab_type": "text"
      },
      "source": [
        "## Operations"
      ]
    },
    {
      "cell_type": "code",
      "metadata": {
        "id": "Gba9-2S5bQzB",
        "colab_type": "code",
        "colab": {}
      },
      "source": [
        "j = [1, 2, 3, 4,5,6,7,8,9,10]\n",
        "j * 2"
      ],
      "execution_count": null,
      "outputs": []
    },
    {
      "cell_type": "code",
      "metadata": {
        "id": "q-DdsBJFbSr_",
        "colab_type": "code",
        "colab": {}
      },
      "source": [
        "[j * 2]"
      ],
      "execution_count": null,
      "outputs": []
    },
    {
      "cell_type": "code",
      "metadata": {
        "id": "YybRd7OzbUh_",
        "colab_type": "code",
        "colab": {}
      },
      "source": [
        "h=j*2\n",
        "k=[j * 2]\n",
        "print(h)\n",
        "print(k)"
      ],
      "execution_count": null,
      "outputs": []
    },
    {
      "cell_type": "code",
      "metadata": {
        "id": "2lM-6s0EbXCm",
        "colab_type": "code",
        "colab": {}
      },
      "source": [
        "h.append([11, 12, 13])\n",
        "print(h)\n",
        "len(h)"
      ],
      "execution_count": null,
      "outputs": []
    },
    {
      "cell_type": "code",
      "metadata": {
        "id": "LXizD3p0bZkR",
        "colab_type": "code",
        "colab": {}
      },
      "source": [
        "h[-1]"
      ],
      "execution_count": null,
      "outputs": []
    },
    {
      "cell_type": "code",
      "metadata": {
        "id": "swwpq0-ZbbfV",
        "colab_type": "code",
        "colab": {}
      },
      "source": [
        "k.append([11, 12, 13])\n",
        "print(k)\n",
        "len(k)"
      ],
      "execution_count": null,
      "outputs": []
    },
    {
      "cell_type": "code",
      "metadata": {
        "id": "ql88Y1t8bdop",
        "colab_type": "code",
        "colab": {}
      },
      "source": [
        "k[0]"
      ],
      "execution_count": null,
      "outputs": []
    },
    {
      "cell_type": "code",
      "metadata": {
        "id": "vjEHfHCzbfHx",
        "colab_type": "code",
        "colab": {}
      },
      "source": [
        "k[1]"
      ],
      "execution_count": null,
      "outputs": []
    },
    {
      "cell_type": "code",
      "metadata": {
        "id": "ieqUb6jCbf9p",
        "colab_type": "code",
        "colab": {}
      },
      "source": [
        "k"
      ],
      "execution_count": null,
      "outputs": []
    },
    {
      "cell_type": "markdown",
      "metadata": {
        "id": "A3UiQqakZrEB",
        "colab_type": "text"
      },
      "source": [
        "# Quiz"
      ]
    },
    {
      "cell_type": "markdown",
      "metadata": {
        "id": "hbC3GXmsY_JX",
        "colab_type": "text"
      },
      "source": [
        "## Variable"
      ]
    },
    {
      "cell_type": "code",
      "metadata": {
        "id": "OdM1mlyHbqSC",
        "colab_type": "code",
        "colab": {}
      },
      "source": [
        "var1 = \"text variable\"\n",
        "2var2 = \"variable can start with number'\n",
        "_var3 = \"variable can start with underscore'\n",
        "\n",
        "print (var1)\n",
        "print (2var2)\n",
        "print (_var3)"
      ],
      "execution_count": null,
      "outputs": []
    },
    {
      "cell_type": "markdown",
      "metadata": {
        "id": "T4hZ37l6Z3tf",
        "colab_type": "text"
      },
      "source": [
        "# Exam"
      ]
    },
    {
      "cell_type": "markdown",
      "metadata": {
        "id": "8r_rvL0raB_h",
        "colab_type": "text"
      },
      "source": [
        "## IPython"
      ]
    }
  ]
}