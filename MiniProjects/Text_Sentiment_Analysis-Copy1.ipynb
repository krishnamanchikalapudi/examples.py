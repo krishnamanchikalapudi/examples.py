{
 "cells": [
  {
   "cell_type": "markdown",
   "id": "9bd4074e-f3fd-4322-a1de-af77b817a123",
   "metadata": {},
   "source": [
    "# Text Sentiment Analysis\n",
    "The NLTK libraries include a few packages to help solve the issues we experienced in the gender classifier model. \n",
    "\n",
    "* First is the SentimentAnalyzer module, which allows you to include additional features using built-in functions.\n",
    "* The second is called VADER, which stands for Valence Aware Dictionary and Sentiment Reasoner"
   ]
  },
  {
   "cell_type": "code",
   "execution_count": 1,
   "id": "9f474a2e-d9f3-4eca-bcfa-c555e32dafbb",
   "metadata": {},
   "outputs": [],
   "source": [
    "# Warnings\n",
    "import warnings\n",
    "warnings.filterwarnings('ignore')\n",
    "\n",
    "# BEGIN: fix Python or Notebook SSL CERTIFICATE_VERIFY_FAILED\n",
    "import os, ssl\n",
    "if (not os.environ.get('PYTHONHTTPSVERIFY', '') and getattr(ssl, '_create_unverified_context', None)):\n",
    "    ssl._create_default_https_context = ssl._create_unverified_context\n",
    "# END: fix Python or Notebook SSL CERTIFICATE_VERIFY_FAILED"
   ]
  },
  {
   "cell_type": "markdown",
   "id": "bf2ef5b0-dfdd-4a13-8358-9d2a878ec989",
   "metadata": {},
   "source": [
    "## Read website content"
   ]
  },
  {
   "cell_type": "code",
   "execution_count": 7,
   "id": "3800fce7-c099-42e2-b044-b6b51ae0b1b4",
   "metadata": {},
   "outputs": [],
   "source": [
    "import urllib as url\n",
    "import bs4 as bs\n",
    "import html2text\n",
    "import spacy\n",
    "import nltk\n",
    "from nltk.sentiment.vader import SentimentIntensityAnalyzer\n",
    "from IPython.display import HTML, display\n",
    "\n",
    "def sentiment_analysis (content):\n",
    "    article_html = url.request.urlopen(content)\n",
    "    article_html = article_html.read()\n",
    "    html_2_text = html2text.HTML2Text()\n",
    "    html_2_text.ignore_links = True\n",
    "    article_txt = html_2_text.handle(article_html.decode('utf-8'))\n",
    "    nlp = spacy.load(\"en_core_web_sm\")\n",
    "    doc = nlp(article_txt)\n",
    "    # print(f\"Noun phrases: {chunk.text for chunk in doc.noun_chunks}\")\n",
    "    # print(f\"Verbs: {token.lemma_ for token in doc if token.pos_ == 'VERB'}\")\n",
    "    \n",
    "    analyzer = SentimentIntensityAnalyzer()\n",
    "    content_analyzer = analyzer.polarity_scores(article_txt)\n",
    "    # print(f\"Positive score: {content_analyzer['pos']}\")\n",
    "    # print(f\"Negative score: {content_analyzer['neg']}\")\n",
    "    # print(f\"Neutral score: {content_analyzer['neu']}\")\n",
    "    predict_sentiment = ''\n",
    "    if (content_analyzer['compound'] >= 0.3):\n",
    "        predict_sentiment = \"<font color='green'><b>POSITIVE</b></font>\"\n",
    "    elif ((content_analyzer['compound'] >= 0) & (content_analyzer['compound'] < 0.3)):\n",
    "        predict_sentiment = \"<font color='red'><b>NEUTRAL</b></font>\"\n",
    "    elif (content_analyzer['compound'] < 0):\n",
    "        predict_sentiment = \"<font color='red'><b>NEGATIVE</b></font>\"\n",
    "    return predict_sentiment"
   ]
  },
  {
   "cell_type": "markdown",
   "id": "fe3be01a-db53-4fa9-802d-f484fe89fdbd",
   "metadata": {},
   "source": [
    "### Predict sentiment on the content"
   ]
  },
  {
   "cell_type": "code",
   "execution_count": 8,
   "id": "22a73382-1d86-4444-8323-0141effea25c",
   "metadata": {},
   "outputs": [
    {
     "data": {
      "text/html": [
       "\n",
       "Predicted sentiment is <font color='green'><b>POSITIVE</b></font> for the content url: https://www.scu.edu/ethics-in-technology-practice/ethical-toolkit/ "
      ],
      "text/plain": [
       "<IPython.core.display.HTML object>"
      ]
     },
     "metadata": {},
     "output_type": "display_data"
    }
   ],
   "source": [
    "content = \"https://www.scu.edu/ethics-in-technology-practice/ethical-toolkit/\"\n",
    "\n",
    "ethical_toolkit = sentiment_analysis(content)\n",
    "    \n",
    "display(HTML(f\"\\nPredicted sentiment is {ethical_toolkit} for the content url: {content} \"))"
   ]
  },
  {
   "cell_type": "code",
   "execution_count": 9,
   "id": "3e897f2d-9753-4eeb-a23a-fc151300e2cd",
   "metadata": {},
   "outputs": [
    {
     "data": {
      "text/html": [
       "\n",
       "Predicted sentiment is <font color='red'><b>NEGATIVE</b></font> for the content url: https://www.theatlantic.com/technology/archive/2018/03/got-99-problems-but-a-trolley-aint-one/556805/ "
      ],
      "text/plain": [
       "<IPython.core.display.HTML object>"
      ]
     },
     "metadata": {},
     "output_type": "display_data"
    }
   ],
   "source": [
    "content = \"https://www.theatlantic.com/technology/archive/2018/03/got-99-problems-but-a-trolley-aint-one/556805/\"\n",
    "\n",
    "ethics = sentiment_analysis(content)\n",
    "    \n",
    "display(HTML(f\"\\nPredicted sentiment is {ethics} for the content url: {content} \"))"
   ]
  },
  {
   "cell_type": "code",
   "execution_count": 11,
   "id": "0068bfb9-f480-4abe-86a6-6ef9151cf10a",
   "metadata": {},
   "outputs": [
    {
     "data": {
      "text/html": [
       "\n",
       "Predicted sentiment is <font color='green'><b>POSITIVE</b></font> for the content url: https://www.eastern.edu/data "
      ],
      "text/plain": [
       "<IPython.core.display.HTML object>"
      ]
     },
     "metadata": {},
     "output_type": "display_data"
    }
   ],
   "source": [
    "content = \"https://www.eastern.edu/data\"\n",
    "\n",
    "datascience = sentiment_analysis(content)\n",
    "    \n",
    "display(HTML(f\"\\nPredicted sentiment is {datascience} for the content url: {content} \"))"
   ]
  },
  {
   "cell_type": "code",
   "execution_count": 14,
   "id": "7e6784f5-0563-4cae-9519-818ed6b80732",
   "metadata": {},
   "outputs": [
    {
     "data": {
      "text/html": [
       "\n",
       "Predicted sentiment is <font color='red'><b>NEGATIVE</b></font> for the content url: https://www.npr.org/sections/health-shots/2021/07/09/1014512213/covid-is-surging-in-new-hotspots-driven-by-low-vaccination-rates "
      ],
      "text/plain": [
       "<IPython.core.display.HTML object>"
      ]
     },
     "metadata": {},
     "output_type": "display_data"
    }
   ],
   "source": [
    "content = \"https://www.npr.org/sections/health-shots/2021/07/09/1014512213/covid-is-surging-in-new-hotspots-driven-by-low-vaccination-rates\"\n",
    "\n",
    "summeronline = sentiment_analysis(content)\n",
    "    \n",
    "display(HTML(f\"\\nPredicted sentiment is {summeronline} for the content url: {content} \"))"
   ]
  },
  {
   "cell_type": "code",
   "execution_count": null,
   "id": "54325341-617b-433b-bd12-56a12c0e64be",
   "metadata": {},
   "outputs": [],
   "source": []
  }
 ],
 "metadata": {
  "kernelspec": {
   "display_name": "Python 3",
   "language": "python",
   "name": "python3"
  },
  "language_info": {
   "codemirror_mode": {
    "name": "ipython",
    "version": 3
   },
   "file_extension": ".py",
   "mimetype": "text/x-python",
   "name": "python",
   "nbconvert_exporter": "python",
   "pygments_lexer": "ipython3",
   "version": "3.8.5"
  },
  "widgets": {
   "application/vnd.jupyter.widget-state+json": {
    "state": {},
    "version_major": 2,
    "version_minor": 0
   }
  }
 },
 "nbformat": 4,
 "nbformat_minor": 5
}
