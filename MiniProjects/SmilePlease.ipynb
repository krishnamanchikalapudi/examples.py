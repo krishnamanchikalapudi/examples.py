{
 "cells": [
  {
   "cell_type": "markdown",
   "id": "2cbe3974-330e-4567-9d44-efc776bf2c22",
   "metadata": {},
   "source": [
    "# Smile please\n",
    "\n",
    "Pytorch & OpenCV library to take picture from webcam when the person similes :-) "
   ]
  },
  {
   "cell_type": "code",
   "execution_count": null,
   "id": "70a8ebd4-bbd8-4319-9d62-083429f5ce36",
   "metadata": {},
   "outputs": [],
   "source": [
    "!pip install opencv-python torch"
   ]
  },
  {
   "cell_type": "code",
   "execution_count": 1,
   "id": "6a990a4e-0dc7-4228-96c9-832c928fd301",
   "metadata": {},
   "outputs": [],
   "source": [
    "import torch\n",
    "import cv2"
   ]
  },
  {
   "cell_type": "code",
   "execution_count": 2,
   "id": "8fed4966-6c95-40b8-95fe-b52db24fdd36",
   "metadata": {},
   "outputs": [],
   "source": [
    "# BEGIN: fix Python or Notebook SSL CERTIFICATE_VERIFY_FAILED\n",
    "import os, ssl\n",
    "if (not os.environ.get('PYTHONHTTPSVERIFY', '') and getattr(ssl, '_create_unverified_context', None)):\n",
    "    ssl._create_default_https_context = ssl._create_unverified_context\n",
    "# END: fix Python or Notebook SSL CERTIFICATE_VERIFY_FAILED"
   ]
  },
  {
   "cell_type": "markdown",
   "id": "1ad7ffcd-538c-4ec2-89a6-a10e918f1387",
   "metadata": {},
   "source": [
    "## Open WebCam"
   ]
  },
  {
   "cell_type": "code",
   "execution_count": 5,
   "id": "a4c0f9e5-b764-464e-b2ec-44088c1255f2",
   "metadata": {},
   "outputs": [
    {
     "data": {
      "text/plain": [
       "<VideoCapture 0x7fe4dbab9210>"
      ]
     },
     "execution_count": 5,
     "metadata": {},
     "output_type": "execute_result"
    }
   ],
   "source": [
    "cap = cv2.VideoCapture(1)\n",
    "cap"
   ]
  },
  {
   "cell_type": "markdown",
   "id": "dbb46c52-ddd2-4ec2-a18e-07f581557fc8",
   "metadata": {},
   "source": [
    "## Pre trained Model data\n",
    "OpenCV pretrained classifier data available at https://github.com/opencv/opencv/tree/master/data/haarcascades"
   ]
  },
  {
   "cell_type": "code",
   "execution_count": 4,
   "id": "8c0c5ad1-e5c1-4363-bc5f-201a4c759a1d",
   "metadata": {},
   "outputs": [
    {
     "data": {
      "text/plain": [
       "(<CascadeClassifier 0x7fe4dbab9150>, <CascadeClassifier 0x7fe4dbab9050>)"
      ]
     },
     "execution_count": 4,
     "metadata": {},
     "output_type": "execute_result"
    }
   ],
   "source": [
    "# face_cascade = cv2.CascadeClassifier(cv2.data.haarcascades + \"haarcascade_frontalface_default.xml\") \n",
    "# smile_cascade = cv2.CascadeClassifier(cv2.data.haarcascades + 'haarcascade_smile.xml')\n",
    "\n",
    "face_cascade = cv2.CascadeClassifier( \"https://raw.githubusercontent.com/opencv/opencv/master/data/haarcascades/haarcascade_frontalface_default.xml\")\n",
    "smile_cascade = cv2.CascadeClassifier('https://raw.githubusercontent.com/opencv/opencv/master/data/haarcascades/haarcascade_smile.xml')\n",
    "face_cascade, smile_cascade"
   ]
  },
  {
   "cell_type": "code",
   "execution_count": null,
   "id": "89467ed9-9b6a-4cf9-a642-d5881a15bf8e",
   "metadata": {},
   "outputs": [],
   "source": [
    "while True:\n",
    "    frame = cap.read()\n",
    "    fram"
   ]
  },
  {
   "cell_type": "code",
   "execution_count": null,
   "id": "9b279844-5e32-4dff-9cf0-88488da0a730",
   "metadata": {},
   "outputs": [],
   "source": [
    "while True: # run in loop\n",
    "    _, frame = cap.read()\n",
    "    original_frame = frame.copy()\n",
    "    \n",
    "    gray = cv2.cvtColor(frame, cv2.COLOR_BGR2GRAY)\n",
    "    face = face_cascade.detectMultiScale(gray, 1.3, 5)\n",
    "    \n",
    "    for x, y, w, h in face:\n",
    "        cv2.rectangle(frame, (x, y), (x + w, y + h), (0, 255, 255), 2)\n",
    "        face_roi = frame[y:y+h, x:x+w]\n",
    "        gray_roi = gray[y:y+h, x:x+w]\n",
    "        smile = smile_cascade.detectMultiScale(gray_roi, 1.3, 25)\n",
    "        for x1, y1, w1, h1 in smile:\n",
    "            cv2.rectangle(face_roi, (x1, y1), (x1+w1, y1+h1), (0, 0, 255), 2)\n",
    "            time_stamp = datetime.datetime.now().strftime('%Y-%m-%d-%H-%M-%S')\n",
    "            file_name = f'selfie-{time_stamp}.png'\n",
    "            cv2.imwrite(file_name, original_frame)\n",
    "    cv2.imshow('cam star', frame)\n",
    "    if cv2.waitKey(10) == ord('q'): # break on button 'Q' press\n",
    "        break"
   ]
  },
  {
   "cell_type": "code",
   "execution_count": null,
   "id": "6ab28caa-b60b-4892-ab32-a41d90470b46",
   "metadata": {},
   "outputs": [],
   "source": []
  }
 ],
 "metadata": {
  "kernelspec": {
   "display_name": "Python 3",
   "language": "python",
   "name": "python3"
  },
  "language_info": {
   "codemirror_mode": {
    "name": "ipython",
    "version": 3
   },
   "file_extension": ".py",
   "mimetype": "text/x-python",
   "name": "python",
   "nbconvert_exporter": "python",
   "pygments_lexer": "ipython3",
   "version": "3.8.5"
  },
  "widgets": {
   "application/vnd.jupyter.widget-state+json": {
    "state": {},
    "version_major": 2,
    "version_minor": 0
   }
  }
 },
 "nbformat": 4,
 "nbformat_minor": 5
}
