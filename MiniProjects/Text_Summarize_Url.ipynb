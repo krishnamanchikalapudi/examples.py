{
 "cells": [
  {
   "cell_type": "markdown",
   "id": "08a369ad-3b4c-4192-804b-f598ce0065b6",
   "metadata": {},
   "source": [
    "# Introduction"
   ]
  },
  {
   "cell_type": "markdown",
   "id": "9cce1cad-96c6-4ec8-9654-f2674dbe5ecb",
   "metadata": {},
   "source": [
    "Read website content and summarize "
   ]
  },
  {
   "cell_type": "code",
   "execution_count": 1,
   "id": "eb051742-497d-41a2-9ec1-084998b0e31f",
   "metadata": {},
   "outputs": [],
   "source": [
    "# Warnings\n",
    "import warnings\n",
    "warnings.filterwarnings('ignore')\n",
    "\n",
    "# BEGIN: fix Python or Notebook SSL CERTIFICATE_VERIFY_FAILED\n",
    "import os, ssl\n",
    "if (not os.environ.get('PYTHONHTTPSVERIFY', '') and getattr(ssl, '_create_unverified_context', None)):\n",
    "    ssl._create_default_https_context = ssl._create_unverified_context\n",
    "# END: fix Python or Notebook SSL CERTIFICATE_VERIFY_FAILED"
   ]
  },
  {
   "cell_type": "markdown",
   "id": "451d2ffc-6060-40ce-81b9-243b084e2e70",
   "metadata": {},
   "source": [
    "## Installing pre-requsite libraries"
   ]
  },
  {
   "cell_type": "code",
   "execution_count": 2,
   "id": "be140368-168b-4f98-868b-6bc97752ca0b",
   "metadata": {},
   "outputs": [
    {
     "name": "stdout",
     "output_type": "stream",
     "text": [
      "\u001b[33mWARNING: Ignoring invalid distribution -ornado (/Library/Frameworks/Python.framework/Versions/3.8/lib/python3.8/site-packages)\u001b[0m\n",
      "\u001b[33mWARNING: Ignoring invalid distribution -ornado (/Library/Frameworks/Python.framework/Versions/3.8/lib/python3.8/site-packages)\u001b[0m\n",
      "Requirement already satisfied: pip in /Library/Frameworks/Python.framework/Versions/3.8/lib/python3.8/site-packages (21.1.3)\n",
      "\u001b[33mWARNING: Ignoring invalid distribution -ornado (/Library/Frameworks/Python.framework/Versions/3.8/lib/python3.8/site-packages)\u001b[0m\n",
      "\u001b[33mWARNING: Ignoring invalid distribution -ornado (/Library/Frameworks/Python.framework/Versions/3.8/lib/python3.8/site-packages)\u001b[0m\n",
      "\u001b[33mWARNING: Ignoring invalid distribution -ornado (/Library/Frameworks/Python.framework/Versions/3.8/lib/python3.8/site-packages)\u001b[0m\n"
     ]
    }
   ],
   "source": [
    "!python3 -m pip install --upgrade pip "
   ]
  },
  {
   "cell_type": "code",
   "execution_count": 3,
   "id": "3cc5512b-5d84-40d4-85c5-67c4bdb305bf",
   "metadata": {},
   "outputs": [
    {
     "name": "stdout",
     "output_type": "stream",
     "text": [
      "\u001b[33mWARNING: Ignoring invalid distribution -ornado (/Library/Frameworks/Python.framework/Versions/3.8/lib/python3.8/site-packages)\u001b[0m\n",
      "\u001b[33mWARNING: Ignoring invalid distribution -ornado (/Library/Frameworks/Python.framework/Versions/3.8/lib/python3.8/site-packages)\u001b[0m\n",
      "Requirement already satisfied: beautifulsoup4 in /Library/Frameworks/Python.framework/Versions/3.8/lib/python3.8/site-packages (4.9.3)\n",
      "Requirement already satisfied: nltk in /Library/Frameworks/Python.framework/Versions/3.8/lib/python3.8/site-packages (3.6.2)\n",
      "Requirement already satisfied: soupsieve>1.2 in /Library/Frameworks/Python.framework/Versions/3.8/lib/python3.8/site-packages (from beautifulsoup4) (2.2.1)\n",
      "Requirement already satisfied: tqdm in /Library/Frameworks/Python.framework/Versions/3.8/lib/python3.8/site-packages (from nltk) (4.61.1)\n",
      "Requirement already satisfied: regex in /Library/Frameworks/Python.framework/Versions/3.8/lib/python3.8/site-packages (from nltk) (2021.4.4)\n",
      "Requirement already satisfied: joblib in /Library/Frameworks/Python.framework/Versions/3.8/lib/python3.8/site-packages (from nltk) (1.0.1)\n",
      "Requirement already satisfied: click in /Library/Frameworks/Python.framework/Versions/3.8/lib/python3.8/site-packages (from nltk) (8.0.1)\n",
      "\u001b[33mWARNING: Ignoring invalid distribution -ornado (/Library/Frameworks/Python.framework/Versions/3.8/lib/python3.8/site-packages)\u001b[0m\n",
      "\u001b[33mWARNING: Ignoring invalid distribution -ornado (/Library/Frameworks/Python.framework/Versions/3.8/lib/python3.8/site-packages)\u001b[0m\n",
      "\u001b[33mWARNING: Ignoring invalid distribution -ornado (/Library/Frameworks/Python.framework/Versions/3.8/lib/python3.8/site-packages)\u001b[0m\n"
     ]
    }
   ],
   "source": [
    "!pip install -U beautifulsoup4 nltk"
   ]
  },
  {
   "cell_type": "markdown",
   "id": "5a7dcc44-b348-4162-b8d9-2bbfbe85b1bc",
   "metadata": {},
   "source": [
    "### Import libraries"
   ]
  },
  {
   "cell_type": "code",
   "execution_count": 4,
   "id": "f3731d6d-27f5-4f61-991a-3cb631068237",
   "metadata": {},
   "outputs": [
    {
     "name": "stderr",
     "output_type": "stream",
     "text": [
      "[nltk_data] Downloading package punkt to\n",
      "[nltk_data]     /Users/krishnamanchikalapudi/nltk_data...\n",
      "[nltk_data]   Package punkt is already up-to-date!\n",
      "[nltk_data] Downloading package stopwords to\n",
      "[nltk_data]     /Users/krishnamanchikalapudi/nltk_data...\n",
      "[nltk_data]   Package stopwords is already up-to-date!\n"
     ]
    }
   ],
   "source": [
    "import urllib as url\n",
    "import bs4 as bs\n",
    "import pandas as pd\n",
    "import nltk\n",
    "nltk.download('punkt')\n",
    "nltk.download(\"stopwords\")\n",
    "\n",
    "import re, string, unicodedata\n",
    "from heapq import nlargest\n",
    "from nltk.corpus import stopwords\n",
    "from nltk.stem import PorterStemmer\n",
    "from nltk.tokenize import word_tokenize, sent_tokenize\n",
    "\n",
    "from IPython.display import HTML, display"
   ]
  },
  {
   "cell_type": "code",
   "execution_count": 5,
   "id": "515de5db-bd9a-44bd-bb9a-0e41aca5fd93",
   "metadata": {},
   "outputs": [],
   "source": [
    "def _create_frequency_table(text_string) -> dict:\n",
    "    \"\"\"\n",
    "    we create a dictionary for the word frequency table.\n",
    "    For this, we should only use the words that are not part of the stopWords array.\n",
    "    Removing stop words and making frequency table\n",
    "    Stemmer - an algorithm to bring words to its root word.\n",
    "    :rtype: dict\n",
    "    \"\"\"\n",
    "    stopWords = set(stopwords.words(\"english\"))\n",
    "    words = word_tokenize(text_string)\n",
    "    ps = PorterStemmer()\n",
    "\n",
    "    freqTable = dict()\n",
    "    for word in words:\n",
    "        word = ps.stem(word)\n",
    "        if word in stopWords:\n",
    "            continue\n",
    "        if word in freqTable:\n",
    "            freqTable[word] += 1\n",
    "        else:\n",
    "            freqTable[word] = 1\n",
    "\n",
    "    return freqTable\n",
    "\n",
    "\n",
    "def _score_sentences(sentences, freqTable) -> dict:\n",
    "    \"\"\"\n",
    "    score a sentence by its words\n",
    "    Basic algorithm: adding the frequency of every non-stop word in a sentence divided by total no of words in a sentence.\n",
    "    :rtype: dict\n",
    "    \"\"\"\n",
    "\n",
    "    sentenceValue = dict()\n",
    "\n",
    "    for sentence in sentences:\n",
    "        word_count_in_sentence = (len(word_tokenize(sentence)))\n",
    "        word_count_in_sentence_except_stop_words = 0\n",
    "        for wordValue in freqTable:\n",
    "            if wordValue in sentence.lower():\n",
    "                word_count_in_sentence_except_stop_words += 1\n",
    "                if sentence[:10] in sentenceValue:\n",
    "                    sentenceValue[sentence[:10]] += freqTable[wordValue]\n",
    "                else:\n",
    "                    sentenceValue[sentence[:10]] = freqTable[wordValue]\n",
    "\n",
    "        if sentence[:10] in sentenceValue:\n",
    "            sentenceValue[sentence[:10]] = sentenceValue[sentence[:10]] / word_count_in_sentence_except_stop_words\n",
    "\n",
    "        '''\n",
    "        Notice that a potential issue with our score algorithm is that long sentences will have an advantage over short sentences. \n",
    "        To solve this, we're dividing every sentence score by the number of words in the sentence.\n",
    "        \n",
    "        Note that here sentence[:10] is the first 10 character of any sentence, this is to save memory while saving keys of\n",
    "        the dictionary.\n",
    "        '''\n",
    "\n",
    "    return sentenceValue\n",
    "\n",
    "\n",
    "def _find_average_score(sentenceValue) -> int:\n",
    "    \"\"\"\n",
    "    Find the average score from the sentence value dictionary\n",
    "    :rtype: int\n",
    "    \"\"\"\n",
    "    sumValues = 0\n",
    "    for entry in sentenceValue:\n",
    "        sumValues += sentenceValue[entry]\n",
    "\n",
    "    # Average value of a sentence from original text\n",
    "    average = (sumValues / len(sentenceValue))\n",
    "\n",
    "    return average\n",
    "\n",
    "\n",
    "def _generate_summary(sentences, sentenceValue, threshold):\n",
    "    sentence_count = 0\n",
    "    summary = ''\n",
    "\n",
    "    for sentence in sentences:\n",
    "        if sentence[:10] in sentenceValue and sentenceValue[sentence[:10]] >= (threshold):\n",
    "            summary += \" \" + sentence\n",
    "            sentence_count += 1\n",
    "\n",
    "    return summary"
   ]
  },
  {
   "cell_type": "markdown",
   "id": "b8e49486-2f84-4d9e-aae4-e451ff398d30",
   "metadata": {},
   "source": [
    "### Read public url content"
   ]
  },
  {
   "cell_type": "code",
   "execution_count": 6,
   "id": "4d59e7a5-e4c6-48b7-b91e-3adbc60f3723",
   "metadata": {},
   "outputs": [],
   "source": [
    "content = \"https://www.scu.edu/ethics-in-technology-practice/ethical-lenses/\"\n",
    "article = url.request.urlopen(content)\n",
    "article = article.read()\n",
    "# article"
   ]
  },
  {
   "cell_type": "markdown",
   "id": "ab51e06a-e9f7-469e-b2b2-75a84ba40913",
   "metadata": {},
   "source": [
    "## Parsing the article\n",
    "* Beautiful Soup documentation at https://www.crummy.com/software/BeautifulSoup/bs4/doc/"
   ]
  },
  {
   "cell_type": "code",
   "execution_count": 7,
   "id": "291b6134-dca4-49e1-9f76-d07d42b69f2c",
   "metadata": {},
   "outputs": [],
   "source": [
    "parse_article = bs.BeautifulSoup(article, 'html.parser')"
   ]
  },
  {
   "cell_type": "markdown",
   "id": "45f6f856-cb1e-43b8-899b-298903820232",
   "metadata": {},
   "source": [
    "### Extract Pragraphs from the content"
   ]
  },
  {
   "cell_type": "code",
   "execution_count": 8,
   "id": "353c4cc0-01fb-49aa-8ed9-f42bd7b2da6f",
   "metadata": {},
   "outputs": [],
   "source": [
    "paragraphs = parse_article.find_all('p')\n",
    "article_text = ''\n",
    "for p in paragraphs:\n",
    "    article_text += p.text \n",
    "# article_text"
   ]
  },
  {
   "cell_type": "markdown",
   "id": "6d5edb05-c269-4423-9ef6-ae654549b533",
   "metadata": {},
   "source": [
    "## Tokenize the article content"
   ]
  },
  {
   "cell_type": "code",
   "execution_count": 9,
   "id": "9c34621f-1185-49c3-af38-44a83327c150",
   "metadata": {},
   "outputs": [],
   "source": [
    "tokens = word_tokenize(article_text)\n",
    "# tokens"
   ]
  },
  {
   "cell_type": "code",
   "execution_count": 10,
   "id": "7585d836-0b5b-418a-89ba-49caa6d4019d",
   "metadata": {},
   "outputs": [],
   "source": [
    "stop_words = stopwords.words('english')\n",
    "punctuation = string.punctuation + '\\n'\n",
    "# punctuation"
   ]
  },
  {
   "cell_type": "markdown",
   "id": "be3cf65f-2796-4ebd-80c6-c48ac2c0a607",
   "metadata": {},
   "source": [
    "### Find frequent words in the article"
   ]
  },
  {
   "cell_type": "code",
   "execution_count": 11,
   "id": "8dc41998-e34d-4feb-8943-7d849a9e39a3",
   "metadata": {},
   "outputs": [],
   "source": [
    "word_frequencies = {}\n",
    "for word in tokens:    \n",
    "    if word.lower() not in stop_words:\n",
    "        if word.lower() not in punctuation:\n",
    "            if word not in word_frequencies.keys():\n",
    "                word_frequencies[word] = 1\n",
    "            else:\n",
    "                word_frequencies[word] += 1\n",
    "    \n",
    "# word_frequencies"
   ]
  },
  {
   "cell_type": "code",
   "execution_count": 12,
   "id": "06b1b588-89e2-4bc7-9346-da1f3953db71",
   "metadata": {},
   "outputs": [
    {
     "name": "stdout",
     "output_type": "stream",
     "text": [
      "47\n"
     ]
    }
   ],
   "source": [
    "max_frequency = 1\n",
    "\n",
    "if (len(word_frequencies) > 0):\n",
    "    max_frequency = max(word_frequencies.values())\n",
    "\n",
    "print(max_frequency)"
   ]
  },
  {
   "cell_type": "code",
   "execution_count": 13,
   "id": "03e6223e-175f-41c3-ba15-70f5ba80ccc6",
   "metadata": {},
   "outputs": [],
   "source": [
    "for word in word_frequencies.keys():\n",
    "    word_frequencies[word] = word_frequencies[word]/max_frequency\n",
    "\n",
    "# print(word_frequencies)"
   ]
  },
  {
   "cell_type": "code",
   "execution_count": 14,
   "id": "770dd418-63f6-4c8f-9ee9-a3fb9fe70154",
   "metadata": {},
   "outputs": [],
   "source": [
    "sent_token = sent_tokenize(article_text)\n",
    "# sent_token"
   ]
  },
  {
   "cell_type": "code",
   "execution_count": 15,
   "id": "422c4759-7181-48bc-ae4f-a05cfc13688c",
   "metadata": {},
   "outputs": [],
   "source": [
    "sentence_scores = {}\n",
    "for sent in sent_token:\n",
    "    sentence = sent.split(\" \")\n",
    "    for word in sentence:        \n",
    "        if word.lower() in word_frequencies.keys():\n",
    "            if sent not in sentence_scores.keys():\n",
    "                sentence_scores[sent] = word_frequencies[word.lower()]\n",
    "            else:\n",
    "                sentence_scores[sent] += word_frequencies[word.lower()]\n",
    "\n",
    "# sentence_scores"
   ]
  },
  {
   "cell_type": "code",
   "execution_count": 16,
   "id": "024cf63e-99d3-4a3d-a2ba-84b218a3be4b",
   "metadata": {},
   "outputs": [
    {
     "data": {
      "text/plain": [
       "40"
      ]
     },
     "execution_count": 16,
     "metadata": {},
     "output_type": "execute_result"
    }
   ],
   "source": [
    "select_length = int(len(sent_token)*0.3)\n",
    "select_length"
   ]
  },
  {
   "cell_type": "code",
   "execution_count": 17,
   "id": "eaf151ce-f008-4c01-9e9e-875efad71026",
   "metadata": {},
   "outputs": [],
   "source": [
    "summary = nlargest(select_length, sentence_scores, key = sentence_scores.get)\n",
    "\n",
    "# summary"
   ]
  },
  {
   "cell_type": "code",
   "execution_count": 18,
   "id": "610a7701-9a6a-4ae5-96fd-26f381660383",
   "metadata": {},
   "outputs": [],
   "source": [
    "final_summary = [word for word in summary]\n",
    "\n",
    "summary = ' '.join(final_summary)\n",
    "\n",
    "# print(f\"Original article words: {len(article_text)}, Summary words: {len(summary)}\\n\\n\")\n",
    "# summary = summary.replace('\\u200c', '')\n",
    "str_en = summary.encode(\"ascii\", \"ignore\")\n",
    "summary = str_en.decode()\n",
    "\n",
    "# remove urls\n",
    "# summary = re.sub(r\"http\\S+\", \"\", summary)\n",
    "summary = summary.replace('http', ' http')\n",
    "# summary = re.sub(r'^https?:\\/\\/.*[\\r\\n]*', '', summary)"
   ]
  },
  {
   "cell_type": "markdown",
   "id": "7340c81f-6d20-417d-b948-bcede5af1753",
   "metadata": {},
   "source": [
    "## Original content Summary"
   ]
  },
  {
   "cell_type": "code",
   "execution_count": 19,
   "id": "912c1937-c6c3-4be6-97e2-db33d84e8d89",
   "metadata": {},
   "outputs": [
    {
     "data": {
      "text/html": [
       "And yet, we cannot design in a value-neutral waythat is impossible, and the illusion that we can do so is arguably more dangerous than knowingly imposing values on others without their consent, because it does the same thingjust without the accountability.Technologists will design with ethical values in mind; the only question is whether they will do so in ways that are careful, reflective, explicit, humble, transparent, and responsive to stakeholder feedback, or in ways that are arrogant, opaque, and irresponsible.While moral and intellectual humility requires us to admit that our ethical perspective is always incomplete and subject to cognitive and cultural blind spots, the processes of ethical feedback and iteration can be calibrated to invite a more diverse/pluralistic range of ethical feedback, as our designs spread to new regions, cultures, and communities.Examples of Global Ethical Issues in Tech Practice:Facial-recognition, social media, and other digital technologies are being used in a grand project of social engineering in China to produce a universal social-credit system in which the social status and privileges of individuals will be powerfully enhanced or curtailed depending on the score that the government system assigns them as a measure of their social virtuetheir ability to promote a system of social harmony.Many Western ethicists view this system as profoundly dystopic and morally dangerous. Virtue ethics also incorporates a unique element of moral intelligence, called practical wisdom, that unites several faculties: moral perception (awareness of salient moral facts and events), moral emotion (feeling the appropriate moral responses to the situation), and moral imagination (envisioning and skillfully inventing appropriate, well-calibrated moral responses to new situations and contexts).The ethical issues and concerns frequently highlighted by looking through this ethical lens include, but are not limited to:Examples of Virtue-Related Ethical Issues in Tech Practice:Many websites have given people access to news sources that are subsidized only by online advertising, elevated to mass visibility by popularity and page views, and vulnerable to being gamed by armies of bots, trolls, and foreign adversaries. The ethical issues and concerns frequently highlighted by looking through this ethical lens include, but are not limited to:Examples of Justice/Fairness-Related Ethical Issues in Tech Practice:How does a digital advertising app that allows people to place custom housing or job ads that target only people under 40, or only people in specific zip codes, impact fairness and justice?How does design impact the accessibility of various products for people with disabilities, or for people who can only afford older, cheaper technology tools?How should facial recognition tools (or other algorithmic tools that are typically trained on unrepresentative datasets and are therefore far less accurate for some people and groups than for others) be used, if at all, and in which contexts, if any?Looking through this lens enables us to see that technologies often distribute benefits and harms unevenly, and frequently exacerbate or perpetuate preexisting unfair societal conditions. So, benefiting from ones action toward another person is only permissible if that persons own autonomy and dignity is not violated in the process, and if the person being treated as a means would consent to such treatment as part of their own autonomously chosen ends.The ethical issues and concerns frequently highlighted by looking through this ethical lens include, but are not limited to:Examples of Rights-Related Ethical Issues in Tech Practice:In what way does a virtual banking assistant that is deliberately designed to deceive users (for example by actively representing itself as a human) violate a moral rule or principle such as the Kantian imperative to never treat a person as a mere means to an end? The virtuous soldier reliably sees the difference, and acts accordinglythat is, wisely, finding the appropriate mean between foolish extremes (in this case, the vices of cowardice and rashness), where those are always relative to the context (an act that is rash in one context may be courageous in another).While other ethical lenses focus our moral attention outward, onto our future technological choices and/or their consequences, virtue ethics reminds us to also reflect inwardon who we are, who we want to become as morally expert technologists, and how we can get there.It also asks us to describe the model of moral excellence in our field that we are striving to emulate, or even surpass. They include not only physical, but psychological, emotional, cognitive, moral, institutional, environmental, and political well-being or injury, or degradation.The ethical issues and concerns frequently highlighted by looking through this ethical lens include, but are not limited to:Example of Utilitarian Ethical Issues in Tech Practice:When technologists designed the first wave of apps to be maximally sticky, to keep users coming back to their apps or devices, most did not anticipate doing their users moral harm. Most important is this question: what VR design choices would make the first, ethically desirable outcome more likely than the second, ethically undesirable one?Related Questions for Technologists that Illuminate the Ethical Landscape:Global Ethical PerspectivesThere is no way to offer an overview of the full range of ethical perspectives and frameworks that the human family has developed over the millennia since our species became capable of explicit ethical reflection. ).The ethical issues and concerns frequently highlighted by looking through this ethical lens include, but are not limited to:Example of Common Good Ethical Issues in Tech Practice:In our discussion of technology addiction (under the analysis of utilitarianism above), we noted its impact on individual happiness and well-being. Technology use, data storage, and energy-intensive training of AI models also impact the environment in ways that implicate the common good.In addition, with everything from weapons to pacemakers now being connected to the internet, cybersecurity has become one of the conditions required for the common good.Related Questions for Technologists that Illuminate the Ethical Landscape:The Virtue Ethics PerspectiveOverviewVirtue ethics is more difficult to encapsulate than the other ethical frameworks. A brief discussion of such frameworks is included on p. 11 of this guide.Each section below includes a brief overview of one ethical theory, examples that reflect its relevance to technologists, and a list of helpful questions that technologists/design teams can ask to provoke ethical reflection through that lens.The Rights PerspectiveOverviewThis ethical lens focuses on moral rules, rights, principles, and duties. Or should technologists be guided by their own personal values, the values of the nation in which they reside, or the ethical principles set out by their company?This example illustrates the depth of the ethical challenge presented by global conflicts of ethical vision. Thus a technology that might seem to satisfy a utilitarian (by making most individuals personally happy, say through neurochemical intervention) might fail the common good test if the result was a loss of community life and health (for example, if those people spent their lives detached from others--like addicts drifting in a technologically-induced state of personal euphoria).Common good ethicists will also look at the impact of a practice on morally significant institutions that are critical to the life of communitiesfor example on government, the justice system, or education, or on supporting ecosystems and ecologies. In this way, a basic grasp of ethical theory can work like a field guide for practical ethical concerns.Many ethical theories can frame our thinking; here we focus on several that are widely used by both academic and professional ethicists, including tech ethicists in particular. This creates a special kind of challenge when we encounter rights, principles, or duties that conflictwhere it is impossible to follow one moral rule without breaking another, or to fulfill our moral duties to one stakeholder without failing to fulfill a moral duty to another. Common good frameworks also share commonalities with cultural perspectives in which promoting social harmony and stable functioning may be seen as more ethically important than maximizing the autonomy and welfare of isolated individuals.For practical purposes, it can be helpful to view the utilitarian and common good approaches as complementary lenses that provoke us to consider both individual and communal welfare, even when these are in tension. Ethics, Technology, and Engineering: AnIntroduction. Hoboken: Wiley-Blackwell.Online ResourcesThe Ethics of Innovation(2014 post from Chris Fabian and Robert Fabricant in Stanford Social Innovation Review, includes 9 principles of ethical innovation) https://ssir.org/articles/entry/the_ethics_of_innovationEthics for Designers (Toolkit from Delft University researcher) https://www.ethicsfordesigners.com/The Ultimate Guide to Engineering Ethics(Ohio University) https://onlinemasters.ohio.edu/ultimate-guide-to-engineering-ethics/Code of Ethics, National Society of Professional Engineers https://www.nspe.org/resources/ethics/code-ethicsMarkkula Center for Applied Ethics, Technology Ethics Teaching Modules (introductions to software engineering ethics, data ethics, cybersecurity ethics, privacy) https://www.scu.edu/ethics/focus-areas/internet-ethics/teaching-modules/Markkula Center for Applied Ethics, Resources for Ethical Decision-Making https://www.scu.edu/ethics/ethics-resources/ethical-decision-making/Vari Hall, Santa Clara University500 El Camino RealSanta Clara, CA 95053408-554-5319 It also stresses the need for technologists to consult stakeholders who may be very differently situated from themselves, in order to truly understand (rather than assume) the potential benefits of a product, as well as to be made aware of harms that they might have otherwise missed.Justice/Fairness-Related Questions for Technologists that Illuminate the Ethical Landscape:The Utilitarian PerspectiveOverviewUtilitarian ethics, in its most complete formulation by John Stuart Mill (1806-1873), asks us to weigh the overall happiness or welfare that our action is likely to bring about, for all those affected and over the long term. It helps to explain why we have seen so many pernicious moral effects of this situation even though the individual acts of social media companies appeared morally benign; no individual person was wronged by having access to news articles on various social media platforms, and even the individual consequences didnt seem so destructive initially. Such dialogues will not always produce ethical consensus, but they can help give shape to the conversation we must begin to have about the future of global human flourishing in a technological age, one in which technology increasingly links our fortunes together.Questions for Technologists that Illuminate the Global Ethical Landscape:References and Further ReadingAristotle [350 B.C.E.] As Aristotle says, we are what we repeatedly do. We are not born honest or dishonest, but we become one or the other only by forming virtuous or vicious habits with respect to the truth.Virtue ethics is also highly context-sensitive: each moral response is unique and even our firmest moral habits must be adaptable to individual situations. Leading device manufacturers now increasingly admit this by building tools to fight tech addiction.Related Questions for Technologists that Illuminate the Ethical Landscape:The Common Good PerspectiveOverviewAnother approach to ethical thinking is to focus on the common good, which highlights shared social institutions, communities, and relationships (instead of utilitarianisms concentration on the aggregate welfare/happiness of individuals). An excellent example of this is the increasingly standard design requirement for strong passwords.Rights-Related Questions for Technologists that Illuminate the Ethical Landscape:The Justice/Fairness PerspectiveOverviewThis widely used ethical lens focuses on giving individualsor groupstheir due. In such cases we must determine which rights, principles, and duties carry the most ethical force in that situation, and/or find a solution that minimizes the ethical violation when no-win scenarios (often called wicked moral situations) occur. What matters is that technologists remain vigilant and humble enough to remember that whatever ethical frameworks may be most familiar or natural to them and their colleagues, they only amount to a tiny fraction of the ways of seeing the ethical landscape that their potential users and impacted communities may adopt. Physical pleasure and pain are not the most significant metrics; although they do count, Mill argues that, at least for human beings, intellectual and psychological happiness are of an even higher moral quality and significance.Utilitarianism is attractive to many engineers because in theory it implies the ability to quantify the ethical analysis and select for the optimal outcome (generating the greatest overall happiness with the least suffering). Thus the rights perspective still requires careful ethical reflection and judgment to be used well; it is not a simple moral checklist that can be mindlessly implemented.Rules-based systems of ethics range from the most general, such as the golden rule, to theories such as that of W.D.  However, these are ethical theories developed largely in the context of Western philosophical thought; our selection must not be taken as a license to ignore the rich range of ethical frameworks available in other cultural contexts. It is an endless task of skillfully navigating a messy, open-ended, constantly shifting social landscape in which we must find ways to maintain and support human flourishing with others, and in which novel circumstances and contexts are always emerging that call upon us to adapt our existing ethical heuristics, or invent new, bespoke ones on the spot. Virtue ethics essentially recognizes the necessary incompleteness of any set of moral rules or principles, and the need for people with well-habituated virtues of moral character and well-cultivated, practically wise moral judgment to fill the gap.Aristotle (384-322 B.C.) Using the utilitarian and common good lenses while doing tech ethics is like watching birds while using special glasses that help us zoom out from an individual bird to survey a dynamic network (the various members of a moving flock), and then try to project the overall direction of the flocks travel as best we can (is this project overall going to make peoples lives better? Does a participant in a commercial financial transaction have a moral right not to be lied to, even if a legal loophole means there is no legal right violated here?Looking through the rights lens means anticipating contexts in which violations of autonomy, dignity, or trust might show up, regardless of whether there was malign intent or whether material harms were done to peoples interests. The two most commonly used in practical ethics are the formula of the universal law of nature and the formula of humanity. The first tells us that we should only act upon principles/maxims that we would be willing to impose upon every rational agent, as if the rule behind our practice were to become a universal law of nature that everyone, everywhere, had to follow. But it is helpful to remember that the moral perspectives in the conference room/lab/board meeting are never exhaustive, and that they are likely to be biased in favor of the moral perspectives most familiar to whoever happens to occupy the dominant cultural majority in the room, company, or society. Conceptual FrameworksDownload as PDFConceptual frameworks drawn from theories that have shaped the study of ethics over centuries can help us recognize and describe ethical issues when we encounter them. While rights and fairness issues are also in play here (since addiction compromises peoples cognitive autonomy), even a utilitarian reading tells us we went wrong, since many of the harmful consequences of sticky design were in fact foreseeable. Common good frameworks help us avoid notorious tragedies of the commons, where rationally seeking to maximize good consequences for every individual leads to damage or destruction of the system that those individuals depend upon to thrive. stated that ethics cannot be approached like mathematics; there is no algorithm for ethics, and moral life is not a well-defined, closed problem for which one could design a single, optimal solution. Yet the technologies we build dont stay in our room, our company, our community, or our nation.New technologies seep outward into the world and spread their effects to peoples and groups who, all too often, dont get a fair say in the moral values that those technologies are designed to reinforce or undermine in their communities. It may be helpful, where possible, to seek ethical dialogue across cultural boundaries and begin to seek common ground with technologists in other cultural spaces. This was not a reasonable assumption, because people make themselves unhappy with their choices all the time, and we are subject to any number of mental compulsions that drive us to choose actions that promise happiness but will not deliver, or will deliver only a very short-term, shallow pleasure while depriving us of a more lasting, substantive kind."
      ],
      "text/plain": [
       "<IPython.core.display.HTML object>"
      ]
     },
     "metadata": {},
     "output_type": "display_data"
    }
   ],
   "source": [
    "display(HTML(summary))"
   ]
  },
  {
   "cell_type": "code",
   "execution_count": 20,
   "id": "cab1dd8a-2575-4b80-9fab-0ef75e914edd",
   "metadata": {},
   "outputs": [
    {
     "name": "stdout",
     "output_type": "stream",
     "text": [
      "Original article words: 28940, Summary words: 266\n",
      "\n",
      "\n"
     ]
    }
   ],
   "source": [
    "# 1 Create the word frequency table\n",
    "freq_table = _create_frequency_table(summary)\n",
    "\n",
    "# We already have a sentence tokenizer, so we just need  to run the sent_tokenize() method to create the array of sentences.\n",
    "\n",
    "# 2 Tokenize the sentences\n",
    "sentences = sent_tokenize(summary)\n",
    "\n",
    "# 3 Important Algorithm: score the sentences\n",
    "sentence_scores = _score_sentences(sentences, freq_table)\n",
    "\n",
    "# 4 Find the threshold\n",
    "threshold = _find_average_score(sentence_scores)\n",
    "\n",
    "# 5 Important Algorithm: Generate the summary\n",
    "summary = _generate_summary(sentences, sentence_scores, 1.3 * threshold)\n",
    "\n",
    "print(f\"Original article words: {len(article_text)}, Summary words: {len(summary)}\\n\\n\")\n"
   ]
  },
  {
   "cell_type": "markdown",
   "id": "6870c5bb-03f3-4268-b2dc-7f4351e2c743",
   "metadata": {},
   "source": [
    "## Summary of Summary"
   ]
  },
  {
   "cell_type": "code",
   "execution_count": 21,
   "id": "505a1a66-1c03-4ec5-8483-bd2ccb45eb92",
   "metadata": {},
   "outputs": [
    {
     "data": {
      "text/html": [
       " Ethics, Technology, and Engineering: AnIntroduction. As Aristotle says, we are what we repeatedly do. It may be helpful, where possible, to seek ethical dialogue across cultural boundaries and begin to seek common ground with technologists in other cultural spaces."
      ],
      "text/plain": [
       "<IPython.core.display.HTML object>"
      ]
     },
     "metadata": {},
     "output_type": "display_data"
    }
   ],
   "source": [
    "display(HTML(summary))"
   ]
  }
 ],
 "metadata": {
  "kernelspec": {
   "display_name": "Python 3",
   "language": "python",
   "name": "python3"
  },
  "language_info": {
   "codemirror_mode": {
    "name": "ipython",
    "version": 3
   },
   "file_extension": ".py",
   "mimetype": "text/x-python",
   "name": "python",
   "nbconvert_exporter": "python",
   "pygments_lexer": "ipython3",
   "version": "3.8.5"
  },
  "widgets": {
   "application/vnd.jupyter.widget-state+json": {
    "state": {},
    "version_major": 2,
    "version_minor": 0
   }
  }
 },
 "nbformat": 4,
 "nbformat_minor": 5
}
