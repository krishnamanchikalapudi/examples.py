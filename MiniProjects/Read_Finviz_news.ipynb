{
 "cells": [
  {
   "cell_type": "markdown",
   "id": "625180b2-2725-404b-9f1e-030a56c45d92",
   "metadata": {},
   "source": [
    "# Stock News "
   ]
  },
  {
   "cell_type": "code",
   "execution_count": 1,
   "id": "f285a94f-7528-4c98-bb50-7a4df3f81f18",
   "metadata": {},
   "outputs": [
    {
     "name": "stdout",
     "output_type": "stream",
     "text": [
      "\u001b[33mWARNING: Ignoring invalid distribution -ornado (/Library/Frameworks/Python.framework/Versions/3.8/lib/python3.8/site-packages)\u001b[0m\n",
      "\u001b[33mWARNING: Ignoring invalid distribution -ornado (/Library/Frameworks/Python.framework/Versions/3.8/lib/python3.8/site-packages)\u001b[0m\n",
      "Requirement already satisfied: finvizfinance in /Library/Frameworks/Python.framework/Versions/3.8/lib/python3.8/site-packages (0.9.8)\n",
      "Requirement already satisfied: pandas in /Library/Frameworks/Python.framework/Versions/3.8/lib/python3.8/site-packages (from finvizfinance) (1.2.5)\n",
      "Requirement already satisfied: lxml in /Library/Frameworks/Python.framework/Versions/3.8/lib/python3.8/site-packages (from finvizfinance) (4.6.3)\n",
      "Requirement already satisfied: datetime in /Library/Frameworks/Python.framework/Versions/3.8/lib/python3.8/site-packages (from finvizfinance) (4.3)\n",
      "Requirement already satisfied: requests in /Library/Frameworks/Python.framework/Versions/3.8/lib/python3.8/site-packages (from finvizfinance) (2.25.1)\n",
      "Requirement already satisfied: bs4 in /Library/Frameworks/Python.framework/Versions/3.8/lib/python3.8/site-packages (from finvizfinance) (0.0.1)\n",
      "Requirement already satisfied: beautifulsoup4 in /Library/Frameworks/Python.framework/Versions/3.8/lib/python3.8/site-packages (from bs4->finvizfinance) (4.9.3)\n",
      "Requirement already satisfied: soupsieve>1.2 in /Library/Frameworks/Python.framework/Versions/3.8/lib/python3.8/site-packages (from beautifulsoup4->bs4->finvizfinance) (2.2.1)\n",
      "Requirement already satisfied: pytz in /Library/Frameworks/Python.framework/Versions/3.8/lib/python3.8/site-packages (from datetime->finvizfinance) (2021.1)\n",
      "Requirement already satisfied: zope.interface in /Library/Frameworks/Python.framework/Versions/3.8/lib/python3.8/site-packages (from datetime->finvizfinance) (5.4.0)\n",
      "Requirement already satisfied: python-dateutil>=2.7.3 in /Library/Frameworks/Python.framework/Versions/3.8/lib/python3.8/site-packages (from pandas->finvizfinance) (2.8.1)\n",
      "Requirement already satisfied: numpy>=1.16.5 in /Library/Frameworks/Python.framework/Versions/3.8/lib/python3.8/site-packages (from pandas->finvizfinance) (1.21.0)\n",
      "Requirement already satisfied: six>=1.5 in /Library/Frameworks/Python.framework/Versions/3.8/lib/python3.8/site-packages (from python-dateutil>=2.7.3->pandas->finvizfinance) (1.15.0)\n",
      "Requirement already satisfied: idna<3,>=2.5 in /Library/Frameworks/Python.framework/Versions/3.8/lib/python3.8/site-packages (from requests->finvizfinance) (2.10)\n",
      "Requirement already satisfied: certifi>=2017.4.17 in /Library/Frameworks/Python.framework/Versions/3.8/lib/python3.8/site-packages (from requests->finvizfinance) (2021.5.30)\n",
      "Requirement already satisfied: urllib3<1.27,>=1.21.1 in /Library/Frameworks/Python.framework/Versions/3.8/lib/python3.8/site-packages (from requests->finvizfinance) (1.26.5)\n",
      "Requirement already satisfied: chardet<5,>=3.0.2 in /Library/Frameworks/Python.framework/Versions/3.8/lib/python3.8/site-packages (from requests->finvizfinance) (4.0.0)\n",
      "Requirement already satisfied: setuptools in /Library/Frameworks/Python.framework/Versions/3.8/lib/python3.8/site-packages (from zope.interface->datetime->finvizfinance) (57.0.0)\n",
      "\u001b[33mWARNING: Ignoring invalid distribution -ornado (/Library/Frameworks/Python.framework/Versions/3.8/lib/python3.8/site-packages)\u001b[0m\n",
      "\u001b[33mWARNING: Ignoring invalid distribution -ornado (/Library/Frameworks/Python.framework/Versions/3.8/lib/python3.8/site-packages)\u001b[0m\n",
      "\u001b[33mWARNING: Ignoring invalid distribution -ornado (/Library/Frameworks/Python.framework/Versions/3.8/lib/python3.8/site-packages)\u001b[0m\n"
     ]
    }
   ],
   "source": [
    "!pip install -U finvizfinance"
   ]
  },
  {
   "cell_type": "code",
   "execution_count": 2,
   "id": "95d49941-43d3-4525-a8ea-9252dfbc482b",
   "metadata": {},
   "outputs": [],
   "source": [
    "# Import libraries\n",
    "import pandas as pd\n",
    "from finvizfinance.quote import finvizfinance\n",
    "\n",
    "# BEGIN: fix Python or Notebook SSL CERTIFICATE_VERIFY_FAILED\n",
    "import os, ssl\n",
    "if (not os.environ.get('PYTHONHTTPSVERIFY', '') and getattr(ssl, '_create_unverified_context', None)):\n",
    "    ssl._create_default_https_context = ssl._create_unverified_context\n",
    "# END: fix Python or Notebook SSL CERTIFICATE_VERIFY_FAILED"
   ]
  },
  {
   "cell_type": "code",
   "execution_count": 3,
   "id": "99db1292-f44e-4ba5-962f-69bce28eae3e",
   "metadata": {},
   "outputs": [],
   "source": [
    "# doc at https://finvizfinance.readthedocs.io/en/latest/\n",
    "\n",
    "stock = finvizfinance('mrna')"
   ]
  },
  {
   "cell_type": "code",
   "execution_count": 4,
   "id": "3cb780f1-3b05-414f-8649-cd3f93183b9a",
   "metadata": {},
   "outputs": [
    {
     "data": {
      "text/plain": [
       "['Major News']"
      ]
     },
     "execution_count": 4,
     "metadata": {},
     "output_type": "execute_result"
    }
   ],
   "source": [
    "signal = stock.TickerSignal()\n",
    "signal"
   ]
  },
  {
   "cell_type": "code",
   "execution_count": 5,
   "id": "bf2878d5-32e5-4fd2-baae-43f94d767393",
   "metadata": {},
   "outputs": [
    {
     "data": {
      "text/plain": [
       "{'fundament': {'Company': 'Moderna, Inc.',\n",
       "  'Sector': 'Healthcare',\n",
       "  'Industry': 'Biotechnology',\n",
       "  'Country': 'USA',\n",
       "  'Index': '-',\n",
       "  'P/E': '187.49',\n",
       "  'EPS (ttm)': '1.25',\n",
       "  'Insider Own': '2.50%',\n",
       "  'Shs Outstand': '400.00M',\n",
       "  'Perf Week': '6.80%',\n",
       "  'Market Cap': '94.49B',\n",
       "  'Forward P/E': '12.92',\n",
       "  'EPS next Y': '-25.94%',\n",
       "  'Insider Trans': '-54.19%',\n",
       "  'Shs Float': '362.63M',\n",
       "  'Perf Month': '22.71%',\n",
       "  'Income': '598.20M',\n",
       "  'PEG': '11.16',\n",
       "  'EPS next Q': '6.04',\n",
       "  'Inst Own': '54.30%',\n",
       "  'Short Float': '3.95%',\n",
       "  'Perf Quarter': '77.37%',\n",
       "  'Sales': '2.73B',\n",
       "  'P/S': '34.59',\n",
       "  'EPS this Y': '-26.10%',\n",
       "  'Inst Trans': '6.63%',\n",
       "  'Short Ratio': '1.49',\n",
       "  'Perf Half Y': '111.56%',\n",
       "  'Book/sh': '9.60',\n",
       "  'P/B': '24.49',\n",
       "  'ROA': '8.50%',\n",
       "  'Target Price': '181.17',\n",
       "  'Perf Year': '281.73%',\n",
       "  'Cash/sh': '19.25',\n",
       "  'P/C': '12.22',\n",
       "  'EPS next 5Y': '16.80%',\n",
       "  'ROE': '19.80%',\n",
       "  '52W Range From': '54.21',\n",
       "  '52W Range To': '245.70',\n",
       "  'Perf YTD': '125.05%',\n",
       "  'Dividend': '-',\n",
       "  'P/FCF': '18.87',\n",
       "  'EPS past 5Y': '-',\n",
       "  'ROI': '-28.40%',\n",
       "  '52W High': '-4.31%',\n",
       "  'Beta': '-',\n",
       "  'Dividend %': '-',\n",
       "  'Quick Ratio': '1.30',\n",
       "  'Sales past 5Y': '-',\n",
       "  'Gross Margin': '92.60%',\n",
       "  '52W Low': '333.70%',\n",
       "  'ATR': '11.71',\n",
       "  'Employees': '1300',\n",
       "  'Current Ratio': '1.40',\n",
       "  'Sales Q/Q': '24112.50%',\n",
       "  'Oper. Margin': '23.20%',\n",
       "  'RSI (14)': '69.80',\n",
       "  'Volatility W': '5.50%',\n",
       "  'Volatility M': '5.90%',\n",
       "  'Optionable': 'Yes',\n",
       "  'Debt/Eq': '0.05',\n",
       "  'EPS Q/Q': '907.10%',\n",
       "  'Profit Margin': '21.90%',\n",
       "  'Rel Volume': '0.61',\n",
       "  'Prev Close': '234.98',\n",
       "  'Shortable': 'Yes',\n",
       "  'LT Debt/Eq': '0.04',\n",
       "  'Earnings': 'May 06 BMO',\n",
       "  'Payout': '0.00%',\n",
       "  'Avg Volume': '9.64M',\n",
       "  'Price': '235.11',\n",
       "  'Recom': '2.60',\n",
       "  'SMA20': '10.13%',\n",
       "  'SMA50': '25.62%',\n",
       "  'SMA200': '71.63%',\n",
       "  'Volume': '5,865,190',\n",
       "  'Change': '0.06%'},\n",
       " 'ratings_outer':          Date     Status                    Outer  \\\n",
       " 0  2021-02-01  Downgrade          BofA Securities   \n",
       " 1  2020-12-16  Downgrade           Morgan Stanley   \n",
       " 2  2020-12-16  Downgrade                Jefferies   \n",
       " 3  2020-12-09  Downgrade                  Needham   \n",
       " 4  2020-11-23  Initiated              Wells Fargo   \n",
       " 5  2020-11-17  Downgrade      BMO Capital Markets   \n",
       " 6  2020-09-08  Downgrade              SVB Leerink   \n",
       " 7  2020-07-23  Initiated              SVB Leerink   \n",
       " 8  2020-07-20  Downgrade                JP Morgan   \n",
       " 9  2020-07-13  Initiated                Jefferies   \n",
       " 10 2020-06-30  Initiated                    Argus   \n",
       " 11 2020-06-08  Initiated                 Barclays   \n",
       " 12 2020-04-30  Initiated      BMO Capital Markets   \n",
       " 13 2020-03-05  Downgrade             BofA/Merrill   \n",
       " 14 2019-12-03    Resumed             BofA/Merrill   \n",
       " 15 2019-10-25  Initiated             ROTH Capital   \n",
       " 16 2019-04-05  Initiated  Chardan Capital Markets   \n",
       " \n",
       "                          Rating       Price  \n",
       " 0        Neutral → Underperform              \n",
       " 1     Overweight → Equal-Weight        $150  \n",
       " 2                    Buy → Hold  $90 → $150  \n",
       " 3                    Buy → Hold              \n",
       " 4                  Equal Weight         $92  \n",
       " 5   Outperform → Market Perform        $109  \n",
       " 6    Mkt Perform → Underperform   $58 → $41  \n",
       " 7                   Mkt Perform              \n",
       " 8          Overweight → Neutral         $89  \n",
       " 9                           Buy         $90  \n",
       " 10                          Buy         $80  \n",
       " 11                   Overweight         $68  \n",
       " 12                   Outperform         $83  \n",
       " 13                Buy → Neutral         $32  \n",
       " 14                          Buy              \n",
       " 15                          Buy         $24  \n",
       " 16                          Buy         $40  ,\n",
       " 'news':                   Date                                              Title  \\\n",
       " 0  2021-07-01 17:45:00  Moderna (MRNA) Gains But Lags Market: What You...   \n",
       " 1  2021-07-01 15:28:00  Delta variant sparks concerns, future mutation...   \n",
       " 2  2021-07-01 15:23:00  Delta to Dominate in U.S.; Soccer Crowds in Fo...   \n",
       " 3  2021-07-01 13:42:00  Moderna Stock Hits Record High As Covid Vaccin...   \n",
       " 4  2021-07-01 09:33:00  Moderna Announces Recipharm Site in France Man...   \n",
       " ..                 ...                                                ...   \n",
       " 95 2021-06-22 09:20:00  Europe buys another 150 million doses of Moder...   \n",
       " 96 2021-06-22 09:12:00  Are You a Growth Investor? This 1 Stock Could ...   \n",
       " 97 2021-06-22 09:06:00  European Commission Purchases Additional 150 M...   \n",
       " 98 2021-06-22 09:01:00  Covid-19 Showed mRNA Vaccines Work. Translate ...   \n",
       " 99 2021-06-22 08:40:00  New research says Pfizer and Moderna's mRNA va...   \n",
       " \n",
       "                                                  Link  \n",
       " 0   https://finance.yahoo.com/news/moderna-mrna-ga...  \n",
       " 1   https://finance.yahoo.com/news/delta-variant-s...  \n",
       " 2   https://finance.yahoo.com/news/disinformation-...  \n",
       " 3   https://www.investors.com/news/technology/mrna...  \n",
       " 4   https://finance.yahoo.com/news/moderna-announc...  \n",
       " ..                                                ...  \n",
       " 95  https://www.marketwatch.com/story/europe-buys-...  \n",
       " 96  https://finance.yahoo.com/news/growth-investor...  \n",
       " 97  https://finance.yahoo.com/news/european-commis...  \n",
       " 98  https://www.barrons.com/articles/covid-19-mrna...  \n",
       " 99  https://www.marketwatch.com/story/new-research...  \n",
       " \n",
       " [100 rows x 3 columns],\n",
       " 'inside trader':       Insider Trading                   Relationship    Date      Transaction  \\\n",
       " 0        Hoge Stephen                      President  Jun 24  Option Exercise   \n",
       " 1        Hoge Stephen                      President  Jun 24             Sale   \n",
       " 2     Bancel Stephane        Chief Executive Officer  Jun 24             Sale   \n",
       " 3        Hoge Stephen                      President  Jun 23  Option Exercise   \n",
       " 4        Zaks Tal Zvi          Chief Medical Officer  Jun 23  Option Exercise   \n",
       " ..                ...                            ...     ...              ...   \n",
       " 95    Bancel Stephane        Chief Executive Officer  May 05             Sale   \n",
       " 96  HENDERSON LORI M.  General Counsel and Secretary  May 04  Option Exercise   \n",
       " 97  HENDERSON LORI M.  General Counsel and Secretary  May 04             Sale   \n",
       " 98       Hoge Stephen                      President  May 03  Option Exercise   \n",
       " 99        Andres Juan                    See remarks  May 03  Option Exercise   \n",
       " \n",
       "       Cost  #Shares  Value ($)  #Shares Total       SEC Form 4 Insider_id  \n",
       " 0    10.90   5000.0    54500.0      1614597.0  Jun 25 05:18 PM    1760669  \n",
       " 1   213.78   5000.0  1068900.0      1609597.0  Jun 25 05:18 PM    1760669  \n",
       " 2   213.78  10000.0  2137800.0      7354880.0  Jun 25 05:14 PM    1443340  \n",
       " 3     4.29  15000.0    64400.0      1624597.0  Jun 25 05:18 PM    1760669  \n",
       " 4    25.93   5000.0   129650.0         5000.0  Jun 25 05:22 PM    1690927  \n",
       " ..     ...      ...        ...            ...              ...        ...  \n",
       " 95  178.34   9000.0  1605060.0      6325868.0  May 07 04:05 PM    1443340  \n",
       " 96   20.93   6600.0   138138.0         7501.0  May 06 04:08 PM    1221127  \n",
       " 97  185.25   6600.0  1222650.0          901.0  May 06 04:08 PM    1221127  \n",
       " 98    0.99  20000.0    19800.0      1629597.0  May 04 04:52 PM    1760669  \n",
       " 99   12.21   5000.0    61050.0         5000.0  May 04 04:54 PM    1760670  \n",
       " \n",
       " [100 rows x 10 columns]}"
      ]
     },
     "execution_count": 5,
     "metadata": {},
     "output_type": "execute_result"
    }
   ],
   "source": [
    "info = stock.TickerFullInfo()\n",
    "info"
   ]
  },
  {
   "cell_type": "code",
   "execution_count": 6,
   "id": "e3013081-96ab-48f5-aea3-85f7213e35cb",
   "metadata": {},
   "outputs": [
    {
     "data": {
      "text/plain": [
       "'https://finviz.com/chart.ashx?t=mrna&ty=c&ta=1&p=d'"
      ]
     },
     "execution_count": 6,
     "metadata": {},
     "output_type": "execute_result"
    }
   ],
   "source": [
    "chart_url = stock.TickerCharts(timeframe='daily')\n",
    "chart_url"
   ]
  },
  {
   "cell_type": "code",
   "execution_count": 7,
   "id": "4fbc1fef-b33b-4e01-819e-a1aa182b83eb",
   "metadata": {},
   "outputs": [
    {
     "data": {
      "text/plain": [
       "\"Moderna, Inc., a biotechnology company, develops therapeutics and vaccines based on messenger RNA for the treatment of infectious diseases, immuno-oncology, rare diseases, cardiovascular diseases, and auto-immune diseases. As of March 9, 2021, the company had 13 programs in clinical trials and a total of 24 development programs in six modalities comprising prophylactic vaccines, cancer vaccines, intratumoral immuno-oncology, localized regenerative therapeutics, systemic secreted and cell surface therapeutics, and systemic intracellular therapeutics. The company has strategic alliances with AstraZeneca PLC, Merck & Co., Inc., Vertex Pharmaceuticals Incorporated, Vertex Pharmaceuticals (Europe) Limited, the Biomedical Advanced Research and Development Authority, the Defense Advanced Research Projects Agency, the National Institute of Allergy and Infectious Diseases, the National Institutes of Health, the Coalition for Epidemic Preparedness Innovations, and Bill & Melinda Gates Foundation. Moderna, Inc. also has collaborations with Lonza Ltd. for the manufacture of COVID-19 vaccine; and Catalent Inc., Laboratorios Farmaceuticos Rovi, S.A., Recipharm, and Lonza Group for fill-finish manufacturing of its COVID-19 vaccine candidate, as well as Aldevron, LLC for supporting COVID-19 vaccine and additional programs in company's clinical development pipeline. The company was formerly known as Moderna Therapeutics, Inc. and changed its name to Moderna, Inc. in August 2018. Moderna, Inc. was founded in 2010 and is headquartered in Cambridge, Massachusetts.\""
      ]
     },
     "execution_count": 7,
     "metadata": {},
     "output_type": "execute_result"
    }
   ],
   "source": [
    "stock_description = stock.TickerDescription()\n",
    "stock_description"
   ]
  },
  {
   "cell_type": "code",
   "execution_count": 11,
   "id": "a7c96578-d5a6-47d7-9b2b-3706d57ddd12",
   "metadata": {},
   "outputs": [
    {
     "name": "stdout",
     "output_type": "stream",
     "text": [
      "news_df type: <class 'pandas.core.frame.DataFrame'>, size: 100 \n"
     ]
    },
    {
     "data": {
      "text/html": [
       "<div>\n",
       "<style scoped>\n",
       "    .dataframe tbody tr th:only-of-type {\n",
       "        vertical-align: middle;\n",
       "    }\n",
       "\n",
       "    .dataframe tbody tr th {\n",
       "        vertical-align: top;\n",
       "    }\n",
       "\n",
       "    .dataframe thead th {\n",
       "        text-align: right;\n",
       "    }\n",
       "</style>\n",
       "<table border=\"1\" class=\"dataframe\">\n",
       "  <thead>\n",
       "    <tr style=\"text-align: right;\">\n",
       "      <th></th>\n",
       "      <th>Date</th>\n",
       "      <th>Title</th>\n",
       "      <th>Link</th>\n",
       "    </tr>\n",
       "  </thead>\n",
       "  <tbody>\n",
       "    <tr>\n",
       "      <th>0</th>\n",
       "      <td>2021-07-01 17:45:00</td>\n",
       "      <td>Moderna (MRNA) Gains But Lags Market: What You...</td>\n",
       "      <td>https://finance.yahoo.com/news/moderna-mrna-ga...</td>\n",
       "    </tr>\n",
       "    <tr>\n",
       "      <th>1</th>\n",
       "      <td>2021-07-01 15:28:00</td>\n",
       "      <td>Delta variant sparks concerns, future mutation...</td>\n",
       "      <td>https://finance.yahoo.com/news/delta-variant-s...</td>\n",
       "    </tr>\n",
       "    <tr>\n",
       "      <th>2</th>\n",
       "      <td>2021-07-01 15:23:00</td>\n",
       "      <td>Delta to Dominate in U.S.; Soccer Crowds in Fo...</td>\n",
       "      <td>https://finance.yahoo.com/news/disinformation-...</td>\n",
       "    </tr>\n",
       "    <tr>\n",
       "      <th>3</th>\n",
       "      <td>2021-07-01 13:42:00</td>\n",
       "      <td>Moderna Stock Hits Record High As Covid Vaccin...</td>\n",
       "      <td>https://www.investors.com/news/technology/mrna...</td>\n",
       "    </tr>\n",
       "    <tr>\n",
       "      <th>4</th>\n",
       "      <td>2021-07-01 09:33:00</td>\n",
       "      <td>Moderna Announces Recipharm Site in France Man...</td>\n",
       "      <td>https://finance.yahoo.com/news/moderna-announc...</td>\n",
       "    </tr>\n",
       "    <tr>\n",
       "      <th>...</th>\n",
       "      <td>...</td>\n",
       "      <td>...</td>\n",
       "      <td>...</td>\n",
       "    </tr>\n",
       "    <tr>\n",
       "      <th>95</th>\n",
       "      <td>2021-06-22 09:20:00</td>\n",
       "      <td>Europe buys another 150 million doses of Moder...</td>\n",
       "      <td>https://www.marketwatch.com/story/europe-buys-...</td>\n",
       "    </tr>\n",
       "    <tr>\n",
       "      <th>96</th>\n",
       "      <td>2021-06-22 09:12:00</td>\n",
       "      <td>Are You a Growth Investor? This 1 Stock Could ...</td>\n",
       "      <td>https://finance.yahoo.com/news/growth-investor...</td>\n",
       "    </tr>\n",
       "    <tr>\n",
       "      <th>97</th>\n",
       "      <td>2021-06-22 09:06:00</td>\n",
       "      <td>European Commission Purchases Additional 150 M...</td>\n",
       "      <td>https://finance.yahoo.com/news/european-commis...</td>\n",
       "    </tr>\n",
       "    <tr>\n",
       "      <th>98</th>\n",
       "      <td>2021-06-22 09:01:00</td>\n",
       "      <td>Covid-19 Showed mRNA Vaccines Work. Translate ...</td>\n",
       "      <td>https://www.barrons.com/articles/covid-19-mrna...</td>\n",
       "    </tr>\n",
       "    <tr>\n",
       "      <th>99</th>\n",
       "      <td>2021-06-22 08:40:00</td>\n",
       "      <td>New research says Pfizer and Moderna's mRNA va...</td>\n",
       "      <td>https://www.marketwatch.com/story/new-research...</td>\n",
       "    </tr>\n",
       "  </tbody>\n",
       "</table>\n",
       "<p>100 rows × 3 columns</p>\n",
       "</div>"
      ],
      "text/plain": [
       "                  Date                                              Title  \\\n",
       "0  2021-07-01 17:45:00  Moderna (MRNA) Gains But Lags Market: What You...   \n",
       "1  2021-07-01 15:28:00  Delta variant sparks concerns, future mutation...   \n",
       "2  2021-07-01 15:23:00  Delta to Dominate in U.S.; Soccer Crowds in Fo...   \n",
       "3  2021-07-01 13:42:00  Moderna Stock Hits Record High As Covid Vaccin...   \n",
       "4  2021-07-01 09:33:00  Moderna Announces Recipharm Site in France Man...   \n",
       "..                 ...                                                ...   \n",
       "95 2021-06-22 09:20:00  Europe buys another 150 million doses of Moder...   \n",
       "96 2021-06-22 09:12:00  Are You a Growth Investor? This 1 Stock Could ...   \n",
       "97 2021-06-22 09:06:00  European Commission Purchases Additional 150 M...   \n",
       "98 2021-06-22 09:01:00  Covid-19 Showed mRNA Vaccines Work. Translate ...   \n",
       "99 2021-06-22 08:40:00  New research says Pfizer and Moderna's mRNA va...   \n",
       "\n",
       "                                                 Link  \n",
       "0   https://finance.yahoo.com/news/moderna-mrna-ga...  \n",
       "1   https://finance.yahoo.com/news/delta-variant-s...  \n",
       "2   https://finance.yahoo.com/news/disinformation-...  \n",
       "3   https://www.investors.com/news/technology/mrna...  \n",
       "4   https://finance.yahoo.com/news/moderna-announc...  \n",
       "..                                                ...  \n",
       "95  https://www.marketwatch.com/story/europe-buys-...  \n",
       "96  https://finance.yahoo.com/news/growth-investor...  \n",
       "97  https://finance.yahoo.com/news/european-commis...  \n",
       "98  https://www.barrons.com/articles/covid-19-mrna...  \n",
       "99  https://www.marketwatch.com/story/new-research...  \n",
       "\n",
       "[100 rows x 3 columns]"
      ]
     },
     "execution_count": 11,
     "metadata": {},
     "output_type": "execute_result"
    }
   ],
   "source": [
    "news_df = stock.TickerNews()\n",
    "\n",
    "print (f\"news_df type: {type(news_df)}, size: {len(news_df)} \")\n",
    "news_df"
   ]
  },
  {
   "cell_type": "code",
   "execution_count": null,
   "id": "b1b763ee-1fc4-4034-a029-f2611e61e53f",
   "metadata": {},
   "outputs": [],
   "source": []
  }
 ],
 "metadata": {
  "kernelspec": {
   "display_name": "Python 3",
   "language": "python",
   "name": "python3"
  },
  "language_info": {
   "codemirror_mode": {
    "name": "ipython",
    "version": 3
   },
   "file_extension": ".py",
   "mimetype": "text/x-python",
   "name": "python",
   "nbconvert_exporter": "python",
   "pygments_lexer": "ipython3",
   "version": "3.8.5"
  },
  "widgets": {
   "application/vnd.jupyter.widget-state+json": {
    "state": {},
    "version_major": 2,
    "version_minor": 0
   }
  }
 },
 "nbformat": 4,
 "nbformat_minor": 5
}
