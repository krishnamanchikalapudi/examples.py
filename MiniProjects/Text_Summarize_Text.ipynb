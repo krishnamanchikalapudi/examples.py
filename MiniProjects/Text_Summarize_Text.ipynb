{
 "cells": [
  {
   "cell_type": "markdown",
   "id": "ea3a5a71-59fe-482a-915a-4022d97db566",
   "metadata": {},
   "source": [
    "# Introduction"
   ]
  },
  {
   "cell_type": "code",
   "execution_count": 1,
   "id": "8676d671-7795-4b02-a152-a58f4997a3cc",
   "metadata": {},
   "outputs": [],
   "source": [
    "# Warnings\n",
    "import warnings\n",
    "warnings.filterwarnings('ignore')\n",
    "\n",
    "# BEGIN: fix Python or Notebook SSL CERTIFICATE_VERIFY_FAILED\n",
    "import os, ssl\n",
    "if (not os.environ.get('PYTHONHTTPSVERIFY', '') and getattr(ssl, '_create_unverified_context', None)):\n",
    "    ssl._create_default_https_context = ssl._create_unverified_context\n",
    "# END: fix Python or Notebook SSL CERTIFICATE_VERIFY_FAILED"
   ]
  },
  {
   "cell_type": "markdown",
   "id": "bf7a0f67-2d31-4c8c-9036-de9b0b1c090b",
   "metadata": {},
   "source": [
    "## Installing pre-requsite libraries\n",
    "* https://pypi.org/project/bert-extractive-summarizer/"
   ]
  },
  {
   "cell_type": "code",
   "execution_count": 2,
   "id": "0a736be5-417b-41dc-b36d-674622a54f2c",
   "metadata": {},
   "outputs": [
    {
     "name": "stdout",
     "output_type": "stream",
     "text": [
      "\u001b[33mWARNING: Ignoring invalid distribution -ornado (/Library/Frameworks/Python.framework/Versions/3.8/lib/python3.8/site-packages)\u001b[0m\n",
      "\u001b[33mWARNING: Ignoring invalid distribution -ornado (/Library/Frameworks/Python.framework/Versions/3.8/lib/python3.8/site-packages)\u001b[0m\n",
      "\u001b[33mWARNING: Ignoring invalid distribution -ornado (/Library/Frameworks/Python.framework/Versions/3.8/lib/python3.8/site-packages)\u001b[0m\n",
      "\u001b[33mWARNING: Ignoring invalid distribution -ornado (/Library/Frameworks/Python.framework/Versions/3.8/lib/python3.8/site-packages)\u001b[0m\n",
      "\u001b[33mWARNING: Ignoring invalid distribution -ornado (/Library/Frameworks/Python.framework/Versions/3.8/lib/python3.8/site-packages)\u001b[0m\n",
      "\u001b[33mWARNING: Ignoring invalid distribution -ornado (/Library/Frameworks/Python.framework/Versions/3.8/lib/python3.8/site-packages)\u001b[0m\n",
      "\u001b[33mWARNING: You are using pip version 21.1.3; however, version 21.2.4 is available.\n",
      "You should consider upgrading via the '/Library/Frameworks/Python.framework/Versions/3.8/bin/python3 -m pip install --upgrade pip' command.\u001b[0m\n"
     ]
    }
   ],
   "source": [
    "!pip -q install sumy transformers sentencepiece"
   ]
  },
  {
   "cell_type": "markdown",
   "id": "c5c7e282-f10e-4189-bd45-ed66aad4c174",
   "metadata": {},
   "source": [
    "### Import libraries"
   ]
  },
  {
   "cell_type": "code",
   "execution_count": 3,
   "id": "5fb50876-0c4c-4086-ad1c-c577f44f98f9",
   "metadata": {},
   "outputs": [],
   "source": [
    "from sumy.nlp.tokenizers import Tokenizer\n",
    "from sumy.parsers.plaintext import PlaintextParser\n",
    "from sumy.summarizers.lex_rank import LexRankSummarizer"
   ]
  },
  {
   "cell_type": "code",
   "execution_count": 4,
   "id": "9fbbd8a3-56be-4a2d-862c-f495785fae54",
   "metadata": {},
   "outputs": [],
   "source": [
    "content = [\n",
    "    \"Text_Summarize_Text/Technology_and_Engineering.txt\", # 0 Introduction\n",
    "    \"Text_Summarize_Text/Enough_With_the_Trolley_Problem.txt\",  # 1 Introduction to Ethics\n",
    "    \"Text_Summarize_Text/Big_Data_Ethics_and_Religion_New_Questions_from_a_New_Science.txt\",\n",
    "    \"Text_Summarize_Text/Why_Christians_Should_Study_Computer_Science.txt\",\n",
    "    \"Text_Summarize_Text/How_Algorithms_Can_Learn_to_Discredit.txt\", # 2 Disinformation\n",
    "    \"Text_Summarize_Text/A_Framework_for_Understanding_Sources of_Harm_throughout_the_Machine_Learning_LifeCycle.txt\", # 3 Bias/Fairness\n",
    "    \"Text_Summarize_Text/Discrimination_in_the_Age_of_Algorithms.txt\", #\n",
    "    \"Text_Summarize_Text/On_the_Legal_Compatibility_of_Fairness_Definitions.txt\", # 4\n",
    "    \"Text_Summarize_Text/Your_apps_know_where_you_were_last_night.txt\",  # 5 Privacy\n",
    "    \"Text_Summarize_Text/Trading_privacy_for_survival_is_another_tax_on_the_poor.txt\",\n",
    "    \"Text_Summarize_Text/Caught_in_the_Spotlight.txt\",\n",
    "    \"Text_Summarize_Text/The_fundamental_problem_with_Silicon_Valleys_favorite_growth_strategy.txt\", # 6 Technological Colonialism\n",
    "    \"Text_Summarize_Text/Computing_in_the_Image_of_God.txt\", # 7 Wrapping up\n",
    "    \"Text_Summarize_Text/Huawei_Technicians_Helped_African_Governments_Spy_on_Political_Opponents.txt\" # 8\n",
    "]\n",
    "\n",
    "output_sentences_count = 10\n",
    "\n",
    "with open(content[6], \"r\", encoding=\"utf-8\") as f: # open(r'C:\\Users\\...site_1.html', \"r\") as f:\n",
    "    article = f.read()  \n",
    "    \n",
    "# article"
   ]
  },
  {
   "cell_type": "code",
   "execution_count": 5,
   "id": "e0407568-6e9d-4926-afd3-fcff0127bb1f",
   "metadata": {},
   "outputs": [],
   "source": [
    "my_parser = PlaintextParser.from_string(article, Tokenizer('english'))\n",
    "\n",
    "# Creating a summary of 3 sentences.\n",
    "lex_rank_summarizer = LexRankSummarizer()\n",
    "lexrank_summary = lex_rank_summarizer(my_parser.document, sentences_count = output_sentences_count)\n",
    "\n",
    "# Printing the summary\n",
    "for sentence in lexrank_summary:\n",
    "  print(sentence)"
   ]
  },
  {
   "cell_type": "markdown",
   "id": "b7e3412b-a7ec-4cf8-98cf-730ac31d38e3",
   "metadata": {},
   "source": [
    "## LSA (Latent semantic analysis)"
   ]
  },
  {
   "cell_type": "code",
   "execution_count": 6,
   "id": "f59ae264-120f-426e-8359-2eab5419f6e3",
   "metadata": {},
   "outputs": [],
   "source": [
    "from sumy.summarizers.lsa import LsaSummarizer\n",
    "\n",
    "# creating the summarizer\n",
    "lsa_summarizer = LsaSummarizer()\n",
    "lsa_summary = lsa_summarizer(my_parser.document, sentences_count = output_sentences_count)\n",
    "\n",
    "# Printing the summary\n",
    "for sentence in lsa_summary:\n",
    "    print(sentence)"
   ]
  },
  {
   "cell_type": "markdown",
   "id": "2dfb3e13-6b2d-4a1f-92ed-6e6e3d0ed0d3",
   "metadata": {},
   "source": [
    "## Luhn Summarization algorithm’s approach is based on TF-IDF (Term Frequency-Inverse Document Frequency). "
   ]
  },
  {
   "cell_type": "code",
   "execution_count": 7,
   "id": "f5cda9cd-3069-4e47-8183-184bb31689d3",
   "metadata": {},
   "outputs": [],
   "source": [
    "from sumy.summarizers.luhn import LuhnSummarizer\n",
    "\n",
    "#  Creating the summarizer\n",
    "luhn_summarizer = LuhnSummarizer()\n",
    "luhn_summary = luhn_summarizer(my_parser.document, sentences_count = output_sentences_count)\n",
    "\n",
    "# Printing the summary\n",
    "for sentence in luhn_summary:\n",
    "  print(sentence)"
   ]
  },
  {
   "cell_type": "markdown",
   "id": "f4c561e7-3eb2-4d21-8440-388a74163b22",
   "metadata": {},
   "source": [
    "## extractive method is the KL-Sum algorithm"
   ]
  },
  {
   "cell_type": "code",
   "execution_count": 8,
   "id": "61b69158-c912-411f-856f-89a75241de7a",
   "metadata": {},
   "outputs": [],
   "source": [
    "from sumy.summarizers.kl import KLSummarizer\n",
    "kl_summarizer = KLSummarizer()\n",
    "kl_summary = kl_summarizer(my_parser.document, sentences_count = output_sentences_count)\n",
    "\n",
    "# Printing the summary\n",
    "for sentence in kl_summary:\n",
    "    print(sentence)"
   ]
  },
  {
   "cell_type": "markdown",
   "id": "3d0df982-ff6a-4d3b-91f9-df72d95032ad",
   "metadata": {},
   "source": [
    "## Summarization with T5 Transformers"
   ]
  },
  {
   "cell_type": "code",
   "execution_count": 9,
   "id": "1f706df3-9cee-4d40-938a-6a5fb8ea88cb",
   "metadata": {},
   "outputs": [
    {
     "name": "stderr",
     "output_type": "stream",
     "text": [
      "Truncation was not explicitly activated but `max_length` is provided a specific value, please use `truncation=True` to explicitly truncate examples to max length. Defaulting to 'longest_first' truncation strategy. If you encode pairs of sequences (GLUE-style) with the tokenizer you can select this strategy more precisely by providing a specific strategy to `truncation`.\n"
     ]
    },
    {
     "name": "stdout",
     "output_type": "stream",
     "text": [
      "<pad> </s>\n"
     ]
    }
   ],
   "source": [
    "from transformers import T5Tokenizer, T5Config, T5ForConditionalGeneration\n",
    "\n",
    "my_model = T5ForConditionalGeneration.from_pretrained('t5-small')\n",
    "tokenizer = T5Tokenizer.from_pretrained('t5-small')\n",
    "\n",
    "input_ids = tokenizer.encode(article, return_tensors='pt', max_length=750, truncation=False)\n",
    "summary_ids = my_model.generate(input_ids)\n",
    "\n",
    "t5_summary = tokenizer.decode(summary_ids[0])\n",
    "print(t5_summary)"
   ]
  },
  {
   "cell_type": "markdown",
   "id": "1981d953-3c2d-48c9-a2da-25337f0a642e",
   "metadata": {},
   "source": [
    "# GPT-2 Transformers"
   ]
  },
  {
   "cell_type": "code",
   "execution_count": 10,
   "id": "4a7366dc-706d-42b9-bcb5-28d96543ad0b",
   "metadata": {},
   "outputs": [
    {
     "name": "stderr",
     "output_type": "stream",
     "text": [
      "Truncation was not explicitly activated but `max_length` is provided a specific value, please use `truncation=True` to explicitly truncate examples to max length. Defaulting to 'longest_first' truncation strategy. If you encode pairs of sequences (GLUE-style) with the tokenizer you can select this strategy more precisely by providing a specific strategy to `truncation`.\n"
     ]
    },
    {
     "ename": "IndexError",
     "evalue": "list index out of range",
     "output_type": "error",
     "traceback": [
      "\u001b[0;31m---------------------------------------------------------------------------\u001b[0m",
      "\u001b[0;31mIndexError\u001b[0m                                Traceback (most recent call last)",
      "\u001b[0;32m<ipython-input-10-5e29f2471eea>\u001b[0m in \u001b[0;36m<module>\u001b[0;34m\u001b[0m\n\u001b[1;32m      7\u001b[0m \u001b[0;34m\u001b[0m\u001b[0m\n\u001b[1;32m      8\u001b[0m \u001b[0;31m# Encoding text to get input ids & pass them to model.generate()\u001b[0m\u001b[0;34m\u001b[0m\u001b[0;34m\u001b[0m\u001b[0;34m\u001b[0m\u001b[0m\n\u001b[0;32m----> 9\u001b[0;31m \u001b[0minputs\u001b[0m\u001b[0;34m=\u001b[0m\u001b[0mtokenizer\u001b[0m\u001b[0;34m.\u001b[0m\u001b[0mbatch_encode_plus\u001b[0m\u001b[0;34m(\u001b[0m\u001b[0;34m[\u001b[0m\u001b[0marticle\u001b[0m\u001b[0;34m]\u001b[0m\u001b[0;34m,\u001b[0m \u001b[0mreturn_tensors\u001b[0m\u001b[0;34m=\u001b[0m\u001b[0;34m'pt'\u001b[0m\u001b[0;34m,\u001b[0m \u001b[0mmax_length\u001b[0m\u001b[0;34m=\u001b[0m\u001b[0;36m750\u001b[0m\u001b[0;34m,\u001b[0m \u001b[0mtruncation\u001b[0m\u001b[0;34m=\u001b[0m\u001b[0;32mFalse\u001b[0m\u001b[0;34m)\u001b[0m\u001b[0;34m\u001b[0m\u001b[0;34m\u001b[0m\u001b[0m\n\u001b[0m\u001b[1;32m     10\u001b[0m \u001b[0msummary_ids\u001b[0m\u001b[0;34m=\u001b[0m\u001b[0mmodel\u001b[0m\u001b[0;34m.\u001b[0m\u001b[0mgenerate\u001b[0m\u001b[0;34m(\u001b[0m\u001b[0minputs\u001b[0m\u001b[0;34m[\u001b[0m\u001b[0;34m'input_ids'\u001b[0m\u001b[0;34m]\u001b[0m\u001b[0;34m,\u001b[0m \u001b[0mearly_stopping\u001b[0m\u001b[0;34m=\u001b[0m\u001b[0;32mTrue\u001b[0m\u001b[0;34m)\u001b[0m\u001b[0;34m\u001b[0m\u001b[0;34m\u001b[0m\u001b[0m\n\u001b[1;32m     11\u001b[0m \u001b[0;34m\u001b[0m\u001b[0m\n",
      "\u001b[0;32m/Library/Frameworks/Python.framework/Versions/3.8/lib/python3.8/site-packages/transformers/tokenization_utils_base.py\u001b[0m in \u001b[0;36mbatch_encode_plus\u001b[0;34m(self, batch_text_or_text_pairs, add_special_tokens, padding, truncation, max_length, stride, is_split_into_words, pad_to_multiple_of, return_tensors, return_token_type_ids, return_attention_mask, return_overflowing_tokens, return_special_tokens_mask, return_offsets_mapping, return_length, verbose, **kwargs)\u001b[0m\n\u001b[1;32m   2493\u001b[0m         )\n\u001b[1;32m   2494\u001b[0m \u001b[0;34m\u001b[0m\u001b[0m\n\u001b[0;32m-> 2495\u001b[0;31m         return self._batch_encode_plus(\n\u001b[0m\u001b[1;32m   2496\u001b[0m             \u001b[0mbatch_text_or_text_pairs\u001b[0m\u001b[0;34m=\u001b[0m\u001b[0mbatch_text_or_text_pairs\u001b[0m\u001b[0;34m,\u001b[0m\u001b[0;34m\u001b[0m\u001b[0;34m\u001b[0m\u001b[0m\n\u001b[1;32m   2497\u001b[0m             \u001b[0madd_special_tokens\u001b[0m\u001b[0;34m=\u001b[0m\u001b[0madd_special_tokens\u001b[0m\u001b[0;34m,\u001b[0m\u001b[0;34m\u001b[0m\u001b[0;34m\u001b[0m\u001b[0m\n",
      "\u001b[0;32m/Library/Frameworks/Python.framework/Versions/3.8/lib/python3.8/site-packages/transformers/tokenization_utils.py\u001b[0m in \u001b[0;36m_batch_encode_plus\u001b[0;34m(self, batch_text_or_text_pairs, add_special_tokens, padding_strategy, truncation_strategy, max_length, stride, is_split_into_words, pad_to_multiple_of, return_tensors, return_token_type_ids, return_attention_mask, return_overflowing_tokens, return_special_tokens_mask, return_offsets_mapping, return_length, verbose, **kwargs)\u001b[0m\n\u001b[1;32m    547\u001b[0m             \u001b[0minput_ids\u001b[0m\u001b[0;34m.\u001b[0m\u001b[0mappend\u001b[0m\u001b[0;34m(\u001b[0m\u001b[0;34m(\u001b[0m\u001b[0mfirst_ids\u001b[0m\u001b[0;34m,\u001b[0m \u001b[0msecond_ids\u001b[0m\u001b[0;34m)\u001b[0m\u001b[0;34m)\u001b[0m\u001b[0;34m\u001b[0m\u001b[0;34m\u001b[0m\u001b[0m\n\u001b[1;32m    548\u001b[0m \u001b[0;34m\u001b[0m\u001b[0m\n\u001b[0;32m--> 549\u001b[0;31m         batch_outputs = self._batch_prepare_for_model(\n\u001b[0m\u001b[1;32m    550\u001b[0m             \u001b[0minput_ids\u001b[0m\u001b[0;34m,\u001b[0m\u001b[0;34m\u001b[0m\u001b[0;34m\u001b[0m\u001b[0m\n\u001b[1;32m    551\u001b[0m             \u001b[0madd_special_tokens\u001b[0m\u001b[0;34m=\u001b[0m\u001b[0madd_special_tokens\u001b[0m\u001b[0;34m,\u001b[0m\u001b[0;34m\u001b[0m\u001b[0;34m\u001b[0m\u001b[0m\n",
      "\u001b[0;32m/Library/Frameworks/Python.framework/Versions/3.8/lib/python3.8/site-packages/transformers/tokenization_utils.py\u001b[0m in \u001b[0;36m_batch_prepare_for_model\u001b[0;34m(self, batch_ids_pairs, add_special_tokens, padding_strategy, truncation_strategy, max_length, stride, pad_to_multiple_of, return_tensors, return_token_type_ids, return_attention_mask, return_overflowing_tokens, return_special_tokens_mask, return_length, verbose)\u001b[0m\n\u001b[1;32m    619\u001b[0m                 \u001b[0mbatch_outputs\u001b[0m\u001b[0;34m[\u001b[0m\u001b[0mkey\u001b[0m\u001b[0;34m]\u001b[0m\u001b[0;34m.\u001b[0m\u001b[0mappend\u001b[0m\u001b[0;34m(\u001b[0m\u001b[0mvalue\u001b[0m\u001b[0;34m)\u001b[0m\u001b[0;34m\u001b[0m\u001b[0;34m\u001b[0m\u001b[0m\n\u001b[1;32m    620\u001b[0m \u001b[0;34m\u001b[0m\u001b[0m\n\u001b[0;32m--> 621\u001b[0;31m         batch_outputs = self.pad(\n\u001b[0m\u001b[1;32m    622\u001b[0m             \u001b[0mbatch_outputs\u001b[0m\u001b[0;34m,\u001b[0m\u001b[0;34m\u001b[0m\u001b[0;34m\u001b[0m\u001b[0m\n\u001b[1;32m    623\u001b[0m             \u001b[0mpadding\u001b[0m\u001b[0;34m=\u001b[0m\u001b[0mpadding_strategy\u001b[0m\u001b[0;34m.\u001b[0m\u001b[0mvalue\u001b[0m\u001b[0;34m,\u001b[0m\u001b[0;34m\u001b[0m\u001b[0;34m\u001b[0m\u001b[0m\n",
      "\u001b[0;32m/Library/Frameworks/Python.framework/Versions/3.8/lib/python3.8/site-packages/transformers/tokenization_utils_base.py\u001b[0m in \u001b[0;36mpad\u001b[0;34m(self, encoded_inputs, padding, max_length, pad_to_multiple_of, return_attention_mask, return_tensors, verbose)\u001b[0m\n\u001b[1;32m   2638\u001b[0m             \u001b[0;31m# first_element might be an empty list/tuple in some edge cases so we grab the first non empty element.\u001b[0m\u001b[0;34m\u001b[0m\u001b[0;34m\u001b[0m\u001b[0;34m\u001b[0m\u001b[0m\n\u001b[1;32m   2639\u001b[0m             \u001b[0mindex\u001b[0m \u001b[0;34m=\u001b[0m \u001b[0;36m0\u001b[0m\u001b[0;34m\u001b[0m\u001b[0;34m\u001b[0m\u001b[0m\n\u001b[0;32m-> 2640\u001b[0;31m             \u001b[0;32mwhile\u001b[0m \u001b[0mlen\u001b[0m\u001b[0;34m(\u001b[0m\u001b[0mrequired_input\u001b[0m\u001b[0;34m[\u001b[0m\u001b[0mindex\u001b[0m\u001b[0;34m]\u001b[0m\u001b[0;34m)\u001b[0m \u001b[0;34m==\u001b[0m \u001b[0;36m0\u001b[0m\u001b[0;34m:\u001b[0m\u001b[0;34m\u001b[0m\u001b[0;34m\u001b[0m\u001b[0m\n\u001b[0m\u001b[1;32m   2641\u001b[0m                 \u001b[0mindex\u001b[0m \u001b[0;34m+=\u001b[0m \u001b[0;36m1\u001b[0m\u001b[0;34m\u001b[0m\u001b[0;34m\u001b[0m\u001b[0m\n\u001b[1;32m   2642\u001b[0m             \u001b[0;32mif\u001b[0m \u001b[0mindex\u001b[0m \u001b[0;34m<\u001b[0m \u001b[0mlen\u001b[0m\u001b[0;34m(\u001b[0m\u001b[0mrequired_input\u001b[0m\u001b[0;34m)\u001b[0m\u001b[0;34m:\u001b[0m\u001b[0;34m\u001b[0m\u001b[0;34m\u001b[0m\u001b[0m\n",
      "\u001b[0;31mIndexError\u001b[0m: list index out of range"
     ]
    }
   ],
   "source": [
    "# Importing model and tokenizer\n",
    "from transformers import GPT2Tokenizer,GPT2LMHeadModel\n",
    "\n",
    "# Instantiating the model and tokenizer with gpt-2\n",
    "tokenizer=GPT2Tokenizer.from_pretrained('gpt2')\n",
    "model=GPT2LMHeadModel.from_pretrained('gpt2')\n",
    "\n",
    "# Encoding text to get input ids & pass them to model.generate()\n",
    "inputs=tokenizer.batch_encode_plus([article], return_tensors='pt', max_length=750, truncation=False)\n",
    "summary_ids=model.generate(inputs['input_ids'], early_stopping=True)\n",
    "\n",
    "GPT_summary=tokenizer.decode(summary_ids[0], skip_special_tokens=True)\n",
    "print(GPT_summary)"
   ]
  },
  {
   "cell_type": "markdown",
   "id": "f79f0e4f-c8b2-49d8-9bed-7cd83403e8d6",
   "metadata": {},
   "source": [
    "# BERT Summarization"
   ]
  },
  {
   "cell_type": "code",
   "execution_count": null,
   "id": "8be827fa-0960-46d3-b2a5-4f8a921ea69a",
   "metadata": {},
   "outputs": [],
   "source": [
    "!pip install bert-extractive-summarizer"
   ]
  },
  {
   "cell_type": "code",
   "execution_count": null,
   "id": "a3078f75-b8cb-4466-a159-e1b7217ed400",
   "metadata": {},
   "outputs": [],
   "source": [
    "from summarizer import Summarizer\n",
    "model = Summarizer()\n",
    "result = model(article, min_length=output_sentences_count)\n",
    "summary = \"\".join(result)\n",
    "print(summary)"
   ]
  },
  {
   "cell_type": "markdown",
   "id": "ab871a4c-8a5d-4e68-9617-6aa14d237af7",
   "metadata": {},
   "source": [
    "## Huggingface sentence transformers\n",
    "\n",
    "https://huggingface.co/sentence-transformers/paraphrase-multilingual-mpnet-base-v2"
   ]
  },
  {
   "cell_type": "code",
   "execution_count": null,
   "id": "1dcd7627-4efc-4eab-88c9-a0bf2d80a6a4",
   "metadata": {},
   "outputs": [],
   "source": [
    "pip -q install -U sentence-transformers"
   ]
  },
  {
   "cell_type": "code",
   "execution_count": null,
   "id": "eccb77bc-a26b-4581-a512-ed5059d5241d",
   "metadata": {},
   "outputs": [],
   "source": [
    "from sentence_transformers import SentenceTransformer\n",
    "\n",
    "model = SentenceTransformer('sentence-transformers/paraphrase-multilingual-mpnet-base-v2')\n",
    "embeddings = model.encode(article)\n",
    "# embeddings.unique_consecutive"
   ]
  },
  {
   "cell_type": "code",
   "execution_count": null,
   "id": "ae66eb47-c8cf-4ceb-a1c5-4f740bc2c7e2",
   "metadata": {},
   "outputs": [],
   "source": [
    "# embeddings"
   ]
  },
  {
   "cell_type": "markdown",
   "id": "4942e2ae-7ad4-4e58-a0a1-4fc585f85d89",
   "metadata": {},
   "source": [
    "# XLM Transformers"
   ]
  },
  {
   "cell_type": "code",
   "execution_count": null,
   "id": "d8d9362d-8f7d-43c2-832f-f48481deee69",
   "metadata": {},
   "outputs": [],
   "source": [
    "# Importing model and tokenizer\n",
    "from transformers import XLMWithLMHeadModel, XLMTokenizer\n",
    "\n",
    "# Instantiating the model and tokenizer \n",
    "tokenizer = XLMTokenizer.from_pretrained('xlm-mlm-en-2048')\n",
    "model = XLMWithLMHeadModel.from_pretrained('xlm-mlm-en-2048')\n",
    "\n",
    "# Encoding text to get input ids & pass them to model.generate()\n",
    "inputs = tokenizer.batch_encode_plus([article], return_tensors='pt')\n",
    "summary_ids = model.generate(inputs, early_stopping=False)\n",
    "\n",
    "# Decode and print the summary\n",
    "XLM_summary = tokenizer.decode(summary_ids[0], skip_special_tokens=True)\n",
    "print(XLM_summary)"
   ]
  },
  {
   "cell_type": "code",
   "execution_count": null,
   "id": "bf4a224a-a489-4f3e-a999-ea91033562b3",
   "metadata": {},
   "outputs": [],
   "source": []
  }
 ],
 "metadata": {
  "kernelspec": {
   "display_name": "Python 3",
   "language": "python",
   "name": "python3"
  },
  "language_info": {
   "codemirror_mode": {
    "name": "ipython",
    "version": 3
   },
   "file_extension": ".py",
   "mimetype": "text/x-python",
   "name": "python",
   "nbconvert_exporter": "python",
   "pygments_lexer": "ipython3",
   "version": "3.8.5"
  },
  "widgets": {
   "application/vnd.jupyter.widget-state+json": {
    "state": {},
    "version_major": 2,
    "version_minor": 0
   }
  }
 },
 "nbformat": 4,
 "nbformat_minor": 5
}
