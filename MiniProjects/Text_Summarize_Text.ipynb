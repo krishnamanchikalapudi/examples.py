{
 "cells": [
  {
   "cell_type": "markdown",
   "id": "ea3a5a71-59fe-482a-915a-4022d97db566",
   "metadata": {},
   "source": [
    "# Introduction"
   ]
  },
  {
   "cell_type": "code",
   "execution_count": 1,
   "id": "8676d671-7795-4b02-a152-a58f4997a3cc",
   "metadata": {},
   "outputs": [],
   "source": [
    "# Warnings\n",
    "import warnings\n",
    "warnings.filterwarnings('ignore')\n",
    "\n",
    "# BEGIN: fix Python or Notebook SSL CERTIFICATE_VERIFY_FAILED\n",
    "import os, ssl\n",
    "if (not os.environ.get('PYTHONHTTPSVERIFY', '') and getattr(ssl, '_create_unverified_context', None)):\n",
    "    ssl._create_default_https_context = ssl._create_unverified_context\n",
    "# END: fix Python or Notebook SSL CERTIFICATE_VERIFY_FAILED"
   ]
  },
  {
   "cell_type": "markdown",
   "id": "bf7a0f67-2d31-4c8c-9036-de9b0b1c090b",
   "metadata": {},
   "source": [
    "## Installing pre-requsite libraries\n",
    "* https://pypi.org/project/bert-extractive-summarizer/"
   ]
  },
  {
   "cell_type": "code",
   "execution_count": 2,
   "id": "0a736be5-417b-41dc-b36d-674622a54f2c",
   "metadata": {},
   "outputs": [
    {
     "name": "stdout",
     "output_type": "stream",
     "text": [
      "\u001b[33mWARNING: Ignoring invalid distribution -ornado (/Library/Frameworks/Python.framework/Versions/3.8/lib/python3.8/site-packages)\u001b[0m\n",
      "\u001b[33mWARNING: Ignoring invalid distribution -ornado (/Library/Frameworks/Python.framework/Versions/3.8/lib/python3.8/site-packages)\u001b[0m\n",
      "Requirement already satisfied: sumy in /Library/Frameworks/Python.framework/Versions/3.8/lib/python3.8/site-packages (0.8.1)\n",
      "Requirement already satisfied: transformers in /Library/Frameworks/Python.framework/Versions/3.8/lib/python3.8/site-packages (4.8.1)\n",
      "Requirement already satisfied: sentencepiece in /Library/Frameworks/Python.framework/Versions/3.8/lib/python3.8/site-packages (0.1.96)\n",
      "Requirement already satisfied: pycountry>=18.2.23 in /Library/Frameworks/Python.framework/Versions/3.8/lib/python3.8/site-packages (from sumy) (20.7.3)\n",
      "Requirement already satisfied: requests>=2.7.0 in /Library/Frameworks/Python.framework/Versions/3.8/lib/python3.8/site-packages (from sumy) (2.25.1)\n",
      "Requirement already satisfied: breadability>=0.1.20 in /Library/Frameworks/Python.framework/Versions/3.8/lib/python3.8/site-packages (from sumy) (0.1.20)\n",
      "Requirement already satisfied: docopt<0.7,>=0.6.1 in /Library/Frameworks/Python.framework/Versions/3.8/lib/python3.8/site-packages (from sumy) (0.6.2)\n",
      "Requirement already satisfied: nltk>=3.0.2 in /Library/Frameworks/Python.framework/Versions/3.8/lib/python3.8/site-packages (from sumy) (3.6.2)\n",
      "Requirement already satisfied: chardet in /Library/Frameworks/Python.framework/Versions/3.8/lib/python3.8/site-packages (from breadability>=0.1.20->sumy) (4.0.0)\n",
      "Requirement already satisfied: lxml>=2.0 in /Library/Frameworks/Python.framework/Versions/3.8/lib/python3.8/site-packages (from breadability>=0.1.20->sumy) (4.6.3)\n",
      "Requirement already satisfied: regex in /Library/Frameworks/Python.framework/Versions/3.8/lib/python3.8/site-packages (from nltk>=3.0.2->sumy) (2021.4.4)\n",
      "Requirement already satisfied: tqdm in /Library/Frameworks/Python.framework/Versions/3.8/lib/python3.8/site-packages (from nltk>=3.0.2->sumy) (4.61.1)\n",
      "Requirement already satisfied: joblib in /Library/Frameworks/Python.framework/Versions/3.8/lib/python3.8/site-packages (from nltk>=3.0.2->sumy) (1.0.1)\n",
      "Requirement already satisfied: click in /Library/Frameworks/Python.framework/Versions/3.8/lib/python3.8/site-packages (from nltk>=3.0.2->sumy) (7.1.2)\n",
      "Requirement already satisfied: idna<3,>=2.5 in /Library/Frameworks/Python.framework/Versions/3.8/lib/python3.8/site-packages (from requests>=2.7.0->sumy) (2.10)\n",
      "Requirement already satisfied: urllib3<1.27,>=1.21.1 in /Library/Frameworks/Python.framework/Versions/3.8/lib/python3.8/site-packages (from requests>=2.7.0->sumy) (1.26.5)\n",
      "Requirement already satisfied: certifi>=2017.4.17 in /Library/Frameworks/Python.framework/Versions/3.8/lib/python3.8/site-packages (from requests>=2.7.0->sumy) (2021.5.30)\n",
      "Requirement already satisfied: filelock in /Library/Frameworks/Python.framework/Versions/3.8/lib/python3.8/site-packages (from transformers) (3.0.12)\n",
      "Requirement already satisfied: numpy>=1.17 in /Library/Frameworks/Python.framework/Versions/3.8/lib/python3.8/site-packages (from transformers) (1.21.0)\n",
      "Requirement already satisfied: packaging in /Library/Frameworks/Python.framework/Versions/3.8/lib/python3.8/site-packages (from transformers) (20.9)\n",
      "Requirement already satisfied: sacremoses in /Library/Frameworks/Python.framework/Versions/3.8/lib/python3.8/site-packages (from transformers) (0.0.45)\n",
      "Requirement already satisfied: pyyaml in /Library/Frameworks/Python.framework/Versions/3.8/lib/python3.8/site-packages (from transformers) (5.4.1)\n",
      "Requirement already satisfied: huggingface-hub==0.0.12 in /Library/Frameworks/Python.framework/Versions/3.8/lib/python3.8/site-packages (from transformers) (0.0.12)\n",
      "Requirement already satisfied: tokenizers<0.11,>=0.10.1 in /Library/Frameworks/Python.framework/Versions/3.8/lib/python3.8/site-packages (from transformers) (0.10.3)\n",
      "Requirement already satisfied: typing-extensions in /Library/Frameworks/Python.framework/Versions/3.8/lib/python3.8/site-packages (from huggingface-hub==0.0.12->transformers) (3.7.4.3)\n",
      "Requirement already satisfied: pyparsing>=2.0.2 in /Library/Frameworks/Python.framework/Versions/3.8/lib/python3.8/site-packages (from packaging->transformers) (2.4.7)\n",
      "Requirement already satisfied: six in /Library/Frameworks/Python.framework/Versions/3.8/lib/python3.8/site-packages (from sacremoses->transformers) (1.15.0)\n",
      "\u001b[33mWARNING: Ignoring invalid distribution -ornado (/Library/Frameworks/Python.framework/Versions/3.8/lib/python3.8/site-packages)\u001b[0m\n",
      "\u001b[33mWARNING: Ignoring invalid distribution -ornado (/Library/Frameworks/Python.framework/Versions/3.8/lib/python3.8/site-packages)\u001b[0m\n",
      "\u001b[33mWARNING: Ignoring invalid distribution -ornado (/Library/Frameworks/Python.framework/Versions/3.8/lib/python3.8/site-packages)\u001b[0m\n"
     ]
    }
   ],
   "source": [
    "!pip install sumy transformers sentencepiece"
   ]
  },
  {
   "cell_type": "markdown",
   "id": "c5c7e282-f10e-4189-bd45-ed66aad4c174",
   "metadata": {},
   "source": [
    "### Import libraries"
   ]
  },
  {
   "cell_type": "code",
   "execution_count": 3,
   "id": "5fb50876-0c4c-4086-ad1c-c577f44f98f9",
   "metadata": {},
   "outputs": [],
   "source": [
    "from sumy.nlp.tokenizers import Tokenizer\n",
    "from sumy.parsers.plaintext import PlaintextParser\n",
    "from sumy.summarizers.lex_rank import LexRankSummarizer"
   ]
  },
  {
   "cell_type": "code",
   "execution_count": 4,
   "id": "9fbbd8a3-56be-4a2d-862c-f495785fae54",
   "metadata": {},
   "outputs": [],
   "source": [
    "content = \"Text_Summarize_Text/content.txt\"\n",
    "\n",
    "output_sentences_count = 10\n",
    "\n",
    "with open(content, \"r\", encoding=\"utf-8\") as f: # open(r'C:\\Users\\...site_1.html', \"r\") as f:\n",
    "    article = f.read()  \n",
    "    \n",
    "# article"
   ]
  },
  {
   "cell_type": "code",
   "execution_count": 5,
   "id": "e0407568-6e9d-4926-afd3-fcff0127bb1f",
   "metadata": {},
   "outputs": [
    {
     "name": "stdout",
     "output_type": "stream",
     "text": [
      "Onion and garlic, both are considered superfoods due to their numerous proven health benefits.\n",
      "They add distinct flavours to the food and are inseparable parts of Indian cuisine.\n",
      "However, Ayurveda does not support the usage of these two ingredients in your diet.\n",
      "But what is the reason behind this?\n",
      "The real reason\n",
      "It is not that Ayurveda does not acknowledge the health benefits of onion and garlic.\n",
      "Ayurveda recognizes onions and garlic as blood purifiers.\n",
      "As per Ayurveda, both these ingredients produce excessive heat in the body.\n",
      "These two ingredients are even avoided by people practicing meditation or following a spiritual path, as consumptions of onion and garlic are known to increase anger, aggression, ignorance, anxiety, and increase in sexual desire.\n",
      "Health benefits of onion and garlic\n"
     ]
    }
   ],
   "source": [
    "my_parser = PlaintextParser.from_string(article, Tokenizer('english'))\n",
    "\n",
    "# Creating a summary of 3 sentences.\n",
    "lex_rank_summarizer = LexRankSummarizer()\n",
    "lexrank_summary = lex_rank_summarizer(my_parser.document, sentences_count = output_sentences_count)\n",
    "\n",
    "# Printing the summary\n",
    "for sentence in lexrank_summary:\n",
    "  print(sentence)"
   ]
  },
  {
   "cell_type": "markdown",
   "id": "b7e3412b-a7ec-4cf8-98cf-730ac31d38e3",
   "metadata": {},
   "source": [
    "## LSA (Latent semantic analysis)"
   ]
  },
  {
   "cell_type": "code",
   "execution_count": 6,
   "id": "f59ae264-120f-426e-8359-2eab5419f6e3",
   "metadata": {},
   "outputs": [
    {
     "name": "stdout",
     "output_type": "stream",
     "text": [
      "Onion and garlic, both are considered superfoods due to their numerous proven health benefits.\n",
      "They add distinct flavours to the food and are inseparable parts of Indian cuisine.\n",
      "However, Ayurveda does not support the usage of these two ingredients in your diet.\n",
      "Moreover, garlic is used to prepare various ayurvedic medicines.\n",
      "But Ayurveda does not support their excessive usage as it considers onion as tamasic in nature (makes people irritable) and garlic to be rajsic (disturbed sleep and drained energy) in nature.\n",
      "As per Ayurveda, both these ingredients produce excessive heat in the body.\n",
      "Ayurveda recommends having onion and garlic in low quantity.\n",
      "Ayurveda principles are mostly confused with spirituality and yoga that recommends avoiding both the ingredient as both are believed to distract a person’s focus and attention.\n",
      "These two ingredients are even avoided by people practicing meditation or following a spiritual path, as consumptions of onion and garlic are known to increase anger, aggression, ignorance, anxiety, and increase in sexual desire.\n",
      "It is even recommended for people trying to lose weight.\n"
     ]
    }
   ],
   "source": [
    "from sumy.summarizers.lsa import LsaSummarizer\n",
    "\n",
    "# creating the summarizer\n",
    "lsa_summarizer = LsaSummarizer()\n",
    "lsa_summary = lsa_summarizer(my_parser.document, sentences_count = output_sentences_count)\n",
    "\n",
    "# Printing the summary\n",
    "for sentence in lsa_summary:\n",
    "    print(sentence)"
   ]
  },
  {
   "cell_type": "markdown",
   "id": "2dfb3e13-6b2d-4a1f-92ed-6e6e3d0ed0d3",
   "metadata": {},
   "source": [
    "## Luhn Summarization algorithm’s approach is based on TF-IDF (Term Frequency-Inverse Document Frequency). "
   ]
  },
  {
   "cell_type": "code",
   "execution_count": 7,
   "id": "f5cda9cd-3069-4e47-8183-184bb31689d3",
   "metadata": {},
   "outputs": [
    {
     "name": "stdout",
     "output_type": "stream",
     "text": [
      "Onion and garlic, both are considered superfoods due to their numerous proven health benefits.\n",
      "Whether you are preparing curry, stew or soup, onion and garlic are important ingredients in it.\n",
      "However, Ayurveda does not support the usage of these two ingredients in your diet.\n",
      "It is not that Ayurveda does not acknowledge the health benefits of onion and garlic.\n",
      "But Ayurveda does not support their excessive usage as it considers onion as tamasic in nature (makes people irritable) and garlic to be rajsic (disturbed sleep and drained energy) in nature.\n",
      "As per Ayurveda, both these ingredients produce excessive heat in the body.\n",
      "It is true that our body needs some heat, but excessive heat may increase the risk of other health problems.\n",
      "Ayurveda principles are mostly confused with spirituality and yoga that recommends avoiding both the ingredient as both are believed to distract a person’s focus and attention.\n",
      "These two ingredients are even avoided by people practicing meditation or following a spiritual path, as consumptions of onion and garlic are known to increase anger, aggression, ignorance, anxiety, and increase in sexual desire.\n",
      "Health benefits of onion and garlic\n"
     ]
    }
   ],
   "source": [
    "from sumy.summarizers.luhn import LuhnSummarizer\n",
    "\n",
    "#  Creating the summarizer\n",
    "luhn_summarizer = LuhnSummarizer()\n",
    "luhn_summary = luhn_summarizer(my_parser.document, sentences_count = output_sentences_count)\n",
    "\n",
    "# Printing the summary\n",
    "for sentence in luhn_summary:\n",
    "  print(sentence)"
   ]
  },
  {
   "cell_type": "markdown",
   "id": "f4c561e7-3eb2-4d21-8440-388a74163b22",
   "metadata": {},
   "source": [
    "## extractive method is the KL-Sum algorithm"
   ]
  },
  {
   "cell_type": "code",
   "execution_count": 8,
   "id": "61b69158-c912-411f-856f-89a75241de7a",
   "metadata": {},
   "outputs": [
    {
     "name": "stdout",
     "output_type": "stream",
     "text": [
      "Onion and garlic, both are considered superfoods due to their numerous proven health benefits.\n",
      "They add distinct flavours to the food and are inseparable parts of Indian cuisine.\n",
      "But what is the reason behind this?\n",
      "The real reason\n",
      "It is not that Ayurveda does not acknowledge the health benefits of onion and garlic.\n",
      "Ayurveda recognizes onions and garlic as blood purifiers.\n",
      "Moreover, garlic is used to prepare various ayurvedic medicines.\n",
      "Health benefits of onion and garlic\n",
      "Due to its anti-bacterial, anti-fungal and anti-viral properties, garlic is known to reduce inflammation and lower high blood pressure.\n",
      "It is even recommended for people trying to lose weight.\n"
     ]
    }
   ],
   "source": [
    "from sumy.summarizers.kl import KLSummarizer\n",
    "kl_summarizer = KLSummarizer()\n",
    "kl_summary = kl_summarizer(my_parser.document, sentences_count = output_sentences_count)\n",
    "\n",
    "# Printing the summary\n",
    "for sentence in kl_summary:\n",
    "    print(sentence)"
   ]
  },
  {
   "cell_type": "markdown",
   "id": "3d0df982-ff6a-4d3b-91f9-df72d95032ad",
   "metadata": {},
   "source": [
    "## Summarization with T5 Transformers"
   ]
  },
  {
   "cell_type": "code",
   "execution_count": 9,
   "id": "1f706df3-9cee-4d40-938a-6a5fb8ea88cb",
   "metadata": {},
   "outputs": [
    {
     "name": "stderr",
     "output_type": "stream",
     "text": [
      "Truncation was not explicitly activated but `max_length` is provided a specific value, please use `truncation=True` to explicitly truncate examples to max length. Defaulting to 'longest_first' truncation strategy. If you encode pairs of sequences (GLUE-style) with the tokenizer you can select this strategy more precisely by providing a specific strategy to `truncation`.\n"
     ]
    },
    {
     "name": "stdout",
     "output_type": "stream",
     "text": [
      "<pad> <extra_id_0> and garlic are considered superfoods due to their proven health benefits. They add distinct\n"
     ]
    }
   ],
   "source": [
    "from transformers import T5Tokenizer, T5Config, T5ForConditionalGeneration\n",
    "\n",
    "my_model = T5ForConditionalGeneration.from_pretrained('t5-small')\n",
    "tokenizer = T5Tokenizer.from_pretrained('t5-small')\n",
    "\n",
    "input_ids = tokenizer.encode(article, return_tensors='pt', max_length=750, truncation=False)\n",
    "summary_ids = my_model.generate(input_ids)\n",
    "\n",
    "t5_summary = tokenizer.decode(summary_ids[0])\n",
    "print(t5_summary)"
   ]
  },
  {
   "cell_type": "markdown",
   "id": "1981d953-3c2d-48c9-a2da-25337f0a642e",
   "metadata": {},
   "source": [
    "# GPT-2 Transformers"
   ]
  },
  {
   "cell_type": "code",
   "execution_count": 10,
   "id": "4a7366dc-706d-42b9-bcb5-28d96543ad0b",
   "metadata": {},
   "outputs": [
    {
     "name": "stderr",
     "output_type": "stream",
     "text": [
      "Truncation was not explicitly activated but `max_length` is provided a specific value, please use `truncation=True` to explicitly truncate examples to max length. Defaulting to 'longest_first' truncation strategy. If you encode pairs of sequences (GLUE-style) with the tokenizer you can select this strategy more precisely by providing a specific strategy to `truncation`.\n",
      "Setting `pad_token_id` to `eos_token_id`:50256 for open-end generation.\n",
      "Input length of input_ids is 384, but ``max_length`` is set to 20.This can lead to unexpected behavior. You should consider increasing ``config.max_length`` or ``max_length``.\n"
     ]
    },
    {
     "name": "stdout",
     "output_type": "stream",
     "text": [
      "Onion and garlic, both are considered superfoods due to their numerous proven health benefits. They add distinct flavours to the food and are inseparable parts of Indian cuisine. Whether you are preparing curry, stew or soup, onion and garlic are important ingredients in it. However, Ayurveda does not support the usage of these two ingredients in your diet. But what is the reason behind this?\n",
      "The real reason\n",
      "\n",
      "It is not that Ayurveda does not acknowledge the health benefits of onion and garlic. Ayurveda recognizes onions and garlic as blood purifiers. Moreover, garlic is used to prepare various ayurvedic medicines. But Ayurveda does not support their excessive usage as it considers onion as tamasic in nature (makes people irritable) and garlic to be rajsic (disturbed sleep and drained energy) in nature. As per Ayurveda, both these ingredients produce excessive heat in the body.\n",
      "\n",
      "It is true that our body needs some heat, but excessive heat may increase the risk of other health problems. Ayurveda recommends having onion and garlic in low quantity. Ayurveda principles are mostly confused with spirituality and yoga that recommends avoiding both the ingredient as both are believed to distract a person’s focus and attention. These two ingredients are even avoided by people practicing meditation or following a spiritual path, as consumptions of onion and garlic are known to increase anger, aggression, ignorance, anxiety, and increase in sexual desire.\n",
      "Health benefits of onion and garlic\n",
      "\n",
      "Due to its anti-bacterial, anti-fungal and anti-viral properties, garlic is known to reduce inflammation and lower high blood pressure. It is even recommended for people trying to lose weight. Onions, on the other hand, remove toxins from the body, normalise digestion and are excellent to treat cold and cough.\n",
      "\n"
     ]
    }
   ],
   "source": [
    "# Importing model and tokenizer\n",
    "from transformers import GPT2Tokenizer,GPT2LMHeadModel\n",
    "\n",
    "# Instantiating the model and tokenizer with gpt-2\n",
    "tokenizer=GPT2Tokenizer.from_pretrained('gpt2')\n",
    "model=GPT2LMHeadModel.from_pretrained('gpt2')\n",
    "\n",
    "# Encoding text to get input ids & pass them to model.generate()\n",
    "inputs=tokenizer.batch_encode_plus([article], return_tensors='pt', max_length=750, truncation=False)\n",
    "summary_ids=model.generate(inputs['input_ids'], early_stopping=True)\n",
    "\n",
    "GPT_summary=tokenizer.decode(summary_ids[0], skip_special_tokens=True)\n",
    "print(GPT_summary)"
   ]
  },
  {
   "cell_type": "markdown",
   "id": "4942e2ae-7ad4-4e58-a0a1-4fc585f85d89",
   "metadata": {},
   "source": [
    "# XLM Transformers"
   ]
  },
  {
   "cell_type": "code",
   "execution_count": 11,
   "id": "d8d9362d-8f7d-43c2-832f-f48481deee69",
   "metadata": {},
   "outputs": [
    {
     "name": "stderr",
     "output_type": "stream",
     "text": [
      "Some weights of XLMWithLMHeadModel were not initialized from the model checkpoint at xlm-mlm-en-2048 and are newly initialized: ['transformer.position_ids']\n",
      "You should probably TRAIN this model on a down-stream task to be able to use it for predictions and inference.\n",
      "Input length of input_ids is 376, but ``max_length`` is set to 20.This can lead to unexpected behavior. You should consider increasing ``config.max_length`` or ``max_length``.\n"
     ]
    },
    {
     "name": "stdout",
     "output_type": "stream",
     "text": [
      "onion and garlic, both are considered superfoods due to their numerous proven health benefits. they add distinct flavours to the food and are inseparable parts of indian cuisine. whether you are preparing curry, stew or soup, onion and garlic are important ingredients in it. however, ayurveda does not support the usage of these two ingredients in your diet. but what is the reason behind this? the real reasonit is not that ayurveda does not acknowledge the health benefits of onion and garlic. ayurveda recognizes onions and garlic as blood purifiers. moreover, garlic is used to prepare various ayurvedic medicines. but ayurveda does not support their excessive usage as it considers onion as tamasic in nature ( makes people irritable ) and garlic to be rajsic ( disturbed sleep and drained energy ) in nature. as per ayurveda, both these ingredients produce excessive heat in the body.it is true that our body needs some heat, but excessive heat may increase the risk of other health problems. ayurveda recommends having onion and garlic in low quantity. ayurveda principles are mostly confused with spirituality and yoga that recommends avoiding both the ingredient as both are believed to distract a person's focus and attention. these two ingredients are even avoided by people practicing meditation or following a spiritual path, as consumptions of onion and garlic are known to increase anger, aggression, ignorance, anxiety, and increase in sexual desire.health benefits of onion and garlicdue to its anti-bacterial, anti-fungal and anti-viral properties, garlic is known to reduce inflammation and lower high blood pressure. it is even recommended for people trying to lose weight. onions, on the other hand, remove toxins from the body, normalise digestion and are excellent to treat cold and cough. as\n"
     ]
    }
   ],
   "source": [
    "# Importing model and tokenizer\n",
    "from transformers import XLMWithLMHeadModel, XLMTokenizer\n",
    "\n",
    "# Instantiating the model and tokenizer \n",
    "tokenizer = XLMTokenizer.from_pretrained('xlm-mlm-en-2048')\n",
    "model = XLMWithLMHeadModel.from_pretrained('xlm-mlm-en-2048')\n",
    "\n",
    "# Encoding text to get input ids & pass them to model.generate()\n",
    "inputs = tokenizer.batch_encode_plus([article], return_tensors='pt')\n",
    "summary_ids = model.generate(inputs['input_ids'], early_stopping=True)\n",
    "\n",
    "# Decode and print the summary\n",
    "XLM_summary = tokenizer.decode(summary_ids[0], skip_special_tokens=True)\n",
    "print(XLM_summary)"
   ]
  },
  {
   "cell_type": "code",
   "execution_count": null,
   "id": "bf4a224a-a489-4f3e-a999-ea91033562b3",
   "metadata": {},
   "outputs": [],
   "source": []
  }
 ],
 "metadata": {
  "kernelspec": {
   "display_name": "Python 3",
   "language": "python",
   "name": "python3"
  },
  "language_info": {
   "codemirror_mode": {
    "name": "ipython",
    "version": 3
   },
   "file_extension": ".py",
   "mimetype": "text/x-python",
   "name": "python",
   "nbconvert_exporter": "python",
   "pygments_lexer": "ipython3",
   "version": "3.8.5"
  },
  "widgets": {
   "application/vnd.jupyter.widget-state+json": {
    "state": {},
    "version_major": 2,
    "version_minor": 0
   }
  }
 },
 "nbformat": 4,
 "nbformat_minor": 5
}
