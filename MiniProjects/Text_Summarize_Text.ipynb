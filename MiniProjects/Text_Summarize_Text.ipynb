{
 "cells": [
  {
   "cell_type": "markdown",
   "id": "ea3a5a71-59fe-482a-915a-4022d97db566",
   "metadata": {},
   "source": [
    "# Introduction"
   ]
  },
  {
   "cell_type": "code",
   "execution_count": 1,
   "id": "8676d671-7795-4b02-a152-a58f4997a3cc",
   "metadata": {},
   "outputs": [],
   "source": [
    "# Warnings\n",
    "import warnings\n",
    "warnings.filterwarnings('ignore')\n",
    "\n",
    "# BEGIN: fix Python or Notebook SSL CERTIFICATE_VERIFY_FAILED\n",
    "import os, ssl\n",
    "if (not os.environ.get('PYTHONHTTPSVERIFY', '') and getattr(ssl, '_create_unverified_context', None)):\n",
    "    ssl._create_default_https_context = ssl._create_unverified_context\n",
    "# END: fix Python or Notebook SSL CERTIFICATE_VERIFY_FAILED"
   ]
  },
  {
   "cell_type": "markdown",
   "id": "bf7a0f67-2d31-4c8c-9036-de9b0b1c090b",
   "metadata": {},
   "source": [
    "## Installing pre-requsite libraries\n",
    "* https://pypi.org/project/bert-extractive-summarizer/"
   ]
  },
  {
   "cell_type": "code",
   "execution_count": 2,
   "id": "0a736be5-417b-41dc-b36d-674622a54f2c",
   "metadata": {},
   "outputs": [
    {
     "name": "stdout",
     "output_type": "stream",
     "text": [
      "\u001b[33mWARNING: Ignoring invalid distribution -ornado (/Library/Frameworks/Python.framework/Versions/3.8/lib/python3.8/site-packages)\u001b[0m\n",
      "\u001b[33mWARNING: Ignoring invalid distribution -ornado (/Library/Frameworks/Python.framework/Versions/3.8/lib/python3.8/site-packages)\u001b[0m\n",
      "\u001b[33mWARNING: Ignoring invalid distribution -ornado (/Library/Frameworks/Python.framework/Versions/3.8/lib/python3.8/site-packages)\u001b[0m\n",
      "\u001b[33mWARNING: Ignoring invalid distribution -ornado (/Library/Frameworks/Python.framework/Versions/3.8/lib/python3.8/site-packages)\u001b[0m\n",
      "\u001b[33mWARNING: Ignoring invalid distribution -ornado (/Library/Frameworks/Python.framework/Versions/3.8/lib/python3.8/site-packages)\u001b[0m\n"
     ]
    }
   ],
   "source": [
    "!pip -q install sumy transformers sentencepiece"
   ]
  },
  {
   "cell_type": "markdown",
   "id": "c5c7e282-f10e-4189-bd45-ed66aad4c174",
   "metadata": {},
   "source": [
    "### Import libraries"
   ]
  },
  {
   "cell_type": "code",
   "execution_count": 3,
   "id": "5fb50876-0c4c-4086-ad1c-c577f44f98f9",
   "metadata": {},
   "outputs": [],
   "source": [
    "from sumy.nlp.tokenizers import Tokenizer\n",
    "from sumy.parsers.plaintext import PlaintextParser\n",
    "from sumy.summarizers.lex_rank import LexRankSummarizer"
   ]
  },
  {
   "cell_type": "code",
   "execution_count": 4,
   "id": "9fbbd8a3-56be-4a2d-862c-f495785fae54",
   "metadata": {},
   "outputs": [],
   "source": [
    "content = [\n",
    "    \"Text_Summarize_Text/Technology_and_Engineering.txt\", #  Introduction\n",
    "    \"Text_Summarize_Text/Enough_With_the_Trolley_Problem.txt\",  # Introduction to Ethics\n",
    "    \"Text_Summarize_Text/How_Algorithms_Can_Learn_to_Discredit.txt\", # Disinformation\n",
    "    \"Text_Summarize_Text/A_Framework_for_Understanding_Sources of_Harm_throughout_the_Machine_Learning_LifeCycle.txt\", # Bias/Fairness\n",
    "    \"Text_Summarize_Text/Your_apps_know_where_you_were_last_night.txt\",  # Privacy\n",
    "    \"Text_Summarize_Text/The_fundamental_problem_with_Silicon_Valleys_favorite_growth_strategy.txt\", # Technological Colonialism\n",
    "    \"Text_Summarize_Text/Computing_in_the_Image_of_God.txt\" # Wrapping up\n",
    "]\n",
    "\n",
    "output_sentences_count = 10\n",
    "\n",
    "with open(content[5], \"r\", encoding=\"utf-8\") as f: # open(r'C:\\Users\\...site_1.html', \"r\") as f:\n",
    "    article = f.read()  \n",
    "    \n",
    "# article"
   ]
  },
  {
   "cell_type": "code",
   "execution_count": 5,
   "id": "e0407568-6e9d-4926-afd3-fcff0127bb1f",
   "metadata": {},
   "outputs": [
    {
     "name": "stdout",
     "output_type": "stream",
     "text": [
      "Would these companies now be profitable instead of hemorrhaging billions of dollars a year?\n",
      "So we set out to democratize the web, with the premise that everyone who had a browser should also be able to have a server.\n",
      "Even though Uber had far more money, the price war between the two companies cost Uber far more in markets where its share was large and Lyft’s was small.\n",
      "While Hoffman and Yeh’s book claims that companies like Google, Facebook, Microsoft, Apple, and Amazon are icons of the blitzscaling approach, this idea is plausible only with quite a bit of revisionist history.\n",
      "But is a business really a business if it can’t pay its own way?\n",
      "They can build a business that they love, like I did, and continue to operate it for many years.\n",
      "In our earlier funds, though, we were trying to shoehorn these companies into a traditional venture model when what we really needed was a new approach to financing.\n",
      "While Google has continued to grow the business for its partners, the company has grown its own share of the market far, far faster.\n",
      "If it were just these two companies, it would be bad enough.\n",
      "The goal for Lyft and Uber—and for all the entrepreneurs being urged to blitzscale—should be to make their companies more sustainable, not just more explosive; more equitable, not more extractive.\n"
     ]
    }
   ],
   "source": [
    "my_parser = PlaintextParser.from_string(article, Tokenizer('english'))\n",
    "\n",
    "# Creating a summary of 3 sentences.\n",
    "lex_rank_summarizer = LexRankSummarizer()\n",
    "lexrank_summary = lex_rank_summarizer(my_parser.document, sentences_count = output_sentences_count)\n",
    "\n",
    "# Printing the summary\n",
    "for sentence in lexrank_summary:\n",
    "  print(sentence)"
   ]
  },
  {
   "cell_type": "markdown",
   "id": "b7e3412b-a7ec-4cf8-98cf-730ac31d38e3",
   "metadata": {},
   "source": [
    "## LSA (Latent semantic analysis)"
   ]
  },
  {
   "cell_type": "code",
   "execution_count": 6,
   "id": "f59ae264-120f-426e-8359-2eab5419f6e3",
   "metadata": {},
   "outputs": [
    {
     "name": "stdout",
     "output_type": "stream",
     "text": [
      "They also persuaded most customers to make those payments via direct bank transfers, which have much lower fees than credit cards.\n",
      "Too often, though, those passing new laws have given insufficient thought to their implementation, leaving existing bureaucratic processes in place.\n",
      "So we’re asking ourselves, is it enough to show what’s possible and hope that other do the right thing?\n",
      "And even though we abandoned these two opportunities when the blitzscalers arrived, O’Reilly Media has had enormous financial success, becoming a leader in each of our chosen markets.\n",
      "To too many investors and entrepreneurs, it means building companies that achieve massive financial exits, either by being sold or going public.\n",
      "Funding dries up, and companies that could have built a sustainable niche if they’d grown organically go out of business instead.\n",
      "Peter Rahal, one of the two founders, recalls that he and co-founder Jared Smith were in his parents’ kitchen, discussing how they would go about raising capital to start their business.\n",
      "His immigrant father said something like, “You guys need to shut the fuck up and just sell a thousand bars.”\n",
      "Google might defend itself by saying that providing information directly in its search results is better for users, especially on mobile devices with much more limited screen real estate.\n",
      "This creates enormous pressure to eliminate costs, including the cost of drivers, by investing even more money in technologies like autonomous vehicles, once again “prioritiz[ing] speed over efficiency,” and “risking potentially disastrous defeat” while blitzscaling their way into an unknown future.\n"
     ]
    }
   ],
   "source": [
    "from sumy.summarizers.lsa import LsaSummarizer\n",
    "\n",
    "# creating the summarizer\n",
    "lsa_summarizer = LsaSummarizer()\n",
    "lsa_summary = lsa_summarizer(my_parser.document, sentences_count = output_sentences_count)\n",
    "\n",
    "# Printing the summary\n",
    "for sentence in lsa_summary:\n",
    "    print(sentence)"
   ]
  },
  {
   "cell_type": "markdown",
   "id": "2dfb3e13-6b2d-4a1f-92ed-6e6e3d0ed0d3",
   "metadata": {},
   "source": [
    "## Luhn Summarization algorithm’s approach is based on TF-IDF (Term Frequency-Inverse Document Frequency). "
   ]
  },
  {
   "cell_type": "code",
   "execution_count": 7,
   "id": "f5cda9cd-3069-4e47-8183-184bb31689d3",
   "metadata": {},
   "outputs": [
    {
     "name": "stdout",
     "output_type": "stream",
     "text": [
      "The internet is awash in billionaires who made their fortune by following a strategy summed up in Mark Zuckerberg’s advice to “move fast and break things.” Hoffman and Yeh invoke the storied successes of Apple, Microsoft, Amazon, Google, and Facebook, all of whom have dominated their respective markets and made their founders rich in the process, and suggest that it is blitzscaling that got them there.\n",
      "If they’d waited to figure out the business model, someone else might have beat them to the customer that made them a success: eBay, which went on to buy Paypal for $1.5 billion (which everyone thought was a lot of money in those days), launching Thiel and Hoffman on their storied careers as serial entrepreneurs and investors.\n",
      "However, Hoffman and Yeh do a good job of explaining the conditions in which blitzscaling makes sense: The market has to be really big; there has to be a sustainable competitive advantage (e.g., network effects) from getting bigger faster than the competition; you have to have efficient means to bootstrap distribution; and you have to have high gross margins, so that the business will generate positive cash flow and profits when it does get to scale.\n",
      "For example, to clear a criminal record under 2014’s California Proposition 47, which reduced the penalty for many crimes by reclassifying them as misdemeanors rather than felonies, a person must go to the District Attorney’s office in each jurisdiction where he or she has a record, ask the DA to download their rap sheet, determine eligibility by assessing the obscure codes on the rap sheet, and, if eligible, petition the court for clearance.\n",
      "And in too many markets, in the absence of antitrust enforcement, there is always the risk that no matter how much money you raise and how fast you go, the entrenched giants will be able to leverage their existing business to take over the new market you’ve created.\n",
      "Each of these companies achieved profitability (or in Amazon’s case, positive cash flow) long before its IPO, and growth wasn’t driven by a blitzkrieg of spending to acquire customers below cost, but by breakthrough products and services, and by strategic business model innovations that were rooted in a future that the competition didn’t yet understand.\n",
      "But blitzscaling also enables too many companies like Snap, which managed to go public while still losing enormous amounts of money, making its founders and investors rich while passing on to public market investors the risk that the company will never actually become a profitable business.\n",
      "“Here is one of the ruthless practices that has helped make Silicon Valley so successful: Investors will look at a company that is on an upward trajectory but doesn’t display the proverbial hockey stick of exponential growth and conclude that they need to either sell the business or take on additional risk that might increase the chances of achieving exponential growth… Silicon Valley venture capitalists want entrepreneurs to pursue exponential growth even if doing so costs more money and increases the chances that the business will fail.”\n",
      "When the traditional venture-capital wisdom is to shutter companies that aren’t achieving hypergrowth, businesses that would once have made meaningful contributions to our economy are not funded, or are starved of further investment once it is clear that they no longer have a hope of becoming a home run.\n",
      "Consider these companies: Mailchimp, funded by $490 million in annual revenue from its 12 million customers, profitable from day one without a penny of venture capital; Atlassian, bootstrapped for eight years before raising capital in 2010 after it had reached nearly $75 million in self-funded annual revenue; and Shutterstock, which took in venture capital only after it had already bootstrapped its way to becoming the largest subscription-based stock photo agency in the world.\n"
     ]
    }
   ],
   "source": [
    "from sumy.summarizers.luhn import LuhnSummarizer\n",
    "\n",
    "#  Creating the summarizer\n",
    "luhn_summarizer = LuhnSummarizer()\n",
    "luhn_summary = luhn_summarizer(my_parser.document, sentences_count = output_sentences_count)\n",
    "\n",
    "# Printing the summary\n",
    "for sentence in luhn_summary:\n",
    "  print(sentence)"
   ]
  },
  {
   "cell_type": "markdown",
   "id": "f4c561e7-3eb2-4d21-8440-388a74163b22",
   "metadata": {},
   "source": [
    "## extractive method is the KL-Sum algorithm"
   ]
  },
  {
   "cell_type": "code",
   "execution_count": 8,
   "id": "61b69158-c912-411f-856f-89a75241de7a",
   "metadata": {},
   "outputs": [
    {
     "name": "stdout",
     "output_type": "stream",
     "text": [
      "Would these companies now be profitable instead of hemorrhaging billions of dollars a year?\n",
      "We see the consequences of this selection bias in the history of the on-demand ride-hailing market.\n",
      "In the real world, though, while Sunil Paul’s company went out of business, it was Travis Kalanick of Uber who got fired.\n",
      "Meanwhile, the forced bloom of Uber’s market share lead became a liability even in the US.\n",
      "Even Amazon, which lost billions before achieving profitability, raised only $108 million in venture capital before its IPO.\n",
      "Hypergrowth was the result rather than the cause of these companies’ success.\n",
      "But is a business really a business if it can’t pay its own way?\n",
      "Is it a business or a financial instrument?\n",
      "In the long run it’s a weighing machine.” That is, in the short term, investors vote (or more accurately, place bets) on the present value of the future earnings of a company.\n",
      "What is the responsibility of the winners?\n"
     ]
    }
   ],
   "source": [
    "from sumy.summarizers.kl import KLSummarizer\n",
    "kl_summarizer = KLSummarizer()\n",
    "kl_summary = kl_summarizer(my_parser.document, sentences_count = output_sentences_count)\n",
    "\n",
    "# Printing the summary\n",
    "for sentence in kl_summary:\n",
    "    print(sentence)"
   ]
  },
  {
   "cell_type": "markdown",
   "id": "3d0df982-ff6a-4d3b-91f9-df72d95032ad",
   "metadata": {},
   "source": [
    "## Summarization with T5 Transformers"
   ]
  },
  {
   "cell_type": "code",
   "execution_count": 9,
   "id": "1f706df3-9cee-4d40-938a-6a5fb8ea88cb",
   "metadata": {},
   "outputs": [
    {
     "name": "stderr",
     "output_type": "stream",
     "text": [
      "Truncation was not explicitly activated but `max_length` is provided a specific value, please use `truncation=True` to explicitly truncate examples to max length. Defaulting to 'longest_first' truncation strategy. If you encode pairs of sequences (GLUE-style) with the tokenizer you can select this strategy more precisely by providing a specific strategy to `truncation`.\n"
     ]
    },
    {
     "name": "stdout",
     "output_type": "stream",
     "text": [
      "<pad> <extra_id_0>,<extra_id_1>,<extra_id_2>,<extra_id_3>,<extra_id_4>,<extra_id_5>, and a market that grew\n"
     ]
    }
   ],
   "source": [
    "from transformers import T5Tokenizer, T5Config, T5ForConditionalGeneration\n",
    "\n",
    "my_model = T5ForConditionalGeneration.from_pretrained('t5-small')\n",
    "tokenizer = T5Tokenizer.from_pretrained('t5-small')\n",
    "\n",
    "input_ids = tokenizer.encode(article, return_tensors='pt', max_length=750, truncation=False)\n",
    "summary_ids = my_model.generate(input_ids)\n",
    "\n",
    "t5_summary = tokenizer.decode(summary_ids[0])\n",
    "print(t5_summary)"
   ]
  },
  {
   "cell_type": "markdown",
   "id": "1981d953-3c2d-48c9-a2da-25337f0a642e",
   "metadata": {},
   "source": [
    "# GPT-2 Transformers"
   ]
  },
  {
   "cell_type": "code",
   "execution_count": 10,
   "id": "4a7366dc-706d-42b9-bcb5-28d96543ad0b",
   "metadata": {},
   "outputs": [
    {
     "name": "stderr",
     "output_type": "stream",
     "text": [
      "Truncation was not explicitly activated but `max_length` is provided a specific value, please use `truncation=True` to explicitly truncate examples to max length. Defaulting to 'longest_first' truncation strategy. If you encode pairs of sequences (GLUE-style) with the tokenizer you can select this strategy more precisely by providing a specific strategy to `truncation`.\n",
      "Setting `pad_token_id` to `eos_token_id`:50256 for open-end generation.\n",
      "Input length of input_ids is 750, but ``max_length`` is set to 20.This can lead to unexpected behavior. You should consider increasing ``config.max_length`` or ``max_length``.\n"
     ]
    },
    {
     "name": "stdout",
     "output_type": "stream",
     "text": [
      "Look no further than the race between Lyft and Uber to dominate the online ride-hailing market. Both companies are gearing up for their IPOs in the next few months. Street talk has Lyft shooting for a valuation between $15 and $30 billion dollars, and Uber valued at an astonishing $120 billion dollars. Neither company is profitable; their enormous valuations are based on the premise that if a company grows big enough and fast enough, profits will eventually follow.\n",
      "\n",
      "Most monopolies or duopolies develop over time, and have been considered dangerous to competitive markets; now they are sought after from the start and are the holy grail for investors. If LinkedIn co-founder Reid Hoffman and entrepreneur Chris Yeh’s new book Blitzscaling is to be believed, the Uber-style race to the top (or the bottom, depending on your point of view) is the secret of success for today’s technology businesses.\n",
      "\n",
      "Blitzscaling promises to teach techniques that are “the lightning fast path to building massively valuable companies.” Hoffman and Yeh argue that in today’s world, it’s essential to “achieve massive scale at incredible speed” in order to seize the ground before competitors do. By their definition, blitzscaling (derived from the blitzkrieg or “lightning war” strategy of Nazi general Heinz Guderian) “prioritizes speed over efficiency,” and risks “potentially disastrous defeat in order to maximize speed and surprise.”\n",
      "\n",
      "Many of these businesses depend on network effects, which means that the company that gets to scale first is likely to stay on top. So, for startups, this strategy typically involves raising lots of capital and moving quickly to dominate a new market, even when the company’s leaders may not know how they are going to make money in the long term.\n",
      "\n",
      "This premise has become doctrine in Silicon Valley. But is it correct? And is it good for society? I have my doubts.\n",
      "\n",
      "Imagine, for a moment, a world in which Uber and Lyft hadn’t been able to raise billions of dollars in a winner-takes-all race to dominate the online ride-hailing market. How might that market have developed differently?\n",
      "\n",
      "Uber and Lyft have developed powerful services that delight their users and are transforming urban transportation. But if they hadn’t been given virtually unlimited capital to offer rides at subsidized prices taxicabs couldn’t match in order to grow their user base at blitzscaling speed, would they be offering their service for less than it actually costs to deliver? Would each company be spending 55% of net revenue on driver incentives, passenger discounts, sales, and marketing to acquire passengers and drivers faster than the other? Would these companies now be profitable instead of hemorrhaging billions of dollars a year? Would incumbent transportation companies have had more time to catch up, leading to a more competitive market? Might drivers have gotten a bigger share of the pie? Would a market that grew more organically—like the web, e-commerce, smartphones, or mobile mapping services—have created more value over the long term?\n",
      "\n",
      "We’ll never know, because investors, awash in cheap capital, anointed the winners rather than letting the market decide who should succeed and who should fail. This created a de-facto duopoly long before either company had proven that it has a sustainable business model. And because these two giants are now locked in a capital-fueled deathmatch, the market is largely closed off to new ideas except from within the existing, well-funded companies.\n"
     ]
    }
   ],
   "source": [
    "# Importing model and tokenizer\n",
    "from transformers import GPT2Tokenizer,GPT2LMHeadModel\n",
    "\n",
    "# Instantiating the model and tokenizer with gpt-2\n",
    "tokenizer=GPT2Tokenizer.from_pretrained('gpt2')\n",
    "model=GPT2LMHeadModel.from_pretrained('gpt2')\n",
    "\n",
    "# Encoding text to get input ids & pass them to model.generate()\n",
    "inputs=tokenizer.batch_encode_plus([article], return_tensors='pt', max_length=750, truncation=False)\n",
    "summary_ids=model.generate(inputs['input_ids'], early_stopping=True)\n",
    "\n",
    "GPT_summary=tokenizer.decode(summary_ids[0], skip_special_tokens=True)\n",
    "print(GPT_summary)"
   ]
  },
  {
   "cell_type": "markdown",
   "id": "ab871a4c-8a5d-4e68-9617-6aa14d237af7",
   "metadata": {},
   "source": [
    "## Huggingface sentence transformers\n",
    "\n",
    "https://huggingface.co/sentence-transformers/paraphrase-multilingual-mpnet-base-v2"
   ]
  },
  {
   "cell_type": "code",
   "execution_count": 11,
   "id": "1dcd7627-4efc-4eab-88c9-a0bf2d80a6a4",
   "metadata": {},
   "outputs": [
    {
     "name": "stdout",
     "output_type": "stream",
     "text": [
      "\u001b[33mWARNING: Ignoring invalid distribution -ornado (/Library/Frameworks/Python.framework/Versions/3.8/lib/python3.8/site-packages)\u001b[0m\n",
      "\u001b[33mWARNING: Ignoring invalid distribution -ornado (/Library/Frameworks/Python.framework/Versions/3.8/lib/python3.8/site-packages)\u001b[0m\n",
      "\u001b[33mWARNING: Ignoring invalid distribution -ornado (/Library/Frameworks/Python.framework/Versions/3.8/lib/python3.8/site-packages)\u001b[0m\n",
      "\u001b[33mWARNING: Ignoring invalid distribution -ornado (/Library/Frameworks/Python.framework/Versions/3.8/lib/python3.8/site-packages)\u001b[0m\n",
      "\u001b[33mWARNING: Ignoring invalid distribution -ornado (/Library/Frameworks/Python.framework/Versions/3.8/lib/python3.8/site-packages)\u001b[0m\n",
      "Note: you may need to restart the kernel to use updated packages.\n"
     ]
    }
   ],
   "source": [
    "pip -q install -U sentence-transformers"
   ]
  },
  {
   "cell_type": "code",
   "execution_count": 12,
   "id": "eccb77bc-a26b-4581-a512-ed5059d5241d",
   "metadata": {},
   "outputs": [
    {
     "ename": "AttributeError",
     "evalue": "'numpy.ndarray' object has no attribute 'unique_consecutive'",
     "output_type": "error",
     "traceback": [
      "\u001b[0;31m---------------------------------------------------------------------------\u001b[0m",
      "\u001b[0;31mAttributeError\u001b[0m                            Traceback (most recent call last)",
      "\u001b[0;32m<ipython-input-12-94a1103c31c3>\u001b[0m in \u001b[0;36m<module>\u001b[0;34m\u001b[0m\n\u001b[1;32m      3\u001b[0m \u001b[0mmodel\u001b[0m \u001b[0;34m=\u001b[0m \u001b[0mSentenceTransformer\u001b[0m\u001b[0;34m(\u001b[0m\u001b[0;34m'sentence-transformers/paraphrase-multilingual-mpnet-base-v2'\u001b[0m\u001b[0;34m)\u001b[0m\u001b[0;34m\u001b[0m\u001b[0;34m\u001b[0m\u001b[0m\n\u001b[1;32m      4\u001b[0m \u001b[0membeddings\u001b[0m \u001b[0;34m=\u001b[0m \u001b[0mmodel\u001b[0m\u001b[0;34m.\u001b[0m\u001b[0mencode\u001b[0m\u001b[0;34m(\u001b[0m\u001b[0marticle\u001b[0m\u001b[0;34m)\u001b[0m\u001b[0;34m\u001b[0m\u001b[0;34m\u001b[0m\u001b[0m\n\u001b[0;32m----> 5\u001b[0;31m \u001b[0membeddings\u001b[0m\u001b[0;34m.\u001b[0m\u001b[0munique_consecutive\u001b[0m\u001b[0;34m\u001b[0m\u001b[0;34m\u001b[0m\u001b[0m\n\u001b[0m",
      "\u001b[0;31mAttributeError\u001b[0m: 'numpy.ndarray' object has no attribute 'unique_consecutive'"
     ]
    }
   ],
   "source": [
    "from sentence_transformers import SentenceTransformer\n",
    "\n",
    "model = SentenceTransformer('sentence-transformers/paraphrase-multilingual-mpnet-base-v2')\n",
    "embeddings = model.encode(article)\n",
    "embeddings.unique_consecutive"
   ]
  },
  {
   "cell_type": "code",
   "execution_count": null,
   "id": "ae66eb47-c8cf-4ceb-a1c5-4f740bc2c7e2",
   "metadata": {},
   "outputs": [],
   "source": [
    "embeddings"
   ]
  },
  {
   "cell_type": "markdown",
   "id": "4942e2ae-7ad4-4e58-a0a1-4fc585f85d89",
   "metadata": {},
   "source": [
    "# XLM Transformers"
   ]
  },
  {
   "cell_type": "code",
   "execution_count": null,
   "id": "d8d9362d-8f7d-43c2-832f-f48481deee69",
   "metadata": {},
   "outputs": [],
   "source": [
    "# Importing model and tokenizer\n",
    "from transformers import XLMWithLMHeadModel, XLMTokenizer\n",
    "\n",
    "# Instantiating the model and tokenizer \n",
    "tokenizer = XLMTokenizer.from_pretrained('xlm-mlm-en-2048')\n",
    "model = XLMWithLMHeadModel.from_pretrained('xlm-mlm-en-2048')\n",
    "\n",
    "# Encoding text to get input ids & pass them to model.generate()\n",
    "inputs = tokenizer.batch_encode_plus([article], return_tensors='pt')\n",
    "summary_ids = model.generate(inputs['input_ids'], early_stopping=False)\n",
    "\n",
    "# Decode and print the summary\n",
    "XLM_summary = tokenizer.decode(summary_ids[0], skip_special_tokens=True)\n",
    "print(XLM_summary)"
   ]
  },
  {
   "cell_type": "code",
   "execution_count": null,
   "id": "bf4a224a-a489-4f3e-a999-ea91033562b3",
   "metadata": {},
   "outputs": [],
   "source": []
  }
 ],
 "metadata": {
  "kernelspec": {
   "display_name": "Python 3",
   "language": "python",
   "name": "python3"
  },
  "language_info": {
   "codemirror_mode": {
    "name": "ipython",
    "version": 3
   },
   "file_extension": ".py",
   "mimetype": "text/x-python",
   "name": "python",
   "nbconvert_exporter": "python",
   "pygments_lexer": "ipython3",
   "version": "3.8.5"
  },
  "widgets": {
   "application/vnd.jupyter.widget-state+json": {
    "state": {},
    "version_major": 2,
    "version_minor": 0
   }
  }
 },
 "nbformat": 4,
 "nbformat_minor": 5
}
