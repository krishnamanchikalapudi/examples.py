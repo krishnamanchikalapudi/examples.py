{
 "cells": [
  {
   "cell_type": "markdown",
   "id": "9bd4074e-f3fd-4322-a1de-af77b817a123",
   "metadata": {},
   "source": [
    "# Text Sentiment Analysis\n",
    "The NLTK libraries include a few packages to help solve the issues we experienced in the gender classifier model. \n",
    "\n",
    "* First is the SentimentAnalyzer module, which allows you to include additional features using built-in functions.\n",
    "* The second is called VADER, which stands for Valence Aware Dictionary and Sentiment Reasoner"
   ]
  },
  {
   "cell_type": "code",
   "execution_count": 1,
   "id": "9f474a2e-d9f3-4eca-bcfa-c555e32dafbb",
   "metadata": {},
   "outputs": [],
   "source": [
    "# Warnings\n",
    "import warnings\n",
    "warnings.filterwarnings('ignore')\n",
    "\n",
    "# BEGIN: fix Python or Notebook SSL CERTIFICATE_VERIFY_FAILED\n",
    "import os, ssl\n",
    "if (not os.environ.get('PYTHONHTTPSVERIFY', '') and getattr(ssl, '_create_unverified_context', None)):\n",
    "    ssl._create_default_https_context = ssl._create_unverified_context\n",
    "# END: fix Python or Notebook SSL CERTIFICATE_VERIFY_FAILED"
   ]
  },
  {
   "cell_type": "code",
   "execution_count": 2,
   "id": "9b7530e8-1767-4b9e-8862-95abf8e9aef9",
   "metadata": {},
   "outputs": [
    {
     "name": "stdout",
     "output_type": "stream",
     "text": [
      "\u001b[33mWARNING: Ignoring invalid distribution -ornado (/Library/Frameworks/Python.framework/Versions/3.8/lib/python3.8/site-packages)\u001b[0m\n",
      "\u001b[33mWARNING: Ignoring invalid distribution -ornado (/Library/Frameworks/Python.framework/Versions/3.8/lib/python3.8/site-packages)\u001b[0m\n",
      "\u001b[33mWARNING: Ignoring invalid distribution -ornado (/Library/Frameworks/Python.framework/Versions/3.8/lib/python3.8/site-packages)\u001b[0m\n",
      "\u001b[33mWARNING: Ignoring invalid distribution -ornado (/Library/Frameworks/Python.framework/Versions/3.8/lib/python3.8/site-packages)\u001b[0m\n",
      "\u001b[33mWARNING: Ignoring invalid distribution -ornado (/Library/Frameworks/Python.framework/Versions/3.8/lib/python3.8/site-packages)\u001b[0m\n"
     ]
    }
   ],
   "source": [
    "!pip -q install -U setuptools wheel spacy nltk twython pandas numpy beautifulsoup4 html2text"
   ]
  },
  {
   "cell_type": "code",
   "execution_count": 3,
   "id": "a0131d60-df58-4b7f-97e7-2c933fd53788",
   "metadata": {},
   "outputs": [
    {
     "name": "stdout",
     "output_type": "stream",
     "text": [
      "\u001b[33mWARNING: Ignoring invalid distribution -ornado (/Library/Frameworks/Python.framework/Versions/3.8/lib/python3.8/site-packages)\u001b[0m\n",
      "\u001b[33mWARNING: Ignoring invalid distribution -ornado (/Library/Frameworks/Python.framework/Versions/3.8/lib/python3.8/site-packages)\u001b[0m\n",
      "\u001b[33mWARNING: Ignoring invalid distribution -ornado (/Library/Frameworks/Python.framework/Versions/3.8/lib/python3.8/site-packages)\u001b[0m\n",
      "\u001b[33mWARNING: Ignoring invalid distribution -ornado (/Library/Frameworks/Python.framework/Versions/3.8/lib/python3.8/site-packages)\u001b[0m\n",
      "\u001b[33mWARNING: Ignoring invalid distribution -ornado (/Library/Frameworks/Python.framework/Versions/3.8/lib/python3.8/site-packages)\u001b[0m\n"
     ]
    }
   ],
   "source": [
    "# Installing Spacy NLP english models. More information at https://spacy.io/models/en\n",
    "!pip -q install https://github.com/explosion/spacy-models/releases/download/en_core_web_sm-3.0.0/en_core_web_sm-3.0.0.tar.gz"
   ]
  },
  {
   "cell_type": "markdown",
   "id": "bf2ef5b0-dfdd-4a13-8358-9d2a878ec989",
   "metadata": {},
   "source": [
    "## Read website content"
   ]
  },
  {
   "cell_type": "code",
   "execution_count": 2,
   "id": "3800fce7-c099-42e2-b044-b6b51ae0b1b4",
   "metadata": {},
   "outputs": [],
   "source": [
    "import urllib as url\n",
    "import bs4 as bs\n",
    "\n",
    "from IPython.display import HTML, display"
   ]
  },
  {
   "cell_type": "code",
   "execution_count": 3,
   "id": "b36953fd-65ed-480e-b295-b9132a3b0a5a",
   "metadata": {},
   "outputs": [
    {
     "data": {
      "text/plain": [
       "(bytes, 85614)"
      ]
     },
     "execution_count": 3,
     "metadata": {},
     "output_type": "execute_result"
    }
   ],
   "source": [
    "content = \"https://www.scu.edu/ethics-in-technology-practice/ethical-toolkit/\"\n",
    "article_html = url.request.urlopen(content)\n",
    "article_html = article_html.read()\n",
    "\n",
    "type(article_html), len(article_html)\n",
    "# article"
   ]
  },
  {
   "cell_type": "code",
   "execution_count": 4,
   "id": "cb00bfb3-3cf0-4634-9e13-1feb62c1f9ce",
   "metadata": {},
   "outputs": [],
   "source": [
    "import html2text\n",
    "\n",
    "html_2_text = html2text.HTML2Text()\n",
    "html_2_text.ignore_links = True\n",
    "article_txt = html_2_text.handle(article_html.decode('utf-8'))\n",
    "\n",
    "# display(HTML(article_txt))"
   ]
  },
  {
   "cell_type": "markdown",
   "id": "ac562ffe-07b5-4224-b693-6f622a879441",
   "metadata": {},
   "source": [
    "## Analyze the Sentiment Score on webcontent "
   ]
  },
  {
   "cell_type": "markdown",
   "id": "fd8c7ea9-3086-443c-9bad-5aed6316e42c",
   "metadata": {},
   "source": [
    "### Remove stop words "
   ]
  },
  {
   "cell_type": "code",
   "execution_count": 7,
   "id": "222f0e75-4162-49f2-b7ed-2ea84bfb4ee3",
   "metadata": {},
   "outputs": [],
   "source": [
    "import spacy"
   ]
  },
  {
   "cell_type": "code",
   "execution_count": 8,
   "id": "3f0803e1-0439-45ba-84bb-be802c4c96ff",
   "metadata": {},
   "outputs": [
    {
     "name": "stdout",
     "output_type": "stream",
     "text": [
      " Spacy version: 3.0.6 \n",
      "Noun phrases: <generator object <genexpr> at 0x7fb3509c27b0>\n",
      "Verbs: <generator object <genexpr> at 0x7fb3509c2f20>\n"
     ]
    }
   ],
   "source": [
    "# load English tokenizer, tagger, parser and NET\n",
    "print (f\" Spacy version: {spacy.__version__} \")\n",
    "\n",
    "nlp = spacy.load(\"en_core_web_sm\")\n",
    "doc = nlp(article_txt)\n",
    "\n",
    "print(f\"Noun phrases: {chunk.text for chunk in doc.noun_chunks}\")\n",
    "print(f\"Verbs: {token.lemma_ for token in doc if token.pos_ == 'VERB'}\")\n",
    "\n",
    "# find named entities, phrases \n",
    "# for entity in doc.ents:\n",
    "#     print(entity.text, entity.label_)"
   ]
  },
  {
   "cell_type": "markdown",
   "id": "fe3be01a-db53-4fa9-802d-f484fe89fdbd",
   "metadata": {},
   "source": [
    "### Predict sentiment on the content"
   ]
  },
  {
   "cell_type": "code",
   "execution_count": 9,
   "id": "73d89da8-7cb5-440e-80d0-8fb051e3b967",
   "metadata": {},
   "outputs": [
    {
     "name": "stderr",
     "output_type": "stream",
     "text": [
      "[nltk_data] Downloading package vader_lexicon to\n",
      "[nltk_data]     /Users/krishnamanchikalapudi/nltk_data...\n",
      "[nltk_data]   Package vader_lexicon is already up-to-date!\n"
     ]
    }
   ],
   "source": [
    "import nltk\n",
    "nltk.download('vader_lexicon')\n",
    "from nltk.sentiment.vader import SentimentIntensityAnalyzer"
   ]
  },
  {
   "cell_type": "code",
   "execution_count": 11,
   "id": "29f2140e-0911-4e3e-bfc7-322dc1d1aeef",
   "metadata": {},
   "outputs": [
    {
     "data": {
      "text/plain": [
       "'3.6.2'"
      ]
     },
     "execution_count": 11,
     "metadata": {},
     "output_type": "execute_result"
    }
   ],
   "source": [
    "nltk.__version__"
   ]
  },
  {
   "cell_type": "code",
   "execution_count": 10,
   "id": "22a73382-1d86-4444-8323-0141effea25c",
   "metadata": {},
   "outputs": [
    {
     "name": "stdout",
     "output_type": "stream",
     "text": [
      "{'neg': 0.098, 'neu': 0.812, 'pos': 0.09, 'compound': -0.9947}\n",
      "Positive score: 0.09\n",
      "Negative score: 0.098\n",
      "Neutral score: 0.812\n",
      "\n",
      "\n",
      "Predicted sentiment NEGATIVE and score is -0.9947 \n",
      "url: https://nymag.com/intelligencer/2020/12/moderna-covid-19-vaccine-design.html \n"
     ]
    }
   ],
   "source": [
    "analyzer = SentimentIntensityAnalyzer()\n",
    "content_analyzer = analyzer.polarity_scores(article_txt)\n",
    "\n",
    "# Vader score\n",
    "print(content_analyzer)\n",
    "print(f\"Positive score: {content_analyzer['pos']}\")\n",
    "print(f\"Negative score: {content_analyzer['neg']}\")\n",
    "print(f\"Neutral score: {content_analyzer['neu']}\")\n",
    "\n",
    "predict_sentiment = ''\n",
    "if (content_analyzer['compound'] >= 0.3):\n",
    "    predict_sentiment = 'POSITIVE'\n",
    "elif ((content_analyzer['compound'] >= 0) & (content_analyzer['compound'] < 0.3)):\n",
    "    predict_sentiment = 'NEUTRAL'\n",
    "elif (content_analyzer['compound'] < 0):\n",
    "    predict_sentiment = 'NEGATIVE'\n",
    "    \n",
    "print(f\"\\n\\nPredicted sentiment {predict_sentiment} and score is {content_analyzer['compound']} \\nurl: {content} \")"
   ]
  }
 ],
 "metadata": {
  "kernelspec": {
   "display_name": "Python 3",
   "language": "python",
   "name": "python3"
  },
  "language_info": {
   "codemirror_mode": {
    "name": "ipython",
    "version": 3
   },
   "file_extension": ".py",
   "mimetype": "text/x-python",
   "name": "python",
   "nbconvert_exporter": "python",
   "pygments_lexer": "ipython3",
   "version": "3.8.5"
  },
  "widgets": {
   "application/vnd.jupyter.widget-state+json": {
    "state": {},
    "version_major": 2,
    "version_minor": 0
   }
  }
 },
 "nbformat": 4,
 "nbformat_minor": 5
}
