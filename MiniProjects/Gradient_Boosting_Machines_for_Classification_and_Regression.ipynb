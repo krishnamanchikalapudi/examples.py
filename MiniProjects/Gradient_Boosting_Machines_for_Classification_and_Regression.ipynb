{
 "cells": [
  {
   "cell_type": "markdown",
   "metadata": {
    "id": "u0pr5N-DfGQe"
   },
   "source": [
    "# Import Libraries and Market Data"
   ]
  },
  {
   "cell_type": "code",
   "execution_count": 1,
   "metadata": {
    "id": "4oZjWwM7outm"
   },
   "outputs": [
    {
     "name": "stdout",
     "output_type": "stream",
     "text": [
      "\u001b[33mWARNING: Ignoring invalid distribution -ornado (/Library/Frameworks/Python.framework/Versions/3.8/lib/python3.8/site-packages)\u001b[0m\n",
      "\u001b[33mWARNING: Ignoring invalid distribution -ornado (/Library/Frameworks/Python.framework/Versions/3.8/lib/python3.8/site-packages)\u001b[0m\n",
      "\u001b[33mWARNING: Ignoring invalid distribution -ornado (/Library/Frameworks/Python.framework/Versions/3.8/lib/python3.8/site-packages)\u001b[0m\n",
      "\u001b[33mWARNING: Ignoring invalid distribution -ornado (/Library/Frameworks/Python.framework/Versions/3.8/lib/python3.8/site-packages)\u001b[0m\n",
      "\u001b[33mWARNING: Ignoring invalid distribution -ornado (/Library/Frameworks/Python.framework/Versions/3.8/lib/python3.8/site-packages)\u001b[0m\n"
     ]
    }
   ],
   "source": [
    "!pip install -q -U yfinance numpy pandas_datareader pandas matplotlib seaborn scikit-learn"
   ]
  },
  {
   "cell_type": "code",
   "execution_count": 2,
   "metadata": {
    "id": "pxgRHy12PJfK"
   },
   "outputs": [],
   "source": [
    "#Import Python Libraries\n",
    "import numpy as np\n",
    "import pandas as pd\n",
    "from datetime import datetime\n",
    "\n",
    "import warnings\n",
    "warnings.filterwarnings('ignore')\n",
    "\n",
    "import pandas_datareader.data as pdr\n",
    "import yfinance as yf\n",
    "import matplotlib.pyplot as plt\n",
    "plt.style.use('seaborn')"
   ]
  },
  {
   "cell_type": "code",
   "execution_count": 3,
   "metadata": {
    "id": "eGcDaP4vQjuX"
   },
   "outputs": [],
   "source": [
    "#Import data\n",
    "start = datetime(2021, 1, 1)\n",
    "end = datetime(2021, 7, 18)\n",
    "\n",
    "stock = yf.Ticker('AAPL').history(start=start, end=end) #Apple Inc. stock\n",
    "market = yf.Ticker('SPY').history(start=start, end=end) #S&P 500 index\n",
    "vix = yf.Ticker('^VIX').history(start=start, end=end)   #Volatility index\n",
    "dxy = yf.Ticker('UUP').history(start=start, end=end)    #Dollar index\n",
    "junk = yf.Ticker('JNK').history(start=start, end=end)   #Junk bond index"
   ]
  },
  {
   "cell_type": "markdown",
   "metadata": {
    "id": "C7uxfY2JqI7x"
   },
   "source": [
    "#Design Model"
   ]
  },
  {
   "cell_type": "code",
   "execution_count": 4,
   "metadata": {
    "colab": {
     "base_uri": "https://localhost:8080/",
     "height": 235
    },
    "id": "EX2JBnMfXHTi",
    "outputId": "5c2a37d5-11ac-4302-8764-b0c1b387e2cd"
   },
   "outputs": [
    {
     "data": {
      "text/html": [
       "<div>\n",
       "<style scoped>\n",
       "    .dataframe tbody tr th:only-of-type {\n",
       "        vertical-align: middle;\n",
       "    }\n",
       "\n",
       "    .dataframe tbody tr th {\n",
       "        vertical-align: top;\n",
       "    }\n",
       "\n",
       "    .dataframe thead th {\n",
       "        text-align: right;\n",
       "    }\n",
       "</style>\n",
       "<table border=\"1\" class=\"dataframe\">\n",
       "  <thead>\n",
       "    <tr style=\"text-align: right;\">\n",
       "      <th></th>\n",
       "      <th>return</th>\n",
       "      <th>direction</th>\n",
       "    </tr>\n",
       "    <tr>\n",
       "      <th>Date</th>\n",
       "      <th></th>\n",
       "      <th></th>\n",
       "    </tr>\n",
       "  </thead>\n",
       "  <tbody>\n",
       "    <tr>\n",
       "      <th>2021-07-12</th>\n",
       "      <td>0.007580</td>\n",
       "      <td>1</td>\n",
       "    </tr>\n",
       "    <tr>\n",
       "      <th>2021-07-13</th>\n",
       "      <td>-0.003253</td>\n",
       "      <td>-1</td>\n",
       "    </tr>\n",
       "    <tr>\n",
       "      <th>2021-07-14</th>\n",
       "      <td>0.016891</td>\n",
       "      <td>1</td>\n",
       "    </tr>\n",
       "    <tr>\n",
       "      <th>2021-07-15</th>\n",
       "      <td>0.000603</td>\n",
       "      <td>1</td>\n",
       "    </tr>\n",
       "    <tr>\n",
       "      <th>2021-07-16</th>\n",
       "      <td>-0.000135</td>\n",
       "      <td>-1</td>\n",
       "    </tr>\n",
       "  </tbody>\n",
       "</table>\n",
       "</div>"
      ],
      "text/plain": [
       "              return  direction\n",
       "Date                           \n",
       "2021-07-12  0.007580          1\n",
       "2021-07-13 -0.003253         -1\n",
       "2021-07-14  0.016891          1\n",
       "2021-07-15  0.000603          1\n",
       "2021-07-16 -0.000135         -1"
      ]
     },
     "execution_count": 4,
     "metadata": {},
     "output_type": "execute_result"
    }
   ],
   "source": [
    "#Create target dataframe\n",
    "target = pd.DataFrame()\n",
    "target['return'] = (stock['Open']-stock['Close'].shift(1))/stock['Close'].shift(1) #Returns based on buying on the close the day before and selling on the open the day after\n",
    "target = target.dropna() #get rid of any NaNs\n",
    "target['direction'] = np.where(target['return'] > 0, 1, -1) #Overnight direction of the stock\n",
    "target.tail()"
   ]
  },
  {
   "cell_type": "code",
   "execution_count": 5,
   "metadata": {
    "colab": {
     "base_uri": "https://localhost:8080/",
     "height": 235
    },
    "id": "4PUC0AmibGxp",
    "outputId": "0eb1ee97-9bb3-4982-9da4-4322ff8c5d20"
   },
   "outputs": [
    {
     "data": {
      "text/html": [
       "<div>\n",
       "<style scoped>\n",
       "    .dataframe tbody tr th:only-of-type {\n",
       "        vertical-align: middle;\n",
       "    }\n",
       "\n",
       "    .dataframe tbody tr th {\n",
       "        vertical-align: top;\n",
       "    }\n",
       "\n",
       "    .dataframe thead th {\n",
       "        text-align: right;\n",
       "    }\n",
       "</style>\n",
       "<table border=\"1\" class=\"dataframe\">\n",
       "  <thead>\n",
       "    <tr style=\"text-align: right;\">\n",
       "      <th></th>\n",
       "      <th>market</th>\n",
       "      <th>vix</th>\n",
       "      <th>dxy</th>\n",
       "      <th>junk</th>\n",
       "    </tr>\n",
       "    <tr>\n",
       "      <th>Date</th>\n",
       "      <th></th>\n",
       "      <th></th>\n",
       "      <th></th>\n",
       "      <th></th>\n",
       "    </tr>\n",
       "  </thead>\n",
       "  <tbody>\n",
       "    <tr>\n",
       "      <th>2021-07-12</th>\n",
       "      <td>0.358192</td>\n",
       "      <td>-0.010000</td>\n",
       "      <td>0.121109</td>\n",
       "      <td>-0.009090</td>\n",
       "    </tr>\n",
       "    <tr>\n",
       "      <th>2021-07-13</th>\n",
       "      <td>-0.340896</td>\n",
       "      <td>0.950001</td>\n",
       "      <td>0.604845</td>\n",
       "      <td>-0.263781</td>\n",
       "    </tr>\n",
       "    <tr>\n",
       "      <th>2021-07-14</th>\n",
       "      <td>0.149221</td>\n",
       "      <td>-0.790001</td>\n",
       "      <td>-0.480965</td>\n",
       "      <td>0.109435</td>\n",
       "    </tr>\n",
       "    <tr>\n",
       "      <th>2021-07-15</th>\n",
       "      <td>-0.341553</td>\n",
       "      <td>0.680000</td>\n",
       "      <td>0.281916</td>\n",
       "      <td>-0.018217</td>\n",
       "    </tr>\n",
       "    <tr>\n",
       "      <th>2021-07-16</th>\n",
       "      <td>-0.784360</td>\n",
       "      <td>1.440001</td>\n",
       "      <td>0.120485</td>\n",
       "      <td>-0.164009</td>\n",
       "    </tr>\n",
       "  </tbody>\n",
       "</table>\n",
       "</div>"
      ],
      "text/plain": [
       "              market       vix       dxy      junk\n",
       "Date                                              \n",
       "2021-07-12  0.358192 -0.010000  0.121109 -0.009090\n",
       "2021-07-13 -0.340896  0.950001  0.604845 -0.263781\n",
       "2021-07-14  0.149221 -0.790001 -0.480965  0.109435\n",
       "2021-07-15 -0.341553  0.680000  0.281916 -0.018217\n",
       "2021-07-16 -0.784360  1.440001  0.120485 -0.164009"
      ]
     },
     "execution_count": 5,
     "metadata": {},
     "output_type": "execute_result"
    }
   ],
   "source": [
    "#Create features dataframe\n",
    "features = pd.DataFrame()\n",
    "features['market'] = market['Close'].pct_change(1)*100\n",
    "features['vix'] = vix['Close'].diff() #Since VIX is measured in percentage terms\n",
    "features['dxy'] = dxy['Close'].pct_change(1)*100\n",
    "features['junk'] = junk['Close'].pct_change(1)*100\n",
    "features = features.dropna()\n",
    "features.tail()"
   ]
  },
  {
   "cell_type": "code",
   "execution_count": 6,
   "metadata": {
    "colab": {
     "base_uri": "https://localhost:8080/",
     "height": 235
    },
    "id": "XKGxoOWX-uBp",
    "outputId": "abec46f1-b169-49ca-a464-06b8565f5e94"
   },
   "outputs": [
    {
     "data": {
      "text/html": [
       "<div>\n",
       "<style scoped>\n",
       "    .dataframe tbody tr th:only-of-type {\n",
       "        vertical-align: middle;\n",
       "    }\n",
       "\n",
       "    .dataframe tbody tr th {\n",
       "        vertical-align: top;\n",
       "    }\n",
       "\n",
       "    .dataframe thead th {\n",
       "        text-align: right;\n",
       "    }\n",
       "</style>\n",
       "<table border=\"1\" class=\"dataframe\">\n",
       "  <thead>\n",
       "    <tr style=\"text-align: right;\">\n",
       "      <th></th>\n",
       "      <th>market</th>\n",
       "      <th>vix</th>\n",
       "      <th>dxy</th>\n",
       "      <th>junk</th>\n",
       "    </tr>\n",
       "    <tr>\n",
       "      <th>Date</th>\n",
       "      <th></th>\n",
       "      <th></th>\n",
       "      <th></th>\n",
       "      <th></th>\n",
       "    </tr>\n",
       "  </thead>\n",
       "  <tbody>\n",
       "    <tr>\n",
       "      <th>2021-07-09</th>\n",
       "      <td>1.067478</td>\n",
       "      <td>-2.820000</td>\n",
       "      <td>-0.241641</td>\n",
       "      <td>0.154853</td>\n",
       "    </tr>\n",
       "    <tr>\n",
       "      <th>2021-07-12</th>\n",
       "      <td>0.358192</td>\n",
       "      <td>-0.010000</td>\n",
       "      <td>0.121109</td>\n",
       "      <td>-0.009090</td>\n",
       "    </tr>\n",
       "    <tr>\n",
       "      <th>2021-07-13</th>\n",
       "      <td>-0.340896</td>\n",
       "      <td>0.950001</td>\n",
       "      <td>0.604845</td>\n",
       "      <td>-0.263781</td>\n",
       "    </tr>\n",
       "    <tr>\n",
       "      <th>2021-07-14</th>\n",
       "      <td>0.149221</td>\n",
       "      <td>-0.790001</td>\n",
       "      <td>-0.480965</td>\n",
       "      <td>0.109435</td>\n",
       "    </tr>\n",
       "    <tr>\n",
       "      <th>2021-07-15</th>\n",
       "      <td>-0.341553</td>\n",
       "      <td>0.680000</td>\n",
       "      <td>0.281916</td>\n",
       "      <td>-0.018217</td>\n",
       "    </tr>\n",
       "  </tbody>\n",
       "</table>\n",
       "</div>"
      ],
      "text/plain": [
       "              market       vix       dxy      junk\n",
       "Date                                              \n",
       "2021-07-09  1.067478 -2.820000 -0.241641  0.154853\n",
       "2021-07-12  0.358192 -0.010000  0.121109 -0.009090\n",
       "2021-07-13 -0.340896  0.950001  0.604845 -0.263781\n",
       "2021-07-14  0.149221 -0.790001 -0.480965  0.109435\n",
       "2021-07-15 -0.341553  0.680000  0.281916 -0.018217"
      ]
     },
     "execution_count": 6,
     "metadata": {},
     "output_type": "execute_result"
    }
   ],
   "source": [
    "lastknown = features[-1:] #Values of features from the last trading session\n",
    "features = features[:-1] #Subtracts last row from the features matrix so that it aligns with labels vector\n",
    "features.tail()"
   ]
  },
  {
   "cell_type": "markdown",
   "metadata": {
    "id": "nd41ArfsfQ3G"
   },
   "source": [
    "#Gradient Boosting Classifier for Overnight Direction"
   ]
  },
  {
   "cell_type": "code",
   "execution_count": 7,
   "metadata": {
    "colab": {
     "base_uri": "https://localhost:8080/",
     "height": 235
    },
    "id": "3eMzdjb7nOt7",
    "outputId": "5047628e-d472-408f-9941-2297aaf57ffa"
   },
   "outputs": [
    {
     "data": {
      "text/html": [
       "<div>\n",
       "<style scoped>\n",
       "    .dataframe tbody tr th:only-of-type {\n",
       "        vertical-align: middle;\n",
       "    }\n",
       "\n",
       "    .dataframe tbody tr th {\n",
       "        vertical-align: top;\n",
       "    }\n",
       "\n",
       "    .dataframe thead th {\n",
       "        text-align: right;\n",
       "    }\n",
       "</style>\n",
       "<table border=\"1\" class=\"dataframe\">\n",
       "  <thead>\n",
       "    <tr style=\"text-align: right;\">\n",
       "      <th></th>\n",
       "      <th>direction</th>\n",
       "    </tr>\n",
       "    <tr>\n",
       "      <th>Date</th>\n",
       "      <th></th>\n",
       "    </tr>\n",
       "  </thead>\n",
       "  <tbody>\n",
       "    <tr>\n",
       "      <th>2021-01-06</th>\n",
       "      <td>-1</td>\n",
       "    </tr>\n",
       "    <tr>\n",
       "      <th>2021-01-07</th>\n",
       "      <td>1</td>\n",
       "    </tr>\n",
       "    <tr>\n",
       "      <th>2021-01-08</th>\n",
       "      <td>1</td>\n",
       "    </tr>\n",
       "    <tr>\n",
       "      <th>2021-01-11</th>\n",
       "      <td>-1</td>\n",
       "    </tr>\n",
       "    <tr>\n",
       "      <th>2021-01-12</th>\n",
       "      <td>-1</td>\n",
       "    </tr>\n",
       "  </tbody>\n",
       "</table>\n",
       "</div>"
      ],
      "text/plain": [
       "            direction\n",
       "Date                 \n",
       "2021-01-06         -1\n",
       "2021-01-07          1\n",
       "2021-01-08          1\n",
       "2021-01-11         -1\n",
       "2021-01-12         -1"
      ]
     },
     "execution_count": 7,
     "metadata": {},
     "output_type": "execute_result"
    }
   ],
   "source": [
    "#Get rid of return column for classifiers\n",
    "targetclass = target.drop(axis=1, columns='return')\n",
    "targetclass = targetclass[1:] #Removes the first row of labels since we are correlating today's features with tomorrow's opening values\n",
    "targetclass.head()                                                                        "
   ]
  },
  {
   "cell_type": "code",
   "execution_count": 8,
   "metadata": {
    "colab": {
     "base_uri": "https://localhost:8080/",
     "height": 235
    },
    "id": "itqncjwPGpr4",
    "outputId": "04838301-1669-4122-ff30-50483a191114"
   },
   "outputs": [
    {
     "data": {
      "text/html": [
       "<div>\n",
       "<style scoped>\n",
       "    .dataframe tbody tr th:only-of-type {\n",
       "        vertical-align: middle;\n",
       "    }\n",
       "\n",
       "    .dataframe tbody tr th {\n",
       "        vertical-align: top;\n",
       "    }\n",
       "\n",
       "    .dataframe thead th {\n",
       "        text-align: right;\n",
       "    }\n",
       "</style>\n",
       "<table border=\"1\" class=\"dataframe\">\n",
       "  <thead>\n",
       "    <tr style=\"text-align: right;\">\n",
       "      <th></th>\n",
       "      <th>return</th>\n",
       "    </tr>\n",
       "    <tr>\n",
       "      <th>Date</th>\n",
       "      <th></th>\n",
       "    </tr>\n",
       "  </thead>\n",
       "  <tbody>\n",
       "    <tr>\n",
       "      <th>2021-01-06</th>\n",
       "      <td>-0.025113</td>\n",
       "    </tr>\n",
       "    <tr>\n",
       "      <th>2021-01-07</th>\n",
       "      <td>0.013902</td>\n",
       "    </tr>\n",
       "    <tr>\n",
       "      <th>2021-01-08</th>\n",
       "      <td>0.011534</td>\n",
       "    </tr>\n",
       "    <tr>\n",
       "      <th>2021-01-11</th>\n",
       "      <td>-0.021658</td>\n",
       "    </tr>\n",
       "    <tr>\n",
       "      <th>2021-01-12</th>\n",
       "      <td>-0.003722</td>\n",
       "    </tr>\n",
       "  </tbody>\n",
       "</table>\n",
       "</div>"
      ],
      "text/plain": [
       "              return\n",
       "Date                \n",
       "2021-01-06 -0.025113\n",
       "2021-01-07  0.013902\n",
       "2021-01-08  0.011534\n",
       "2021-01-11 -0.021658\n",
       "2021-01-12 -0.003722"
      ]
     },
     "execution_count": 8,
     "metadata": {},
     "output_type": "execute_result"
    }
   ],
   "source": [
    "#Get rid of direction column for regressors\n",
    "targetvalue = target.drop(axis=1, columns='direction')\n",
    "targetvalue = targetvalue[1:] #Removes the first row of labels since we are correlating today's features with tomorrow's opening values\n",
    "targetvalue.head()                                                                        \n"
   ]
  },
  {
   "cell_type": "markdown",
   "metadata": {
    "id": "PV88QMvFvhO3"
   },
   "source": [
    "#Train, Test and Regularize Gradient Boosting Classifier"
   ]
  },
  {
   "cell_type": "code",
   "execution_count": 9,
   "metadata": {
    "colab": {
     "base_uri": "https://localhost:8080/"
    },
    "id": "94UteHjeoSeG",
    "outputId": "784c9aa2-3e7a-45ba-9786-72b3d45a7a68"
   },
   "outputs": [
    {
     "name": "stdout",
     "output_type": "stream",
     "text": [
      "Training score: 0.8383838383838383\n",
      "Testing score: 0.5\n"
     ]
    }
   ],
   "source": [
    "#Train and test classifier using Gini impurity performance metric\n",
    "from sklearn.ensemble import GradientBoostingClassifier\n",
    "from sklearn.model_selection import train_test_split\n",
    "\n",
    "classifier = GradientBoostingClassifier(random_state=1, learning_rate=0.01, max_depth=3)\n",
    "targetclass = np.ravel(targetclass) \n",
    "features_train, features_test, targetclass_train, targetclass_test = train_test_split(features, targetclass, test_size = 0.25, random_state=0)\n",
    "classifier.fit(features_train, targetclass_train)\n",
    "print(\"Training score:\", classifier.score(features_train, targetclass_train))\n",
    "print(\"Testing score:\", classifier.score(features_test, targetclass_test))"
   ]
  },
  {
   "cell_type": "code",
   "execution_count": 10,
   "metadata": {
    "colab": {
     "base_uri": "https://localhost:8080/"
    },
    "id": "EyfkIcnPE7FG",
    "outputId": "77f5f49c-fd5e-458c-872c-d776a8b1167d"
   },
   "outputs": [
    {
     "name": "stdout",
     "output_type": "stream",
     "text": [
      "Tomorrow's direction: [-1]\n",
      "Probability of change [[0.67811359 0.32188641]]\n"
     ]
    }
   ],
   "source": [
    "print(\"Tomorrow's direction:\", classifier.predict(lastknown))\n",
    "print(\"Probability of change\", classifier.predict_proba(lastknown))"
   ]
  },
  {
   "cell_type": "code",
   "execution_count": 11,
   "metadata": {
    "colab": {
     "base_uri": "https://localhost:8080/"
    },
    "id": "k4JNKl_ccHGu",
    "outputId": "116dd963-7985-4f17-c44a-f48b6637c2d7"
   },
   "outputs": [
    {
     "name": "stdout",
     "output_type": "stream",
     "text": [
      "Index(['market', 'vix', 'dxy', 'junk'], dtype='object')\n",
      "[0.10880958 0.27942415 0.19184185 0.41992443]\n"
     ]
    }
   ],
   "source": [
    "#Inferring the importance of each feature\n",
    "print(features.columns)\n",
    "print(classifier.feature_importances_)"
   ]
  },
  {
   "cell_type": "markdown",
   "metadata": {
    "id": "pO56pgNQdpzU"
   },
   "source": [
    "#Gradient Boosting Regressor for Overnight Value Changes"
   ]
  },
  {
   "cell_type": "markdown",
   "metadata": {
    "id": "H5l22T2BLJt7"
   },
   "source": [
    "#Train and Test GBRT Model"
   ]
  },
  {
   "cell_type": "code",
   "execution_count": 12,
   "metadata": {
    "colab": {
     "base_uri": "https://localhost:8080/"
    },
    "id": "xW2yP4i1IDTl",
    "outputId": "be027a8c-ac6f-4a23-b5a5-45f3fbdf9721"
   },
   "outputs": [
    {
     "name": "stdout",
     "output_type": "stream",
     "text": [
      "Training score: 0.936484599820489\n",
      "Testing score: -0.2500402357807179\n",
      "Tomorrow's value change: [-0.0046213]\n"
     ]
    }
   ],
   "source": [
    "from sklearn.ensemble import GradientBoostingRegressor\n",
    "from sklearn.model_selection import train_test_split\n",
    "\n",
    "regressor = GradientBoostingRegressor(random_state=1)\n",
    "targetvalue = np.ravel(targetvalue) #Need to covert column vector into a 1-d array\n",
    "features_train, features_test, targetvalue_train, targetvalue_test = train_test_split(features, targetvalue, test_size = 0.25, random_state=0)\n",
    "regressor.fit(features_train, targetvalue_train)\n",
    "print(\"Training score:\", regressor.score(features_train, targetvalue_train))\n",
    "print(\"Testing score:\", regressor.score(features_test, targetvalue_test)) #Note that scikit-learn library makes the default mean squared error(mse) test score negative so that it is maximized instead of minimized\n",
    "print(\"Tomorrow's value change:\", regressor.predict(lastknown))"
   ]
  },
  {
   "cell_type": "markdown",
   "metadata": {
    "id": "wrBfyhhdLVzm"
   },
   "source": [
    "#Regularize and Test GBRT Model"
   ]
  },
  {
   "cell_type": "code",
   "execution_count": 13,
   "metadata": {
    "colab": {
     "base_uri": "https://localhost:8080/"
    },
    "id": "G7vkAGgDKALy",
    "outputId": "3541fdb8-f46d-4973-89c5-32c0a407b4f2"
   },
   "outputs": [
    {
     "name": "stdout",
     "output_type": "stream",
     "text": [
      "Training score: 0.6375765723082714\n",
      "Testing score: -0.8857183867105682\n",
      "Tomorrow's value change: [-0.01983395]\n"
     ]
    }
   ],
   "source": [
    "regressor_mae = GradientBoostingRegressor(criterion=\"mae\", random_state=1, learning_rate=0.4, max_depth=5, n_estimators=200, min_samples_split=5, min_samples_leaf=10) #Reduce learning rate (between 0 and 1) to avoid overfitting\n",
    "features_train, features_test, targetvalue_train, targetvalue_test = train_test_split(features, targetvalue, test_size = 0.25, random_state=1)\n",
    "regressor_mae.fit(features_train, targetvalue_train)\n",
    "print(\"Training score:\", regressor_mae.score(features_train, targetvalue_train))\n",
    "print(\"Testing score:\", regressor_mae.score(features_test, targetvalue_test)) #Note that scikit-learn library makes the mean absolute error(mae) test score negative so that it is maximized instead of minimized\n",
    "print(\"Tomorrow's value change:\", regressor_mae.predict(lastknown))"
   ]
  },
  {
   "cell_type": "code",
   "execution_count": 14,
   "metadata": {
    "colab": {
     "base_uri": "https://localhost:8080/"
    },
    "id": "YVK-hcRAhyBh",
    "outputId": "87ccef56-c34e-4744-a1b5-a7f90fb1a1f1"
   },
   "outputs": [
    {
     "name": "stdout",
     "output_type": "stream",
     "text": [
      "Index(['market', 'vix', 'dxy', 'junk'], dtype='object')\n",
      "[0.14255143 0.28752113 0.31202949 0.25789795]\n",
      "[0.28661642 0.3689544  0.18059208 0.16383711]\n"
     ]
    }
   ],
   "source": [
    "#Inferring the importance of each feature\n",
    "print(features.columns)\n",
    "print(regressor.feature_importances_)\n",
    "print(regressor_mae.feature_importances_)"
   ]
  }
 ],
 "metadata": {
  "colab": {
   "name": "O'Reilly Class: Gradient Boosting Machines for Classification and Regression",
   "provenance": []
  },
  "kernelspec": {
   "display_name": "Python 3",
   "language": "python",
   "name": "python3"
  },
  "language_info": {
   "codemirror_mode": {
    "name": "ipython",
    "version": 3
   },
   "file_extension": ".py",
   "mimetype": "text/x-python",
   "name": "python",
   "nbconvert_exporter": "python",
   "pygments_lexer": "ipython3",
   "version": "3.8.5"
  },
  "widgets": {
   "application/vnd.jupyter.widget-state+json": {
    "state": {},
    "version_major": 2,
    "version_minor": 0
   }
  }
 },
 "nbformat": 4,
 "nbformat_minor": 4
}
