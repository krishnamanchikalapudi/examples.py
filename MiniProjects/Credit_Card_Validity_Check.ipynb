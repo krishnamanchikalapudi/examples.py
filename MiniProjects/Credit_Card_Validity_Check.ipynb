{
 "cells": [
  {
   "cell_type": "markdown",
   "id": "fe096518-8f58-4b7d-8b78-03baca309c73",
   "metadata": {},
   "source": [
    "# Credit card number validity check"
   ]
  },
  {
   "cell_type": "code",
   "execution_count": 1,
   "id": "76726658",
   "metadata": {},
   "outputs": [
    {
     "name": "stdout",
     "output_type": "stream",
     "text": [
      "time: 604 µs (started: 2024-03-19 17:03:58 -07:00)\n"
     ]
    }
   ],
   "source": [
    "%%capture\n",
    "!pip install ipython-autotime\n",
    "\n",
    "%load_ext autotime"
   ]
  },
  {
   "cell_type": "code",
   "execution_count": 2,
   "id": "18a9db99-6e58-4cd7-a39f-0c2262922270",
   "metadata": {},
   "outputs": [
    {
     "data": {
      "text/plain": [
       "str"
      ]
     },
     "execution_count": 2,
     "metadata": {},
     "output_type": "execute_result"
    },
    {
     "name": "stdout",
     "output_type": "stream",
     "text": [
      "time: 8.44 ms (started: 2024-03-19 17:03:58 -07:00)\n"
     ]
    }
   ],
   "source": [
    "card_number = \"34678253793\"\n",
    "type(card_number)"
   ]
  },
  {
   "cell_type": "code",
   "execution_count": 3,
   "id": "8c5cfe4e-4e80-4997-a5e5-dc0c8ffb3813",
   "metadata": {},
   "outputs": [
    {
     "name": "stdout",
     "output_type": "stream",
     "text": [
      "time: 738 µs (started: 2024-03-19 17:03:58 -07:00)\n"
     ]
    }
   ],
   "source": [
    "def sum_of_digits(digit):\n",
    "    if digit < 10:\n",
    "        return digit\n",
    "    else:\n",
    "        sum = (digit % 10) + (digit // 10)\n",
    "        return sum"
   ]
  },
  {
   "cell_type": "code",
   "execution_count": 4,
   "id": "ebe245e5-d97d-44fb-9d5a-aa280320fa34",
   "metadata": {},
   "outputs": [
    {
     "name": "stdout",
     "output_type": "stream",
     "text": [
      "Card number 34678253793 is valid False\n",
      "time: 3.29 ms (started: 2024-03-19 17:03:58 -07:00)\n"
     ]
    }
   ],
   "source": [
    "# reverse the credit card number\n",
    "cc_num = card_number[::-1]\n",
    "\n",
    "# convert to integer list\n",
    "cc_num = [int(x) for x in cc_num]\n",
    "\n",
    "# double every second digit\n",
    "doubled_second_digit_list = list()\n",
    "digits = list(enumerate(cc_num, start=1))\n",
    "\n",
    "for index, digit in digits:\n",
    "    if index % 2 == 0:\n",
    "        doubled_second_digit_list.append(digit * 2)\n",
    "    else:\n",
    "        doubled_second_digit_list.append(digit)\n",
    "\n",
    "# add the digits if any number is more than 9\n",
    "doubled_second_digit_list = [sum_of_digits(x) for x in doubled_second_digit_list]\n",
    "\n",
    "# sum all digits\n",
    "sum_of_digits = sum(doubled_second_digit_list)\n",
    "    # return True or False\n",
    "valid = (sum_of_digits % 10 == 0)\n",
    "\n",
    "print (f\"Card number {card_number} is valid {valid}\")\n"
   ]
  }
 ],
 "metadata": {
  "kernelspec": {
   "display_name": "Python 3",
   "language": "python",
   "name": "python3"
  },
  "language_info": {
   "codemirror_mode": {
    "name": "ipython",
    "version": 3
   },
   "file_extension": ".py",
   "mimetype": "text/x-python",
   "name": "python",
   "nbconvert_exporter": "python",
   "pygments_lexer": "ipython3",
   "version": "3.11.6"
  },
  "widgets": {
   "application/vnd.jupyter.widget-state+json": {
    "state": {},
    "version_major": 2,
    "version_minor": 0
   }
  }
 },
 "nbformat": 4,
 "nbformat_minor": 5
}
