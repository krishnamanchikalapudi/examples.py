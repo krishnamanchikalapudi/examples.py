{
 "cells": [
  {
   "cell_type": "markdown",
   "metadata": {
    "colab_type": "text",
    "id": "view-in-github"
   },
   "source": [
    "<a href=\"https://colab.research.google.com/github/krishnamanchikalapudi/examples.py/blob/develop/MiniProjects/Calculator.ipynb\" target=\"_parent\"><img src=\"https://colab.research.google.com/assets/colab-badge.svg\" alt=\"Open In Colab\"/></a>"
   ]
  },
  {
   "cell_type": "markdown",
   "metadata": {
    "id": "ZdfrN9Ef1y3c"
   },
   "source": [
    "# Problem\n",
    "Ask user to input the number for simple arthemtic operations"
   ]
  },
  {
   "cell_type": "code",
   "execution_count": 2,
   "metadata": {
    "colab": {
     "base_uri": "https://localhost:8080/"
    },
    "id": "oHGmsk9115nw",
    "outputId": "bc6956d1-c9cf-48f7-a0fe-c5434f718eea"
   },
   "outputs": [
    {
     "name": "stdout",
     "output_type": "stream",
     "text": [
      "\n",
      "\n",
      "\n",
      "Select operation.\n",
      "\t 1.Add \n",
      "\t 2.Subtract \n",
      "\t 3.Multiply \n",
      "\t 4.Divide \n",
      "Enter choice(0, 1, 2, 3, or 4): 1\n",
      "Enter first number: 10\n",
      "Enter second number: 20\n",
      "\n",
      "formula:: num1 + num2 = answer \n",
      "10.0 + 20.0  = 30.0\n",
      "\n",
      "\n",
      "Select operation.\n",
      "\t 1.Add \n",
      "\t 2.Subtract \n",
      "\t 3.Multiply \n",
      "\t 4.Divide \n",
      "Enter choice(0, 1, 2, 3, or 4): 2\n",
      "Enter first number: 10\n",
      "Enter second number: 20\n",
      "\n",
      "formula:: num1 - num2 = answer \n",
      "10.0 - 20.0  = -10.0\n",
      "\n",
      "\n",
      "Select operation.\n",
      "\t 1.Add \n",
      "\t 2.Subtract \n",
      "\t 3.Multiply \n",
      "\t 4.Divide \n",
      "Enter choice(0, 1, 2, 3, or 4): 3\n",
      "Enter first number: 10\n",
      "Enter second number: 20\n",
      "\n",
      "formula:: num1 * num2 = answer \n",
      "10.0 * 20.0  = 200.0\n",
      "\n",
      "\n",
      "Select operation.\n",
      "\t 1.Add \n",
      "\t 2.Subtract \n",
      "\t 3.Multiply \n",
      "\t 4.Divide \n",
      "Enter choice(0, 1, 2, 3, or 4): 4\n",
      "Enter first number: 10\n",
      "Enter second number: 20\n",
      "\n",
      "formula:: num1 / num2 = answer \n",
      "10.0 / 20.0  = 0.5\n",
      "\n",
      "\n",
      "Select operation.\n",
      "\t 1.Add \n",
      "\t 2.Subtract \n",
      "\t 3.Multiply \n",
      "\t 4.Divide \n",
      "Enter choice(0, 1, 2, 3, or 4): 0\n",
      "Exited! Happy using Calculator :-)\n"
     ]
    }
   ],
   "source": [
    "class SimpleCalculator:\n",
    "    # constructor\n",
    "    def __init__(self):\n",
    "        print('')\n",
    "\n",
    "    # function adds two numbers\n",
    "    def add(self, x, y):\n",
    "        return x + y\n",
    "\n",
    "    # function subtracts two numbers\n",
    "    def subtract(self, x, y):\n",
    "        return x - y\n",
    "\n",
    "    # function multiplies two numbers\n",
    "    def multiply(self, x, y):\n",
    "        return x * y\n",
    "\n",
    "    # function divides two numbers\n",
    "    def divide(self, x, y):\n",
    "        return x / y\n",
    "\n",
    "    # decision function\n",
    "    def calculate(self, num1, num2, userchoice):\n",
    "        if '1' == userchoice:\n",
    "            answer = self.add(num1, num2)\n",
    "            print('\\nformula:: num1 + num2 = answer ')\n",
    "            print('{} + {}  = {}'.format(num1, num2, answer) )\n",
    "\n",
    "        elif '2' == userchoice:\n",
    "            answer = self.subtract(num1, num2)\n",
    "            print('\\nformula:: num1 - num2 = answer ')\n",
    "            print('{} - {}  = {}'.format(num1, num2, answer) )\n",
    "\n",
    "        elif '3' == userchoice:\n",
    "            answer = self.multiply(num1, num2)\n",
    "            print('\\nformula:: num1 * num2 = answer ')\n",
    "            print('{} * {}  = {}'.format(num1, num2, answer) )\n",
    "\n",
    "        elif '4' == userchoice:\n",
    "            answer = self.divide(num1, num2)\n",
    "            print('\\nformula:: num1 / num2 = answer ')\n",
    "            print('{} / {}  = {}'.format(num1, num2, answer) )\n",
    "        else:\n",
    "            print('Invalid input!')\n",
    "\n",
    "\n",
    "sc = SimpleCalculator()\n",
    "\n",
    "while (True):   \n",
    "  print('\\n\\nSelect operation.\\n\\t {} \\n\\t {} \\n\\t {} \\n\\t {} '. format('1.Add', '2.Subtract', '3.Multiply', '4.Divide' ,'0. EXIT'))\n",
    "  oper = input(\"Enter choice(0, 1, 2, 3, or 4): \")  # Take input from the user\n",
    "  if (oper != \"0\"):\n",
    "    num1 = float(input(\"Enter first number: \"))\n",
    "    num2 = float(input(\"Enter second number: \"))\n",
    "    sc.calculate(num1, num2, oper)\n",
    "  else:\n",
    "    print('Exited! Happy using Calculator :-)')\n",
    "    break"
   ]
  }
 ],
 "metadata": {
  "colab": {
   "collapsed_sections": [],
   "include_colab_link": true,
   "name": "Calculator.ipynb",
   "provenance": []
  },
  "kernelspec": {
   "display_name": "Python 3",
   "language": "python",
   "name": "python3"
  },
  "language_info": {
   "codemirror_mode": {
    "name": "ipython",
    "version": 3
   },
   "file_extension": ".py",
   "mimetype": "text/x-python",
   "name": "python",
   "nbconvert_exporter": "python",
   "pygments_lexer": "ipython3",
   "version": "3.8.5"
  },
  "widgets": {
   "application/vnd.jupyter.widget-state+json": {
    "state": {},
    "version_major": 2,
    "version_minor": 0
   }
  }
 },
 "nbformat": 4,
 "nbformat_minor": 4
}
