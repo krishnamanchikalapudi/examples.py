{
 "cells": [
  {
   "cell_type": "markdown",
   "metadata": {
    "id": "u0pr5N-DfGQe"
   },
   "source": [
    "# Import Libraries and Market Data"
   ]
  },
  {
   "cell_type": "code",
   "execution_count": 1,
   "metadata": {
    "id": "ZoDjqrf9i3zc"
   },
   "outputs": [
    {
     "name": "stdout",
     "output_type": "stream",
     "text": [
      "\u001b[33mWARNING: Ignoring invalid distribution -ornado (/Library/Frameworks/Python.framework/Versions/3.8/lib/python3.8/site-packages)\u001b[0m\n",
      "\u001b[33mWARNING: Ignoring invalid distribution -ornado (/Library/Frameworks/Python.framework/Versions/3.8/lib/python3.8/site-packages)\u001b[0m\n",
      "\u001b[33mWARNING: Ignoring invalid distribution -ornado (/Library/Frameworks/Python.framework/Versions/3.8/lib/python3.8/site-packages)\u001b[0m\n",
      "\u001b[33mWARNING: Ignoring invalid distribution -ornado (/Library/Frameworks/Python.framework/Versions/3.8/lib/python3.8/site-packages)\u001b[0m\n",
      "\u001b[33mWARNING: Ignoring invalid distribution -ornado (/Library/Frameworks/Python.framework/Versions/3.8/lib/python3.8/site-packages)\u001b[0m\n"
     ]
    }
   ],
   "source": [
    "!pip install -q -U yfinance numpy pandas_datareader pandas matplotlib seaborn scikit-learn"
   ]
  },
  {
   "cell_type": "code",
   "execution_count": 2,
   "metadata": {
    "id": "pxgRHy12PJfK"
   },
   "outputs": [],
   "source": [
    "#Import Python Libraries\n",
    "import numpy as np\n",
    "import pandas as pd\n",
    "from datetime import datetime\n",
    "\n",
    "import warnings\n",
    "warnings.filterwarnings('ignore')\n",
    "\n",
    "import yfinance as yf\n",
    "import pandas_datareader.data as pdr\n",
    "import matplotlib.pyplot as plt\n",
    "plt.style.use('seaborn')"
   ]
  },
  {
   "cell_type": "code",
   "execution_count": 3,
   "metadata": {
    "id": "eGcDaP4vQjuX"
   },
   "outputs": [],
   "source": [
    "#Import data\n",
    "start = datetime(2021, 1, 1)\n",
    "end = datetime(2021, 7, 18)\n",
    "\n",
    "stock = yf.Ticker('AAPL').history(start=start, end=end) #Apple Inc. stock\n",
    "market = yf.Ticker('SPY').history(start=start, end=end) #S&P 500 index\n",
    "vix = yf.Ticker('^VIX').history(start=start, end=end)   #Volatility index\n",
    "dxy = yf.Ticker('UUP').history(start=start, end=end)    #Dollar index\n",
    "junk = yf.Ticker('JNK').history(start=start, end=end)   #Junk bond index"
   ]
  },
  {
   "cell_type": "markdown",
   "metadata": {
    "id": "3gL8wAh4XN71"
   },
   "source": [
    "#Design Model"
   ]
  },
  {
   "cell_type": "code",
   "execution_count": 4,
   "metadata": {
    "colab": {
     "base_uri": "https://localhost:8080/",
     "height": 235
    },
    "id": "EX2JBnMfXHTi",
    "outputId": "2b63f59c-0a9d-4f8e-ee41-d46935b5e728"
   },
   "outputs": [
    {
     "data": {
      "text/html": [
       "<div>\n",
       "<style scoped>\n",
       "    .dataframe tbody tr th:only-of-type {\n",
       "        vertical-align: middle;\n",
       "    }\n",
       "\n",
       "    .dataframe tbody tr th {\n",
       "        vertical-align: top;\n",
       "    }\n",
       "\n",
       "    .dataframe thead th {\n",
       "        text-align: right;\n",
       "    }\n",
       "</style>\n",
       "<table border=\"1\" class=\"dataframe\">\n",
       "  <thead>\n",
       "    <tr style=\"text-align: right;\">\n",
       "      <th></th>\n",
       "      <th>return</th>\n",
       "      <th>direction</th>\n",
       "    </tr>\n",
       "    <tr>\n",
       "      <th>Date</th>\n",
       "      <th></th>\n",
       "      <th></th>\n",
       "    </tr>\n",
       "  </thead>\n",
       "  <tbody>\n",
       "    <tr>\n",
       "      <th>2021-07-12</th>\n",
       "      <td>0.007580</td>\n",
       "      <td>1</td>\n",
       "    </tr>\n",
       "    <tr>\n",
       "      <th>2021-07-13</th>\n",
       "      <td>-0.003253</td>\n",
       "      <td>-1</td>\n",
       "    </tr>\n",
       "    <tr>\n",
       "      <th>2021-07-14</th>\n",
       "      <td>0.016891</td>\n",
       "      <td>1</td>\n",
       "    </tr>\n",
       "    <tr>\n",
       "      <th>2021-07-15</th>\n",
       "      <td>0.000603</td>\n",
       "      <td>1</td>\n",
       "    </tr>\n",
       "    <tr>\n",
       "      <th>2021-07-16</th>\n",
       "      <td>-0.000135</td>\n",
       "      <td>-1</td>\n",
       "    </tr>\n",
       "  </tbody>\n",
       "</table>\n",
       "</div>"
      ],
      "text/plain": [
       "              return  direction\n",
       "Date                           \n",
       "2021-07-12  0.007580          1\n",
       "2021-07-13 -0.003253         -1\n",
       "2021-07-14  0.016891          1\n",
       "2021-07-15  0.000603          1\n",
       "2021-07-16 -0.000135         -1"
      ]
     },
     "execution_count": 4,
     "metadata": {},
     "output_type": "execute_result"
    }
   ],
   "source": [
    "#Create target dataframe\n",
    "target = pd.DataFrame()\n",
    "#Use adjusted closing prices instead of closing prices to adjust for corporate actions such as dividends, splits and mergers\n",
    "target['return'] = (stock['Open']-stock['Close'].shift(1))/stock['Close'].shift(1) #Returns based on buying on the close the day before and selling on the open the day after\n",
    "target = target.dropna() #get rid of the NaNs\n",
    "target['direction'] = np.where(target['return'] > 0, 1, -1) #Overnight direction of the stock\n",
    "target.tail()"
   ]
  },
  {
   "cell_type": "code",
   "execution_count": 5,
   "metadata": {
    "colab": {
     "base_uri": "https://localhost:8080/",
     "height": 235
    },
    "id": "4PUC0AmibGxp",
    "outputId": "7d9f5194-9c01-4352-fd69-9ec2b17df855"
   },
   "outputs": [
    {
     "data": {
      "text/html": [
       "<div>\n",
       "<style scoped>\n",
       "    .dataframe tbody tr th:only-of-type {\n",
       "        vertical-align: middle;\n",
       "    }\n",
       "\n",
       "    .dataframe tbody tr th {\n",
       "        vertical-align: top;\n",
       "    }\n",
       "\n",
       "    .dataframe thead th {\n",
       "        text-align: right;\n",
       "    }\n",
       "</style>\n",
       "<table border=\"1\" class=\"dataframe\">\n",
       "  <thead>\n",
       "    <tr style=\"text-align: right;\">\n",
       "      <th></th>\n",
       "      <th>market</th>\n",
       "      <th>vix</th>\n",
       "      <th>dxy</th>\n",
       "      <th>junk</th>\n",
       "    </tr>\n",
       "    <tr>\n",
       "      <th>Date</th>\n",
       "      <th></th>\n",
       "      <th></th>\n",
       "      <th></th>\n",
       "      <th></th>\n",
       "    </tr>\n",
       "  </thead>\n",
       "  <tbody>\n",
       "    <tr>\n",
       "      <th>2021-07-12</th>\n",
       "      <td>0.358192</td>\n",
       "      <td>-0.010000</td>\n",
       "      <td>0.121109</td>\n",
       "      <td>-0.009090</td>\n",
       "    </tr>\n",
       "    <tr>\n",
       "      <th>2021-07-13</th>\n",
       "      <td>-0.340896</td>\n",
       "      <td>0.950001</td>\n",
       "      <td>0.604845</td>\n",
       "      <td>-0.263781</td>\n",
       "    </tr>\n",
       "    <tr>\n",
       "      <th>2021-07-14</th>\n",
       "      <td>0.149221</td>\n",
       "      <td>-0.790001</td>\n",
       "      <td>-0.480965</td>\n",
       "      <td>0.109435</td>\n",
       "    </tr>\n",
       "    <tr>\n",
       "      <th>2021-07-15</th>\n",
       "      <td>-0.341553</td>\n",
       "      <td>0.680000</td>\n",
       "      <td>0.281916</td>\n",
       "      <td>-0.018217</td>\n",
       "    </tr>\n",
       "    <tr>\n",
       "      <th>2021-07-16</th>\n",
       "      <td>-0.784360</td>\n",
       "      <td>1.440001</td>\n",
       "      <td>0.120485</td>\n",
       "      <td>-0.164009</td>\n",
       "    </tr>\n",
       "  </tbody>\n",
       "</table>\n",
       "</div>"
      ],
      "text/plain": [
       "              market       vix       dxy      junk\n",
       "Date                                              \n",
       "2021-07-12  0.358192 -0.010000  0.121109 -0.009090\n",
       "2021-07-13 -0.340896  0.950001  0.604845 -0.263781\n",
       "2021-07-14  0.149221 -0.790001 -0.480965  0.109435\n",
       "2021-07-15 -0.341553  0.680000  0.281916 -0.018217\n",
       "2021-07-16 -0.784360  1.440001  0.120485 -0.164009"
      ]
     },
     "execution_count": 5,
     "metadata": {},
     "output_type": "execute_result"
    }
   ],
   "source": [
    "#Create features dataframe based on closing prices\n",
    "features = pd.DataFrame()\n",
    "features['market'] = market['Close'].pct_change(1)*100\n",
    "features['vix'] = vix['Close'].diff() #VIX is measured in annualized percentage terms\n",
    "features['dxy'] = dxy['Close'].pct_change(1)*100\n",
    "features['junk'] = junk['Close'].pct_change(1)*100\n",
    "features = features.dropna()\n",
    "features.tail()"
   ]
  },
  {
   "cell_type": "code",
   "execution_count": 6,
   "metadata": {
    "colab": {
     "base_uri": "https://localhost:8080/",
     "height": 235
    },
    "id": "XKGxoOWX-uBp",
    "outputId": "5efaea94-a239-44e4-c58d-f8e91db43eb3"
   },
   "outputs": [
    {
     "data": {
      "text/html": [
       "<div>\n",
       "<style scoped>\n",
       "    .dataframe tbody tr th:only-of-type {\n",
       "        vertical-align: middle;\n",
       "    }\n",
       "\n",
       "    .dataframe tbody tr th {\n",
       "        vertical-align: top;\n",
       "    }\n",
       "\n",
       "    .dataframe thead th {\n",
       "        text-align: right;\n",
       "    }\n",
       "</style>\n",
       "<table border=\"1\" class=\"dataframe\">\n",
       "  <thead>\n",
       "    <tr style=\"text-align: right;\">\n",
       "      <th></th>\n",
       "      <th>market</th>\n",
       "      <th>vix</th>\n",
       "      <th>dxy</th>\n",
       "      <th>junk</th>\n",
       "    </tr>\n",
       "    <tr>\n",
       "      <th>Date</th>\n",
       "      <th></th>\n",
       "      <th></th>\n",
       "      <th></th>\n",
       "      <th></th>\n",
       "    </tr>\n",
       "  </thead>\n",
       "  <tbody>\n",
       "    <tr>\n",
       "      <th>2021-07-09</th>\n",
       "      <td>1.067478</td>\n",
       "      <td>-2.820000</td>\n",
       "      <td>-0.241641</td>\n",
       "      <td>0.154853</td>\n",
       "    </tr>\n",
       "    <tr>\n",
       "      <th>2021-07-12</th>\n",
       "      <td>0.358192</td>\n",
       "      <td>-0.010000</td>\n",
       "      <td>0.121109</td>\n",
       "      <td>-0.009090</td>\n",
       "    </tr>\n",
       "    <tr>\n",
       "      <th>2021-07-13</th>\n",
       "      <td>-0.340896</td>\n",
       "      <td>0.950001</td>\n",
       "      <td>0.604845</td>\n",
       "      <td>-0.263781</td>\n",
       "    </tr>\n",
       "    <tr>\n",
       "      <th>2021-07-14</th>\n",
       "      <td>0.149221</td>\n",
       "      <td>-0.790001</td>\n",
       "      <td>-0.480965</td>\n",
       "      <td>0.109435</td>\n",
       "    </tr>\n",
       "    <tr>\n",
       "      <th>2021-07-15</th>\n",
       "      <td>-0.341553</td>\n",
       "      <td>0.680000</td>\n",
       "      <td>0.281916</td>\n",
       "      <td>-0.018217</td>\n",
       "    </tr>\n",
       "  </tbody>\n",
       "</table>\n",
       "</div>"
      ],
      "text/plain": [
       "              market       vix       dxy      junk\n",
       "Date                                              \n",
       "2021-07-09  1.067478 -2.820000 -0.241641  0.154853\n",
       "2021-07-12  0.358192 -0.010000  0.121109 -0.009090\n",
       "2021-07-13 -0.340896  0.950001  0.604845 -0.263781\n",
       "2021-07-14  0.149221 -0.790001 -0.480965  0.109435\n",
       "2021-07-15 -0.341553  0.680000  0.281916 -0.018217"
      ]
     },
     "execution_count": 6,
     "metadata": {},
     "output_type": "execute_result"
    }
   ],
   "source": [
    "lastknown = features[-1:] #Values of features from the last trading session\n",
    "features = features[:-1] #Subtracts last row from the features matrix so that it aligns with labels vector\n",
    "features.tail()"
   ]
  },
  {
   "cell_type": "markdown",
   "metadata": {
    "id": "nd41ArfsfQ3G"
   },
   "source": [
    "#Random Forest classification for overnight direction"
   ]
  },
  {
   "cell_type": "code",
   "execution_count": 7,
   "metadata": {
    "colab": {
     "base_uri": "https://localhost:8080/",
     "height": 235
    },
    "id": "3eMzdjb7nOt7",
    "outputId": "96aeb3ba-f409-47d0-bb7d-849d79700780"
   },
   "outputs": [
    {
     "data": {
      "text/html": [
       "<div>\n",
       "<style scoped>\n",
       "    .dataframe tbody tr th:only-of-type {\n",
       "        vertical-align: middle;\n",
       "    }\n",
       "\n",
       "    .dataframe tbody tr th {\n",
       "        vertical-align: top;\n",
       "    }\n",
       "\n",
       "    .dataframe thead th {\n",
       "        text-align: right;\n",
       "    }\n",
       "</style>\n",
       "<table border=\"1\" class=\"dataframe\">\n",
       "  <thead>\n",
       "    <tr style=\"text-align: right;\">\n",
       "      <th></th>\n",
       "      <th>direction</th>\n",
       "    </tr>\n",
       "    <tr>\n",
       "      <th>Date</th>\n",
       "      <th></th>\n",
       "    </tr>\n",
       "  </thead>\n",
       "  <tbody>\n",
       "    <tr>\n",
       "      <th>2021-01-06</th>\n",
       "      <td>-1</td>\n",
       "    </tr>\n",
       "    <tr>\n",
       "      <th>2021-01-07</th>\n",
       "      <td>1</td>\n",
       "    </tr>\n",
       "    <tr>\n",
       "      <th>2021-01-08</th>\n",
       "      <td>1</td>\n",
       "    </tr>\n",
       "    <tr>\n",
       "      <th>2021-01-11</th>\n",
       "      <td>-1</td>\n",
       "    </tr>\n",
       "    <tr>\n",
       "      <th>2021-01-12</th>\n",
       "      <td>-1</td>\n",
       "    </tr>\n",
       "  </tbody>\n",
       "</table>\n",
       "</div>"
      ],
      "text/plain": [
       "            direction\n",
       "Date                 \n",
       "2021-01-06         -1\n",
       "2021-01-07          1\n",
       "2021-01-08          1\n",
       "2021-01-11         -1\n",
       "2021-01-12         -1"
      ]
     },
     "execution_count": 7,
     "metadata": {},
     "output_type": "execute_result"
    }
   ],
   "source": [
    "targetclass = target.drop(axis=1, columns='return') #Get rid of return column for classifiers\n",
    "targetclass = targetclass[1:] #Removes the first row of labels since we are correlating today's features with tomorrow's opening values\n",
    "targetclass.head()                                                                        "
   ]
  },
  {
   "cell_type": "markdown",
   "metadata": {
    "id": "4WkV4tTzh4_d"
   },
   "source": [
    "#Train and Test Random Forest Classifier"
   ]
  },
  {
   "cell_type": "code",
   "execution_count": 8,
   "metadata": {
    "colab": {
     "base_uri": "https://localhost:8080/"
    },
    "id": "94UteHjeoSeG",
    "outputId": "81a459b4-0b5b-4144-a1be-ad67e00613b1"
   },
   "outputs": [
    {
     "name": "stdout",
     "output_type": "stream",
     "text": [
      "Training score: 1.0\n",
      "Out-of-bag score: 0.41414141414141414\n",
      "Testing score: 0.47058823529411764\n"
     ]
    }
   ],
   "source": [
    "#Train and test Random Forest classifier using Gini impurity performance metric\n",
    "from sklearn.ensemble import RandomForestClassifier\n",
    "from sklearn.model_selection import train_test_split\n",
    "\n",
    "classifier = RandomForestClassifier(random_state=1, oob_score=True) #Enables using out-of-bag sample set for validation\n",
    "targetclass = np.ravel(targetclass) #Need to covert column vector into a 1-d Numpy array \n",
    "features_train, features_test, targetclass_train, targetclass_test = train_test_split(features, targetclass, test_size = 0.25, random_state=0)\n",
    "classifier.fit(features_train, targetclass_train)\n",
    "print(\"Training score:\", classifier.score(features_train, targetclass_train))\n",
    "print(\"Out-of-bag score:\", classifier.oob_score_)\n",
    "print(\"Testing score:\", classifier.score(features_test, targetclass_test))"
   ]
  },
  {
   "cell_type": "markdown",
   "metadata": {
    "id": "CfEnntczisCn"
   },
   "source": [
    "#Regularize Random Forest Classifier"
   ]
  },
  {
   "cell_type": "code",
   "execution_count": 9,
   "metadata": {
    "colab": {
     "base_uri": "https://localhost:8080/"
    },
    "id": "2i8SMr8XbduG",
    "outputId": "09a19c0e-298d-408f-9697-3984fbeae323"
   },
   "outputs": [
    {
     "name": "stdout",
     "output_type": "stream",
     "text": [
      "Training score: 0.6060606060606061\n",
      "Out-of-bag score: 0.3838383838383838\n",
      "Testing score: 0.6176470588235294\n"
     ]
    }
   ],
   "source": [
    "#Train and test classifier using entropy performance metric with regularizing hyperparameters\n",
    "classifier_entropy = RandomForestClassifier(criterion='entropy', random_state=1, oob_score=True,n_estimators=100, max_depth=5, min_samples_leaf=20, min_samples_split=30) #Maximum depth of tree is used to prevent overfitting of test data \n",
    "features_train, features_test, targetclass_train, targetclass_test = train_test_split(features, targetclass, test_size = 0.25, random_state=0)\n",
    "classifier_entropy.fit(features_train, targetclass_train)\n",
    "print(\"Training score:\", classifier_entropy.score(features_train, targetclass_train))\n",
    "print(\"Out-of-bag score:\", classifier_entropy.oob_score_)\n",
    "print(\"Testing score:\", classifier_entropy.score(features_test, targetclass_test))"
   ]
  },
  {
   "cell_type": "code",
   "execution_count": 10,
   "metadata": {
    "colab": {
     "base_uri": "https://localhost:8080/"
    },
    "id": "EyfkIcnPE7FG",
    "outputId": "b73ee023-93a8-4736-a1c3-84639eba66ce"
   },
   "outputs": [
    {
     "name": "stdout",
     "output_type": "stream",
     "text": [
      "Tomorrow's change: [1]\n",
      "Probability of change [[0.46139601 0.53860399]]\n"
     ]
    }
   ],
   "source": [
    "print(\"Tomorrow's change:\", classifier_entropy.predict(lastknown))\n",
    "print(\"Probability of change\", classifier_entropy.predict_proba(lastknown))"
   ]
  },
  {
   "cell_type": "code",
   "execution_count": 11,
   "metadata": {
    "colab": {
     "base_uri": "https://localhost:8080/"
    },
    "id": "k4JNKl_ccHGu",
    "outputId": "b6c93d7f-afaf-4085-c413-734992ff14db"
   },
   "outputs": [
    {
     "name": "stdout",
     "output_type": "stream",
     "text": [
      "Index(['market', 'vix', 'dxy', 'junk'], dtype='object')\n",
      "[0.23056644 0.25802237 0.25574205 0.25566914]\n",
      "[0.28539187 0.38719871 0.1961629  0.13124652]\n"
     ]
    }
   ],
   "source": [
    "#Inferring the importance of each feature\n",
    "print(features.columns)\n",
    "print(classifier.feature_importances_)\n",
    "print(classifier_entropy.feature_importances_)"
   ]
  },
  {
   "cell_type": "markdown",
   "metadata": {
    "id": "pO56pgNQdpzU"
   },
   "source": [
    "#Random Forest Regression for Overnight Value Changes"
   ]
  },
  {
   "cell_type": "markdown",
   "metadata": {
    "id": "Wn-0BkNOmQS0"
   },
   "source": [
    "#Design Model"
   ]
  },
  {
   "cell_type": "code",
   "execution_count": 12,
   "metadata": {
    "colab": {
     "base_uri": "https://localhost:8080/",
     "height": 235
    },
    "id": "itqncjwPGpr4",
    "outputId": "abaa7187-c920-4f53-dede-3def68b70b42"
   },
   "outputs": [
    {
     "data": {
      "text/html": [
       "<div>\n",
       "<style scoped>\n",
       "    .dataframe tbody tr th:only-of-type {\n",
       "        vertical-align: middle;\n",
       "    }\n",
       "\n",
       "    .dataframe tbody tr th {\n",
       "        vertical-align: top;\n",
       "    }\n",
       "\n",
       "    .dataframe thead th {\n",
       "        text-align: right;\n",
       "    }\n",
       "</style>\n",
       "<table border=\"1\" class=\"dataframe\">\n",
       "  <thead>\n",
       "    <tr style=\"text-align: right;\">\n",
       "      <th></th>\n",
       "      <th>return</th>\n",
       "    </tr>\n",
       "    <tr>\n",
       "      <th>Date</th>\n",
       "      <th></th>\n",
       "    </tr>\n",
       "  </thead>\n",
       "  <tbody>\n",
       "    <tr>\n",
       "      <th>2021-01-06</th>\n",
       "      <td>-0.025113</td>\n",
       "    </tr>\n",
       "    <tr>\n",
       "      <th>2021-01-07</th>\n",
       "      <td>0.013902</td>\n",
       "    </tr>\n",
       "    <tr>\n",
       "      <th>2021-01-08</th>\n",
       "      <td>0.011534</td>\n",
       "    </tr>\n",
       "    <tr>\n",
       "      <th>2021-01-11</th>\n",
       "      <td>-0.021658</td>\n",
       "    </tr>\n",
       "    <tr>\n",
       "      <th>2021-01-12</th>\n",
       "      <td>-0.003722</td>\n",
       "    </tr>\n",
       "  </tbody>\n",
       "</table>\n",
       "</div>"
      ],
      "text/plain": [
       "              return\n",
       "Date                \n",
       "2021-01-06 -0.025113\n",
       "2021-01-07  0.013902\n",
       "2021-01-08  0.011534\n",
       "2021-01-11 -0.021658\n",
       "2021-01-12 -0.003722"
      ]
     },
     "execution_count": 12,
     "metadata": {},
     "output_type": "execute_result"
    }
   ],
   "source": [
    "#Get rid of direction column for regressors\n",
    "targetvalue = target.drop(axis=1, columns='direction')\n",
    "targetvalue = targetvalue[1:] #Removes the first row of labels since we are correlating today's features with tomorrow's opening values\n",
    "targetvalue.head()                                                                        "
   ]
  },
  {
   "cell_type": "markdown",
   "metadata": {
    "id": "0QOBLG45matw"
   },
   "source": [
    "#Train and Test Random Forest Model"
   ]
  },
  {
   "cell_type": "code",
   "execution_count": 13,
   "metadata": {
    "colab": {
     "base_uri": "https://localhost:8080/"
    },
    "id": "xW2yP4i1IDTl",
    "outputId": "4d757687-d5cc-42d7-ad31-cc38cc63aa61"
   },
   "outputs": [
    {
     "name": "stdout",
     "output_type": "stream",
     "text": [
      "Training score: 0.8500950651369038\n",
      "Out-of-bag score: -0.1575840063139653\n",
      "Testing score: 0.022366160313928796\n",
      "Tomorrow's value change: [-0.00410875]\n"
     ]
    }
   ],
   "source": [
    "from sklearn.ensemble import RandomForestRegressor\n",
    "from sklearn.model_selection import train_test_split\n",
    "\n",
    "regressor = RandomForestRegressor(random_state=1, oob_score=True) #default performance metric is mean square error\n",
    "targetvalue = np.ravel(targetvalue) #Need to covert column vector into a 1-d array\n",
    "features_train, features_test, targetvalue_train, targetvalue_test = train_test_split(features, targetvalue, test_size = 0.25, random_state=0)\n",
    "regressor.fit(features_train, targetvalue_train)\n",
    "print(\"Training score:\", regressor.score(features_train, targetvalue_train))\n",
    "print(\"Out-of-bag score:\", regressor.oob_score_)\n",
    "print(\"Testing score:\", regressor.score(features_test, targetvalue_test))\n",
    "print(\"Tomorrow's value change:\", regressor.predict(lastknown))"
   ]
  },
  {
   "cell_type": "markdown",
   "metadata": {
    "id": "SS5r1zVsmjA8"
   },
   "source": [
    "#Regularize Random Forest Model"
   ]
  },
  {
   "cell_type": "code",
   "execution_count": 14,
   "metadata": {
    "colab": {
     "base_uri": "https://localhost:8080/"
    },
    "id": "G7vkAGgDKALy",
    "outputId": "202fe09f-c399-44ba-8559-38742bf3e6e8"
   },
   "outputs": [
    {
     "name": "stdout",
     "output_type": "stream",
     "text": [
      "Training score: 0.7828133897067663\n",
      "Out-of-bag score: -0.11314211040296085\n",
      "Testing score: 0.08099593803385141\n",
      "Tomorrow's value change: [-0.00339385]\n"
     ]
    }
   ],
   "source": [
    "regressor_mae = RandomForestRegressor(criterion=\"mae\", random_state=1, oob_score=True, max_depth=10, n_estimators=500)\n",
    "features_train, features_test, targetvalue_train, targetvalue_test = train_test_split(features, targetvalue, test_size = 0.25, random_state=0)\n",
    "regressor_mae.fit(features_train, targetvalue_train)\n",
    "print(\"Training score:\", regressor_mae.score(features_train, targetvalue_train))\n",
    "print(\"Out-of-bag score:\", regressor_mae.oob_score_)\n",
    "print(\"Testing score:\", regressor_mae.score(features_test, targetvalue_test))\n",
    "print(\"Tomorrow's value change:\", regressor_mae.predict(lastknown))"
   ]
  },
  {
   "cell_type": "code",
   "execution_count": 15,
   "metadata": {
    "colab": {
     "base_uri": "https://localhost:8080/"
    },
    "id": "YVK-hcRAhyBh",
    "outputId": "49abfa39-1178-408d-eab6-ed823685c1aa"
   },
   "outputs": [
    {
     "name": "stdout",
     "output_type": "stream",
     "text": [
      "Index(['market', 'vix', 'dxy', 'junk'], dtype='object')\n",
      "[0.16748602 0.26271163 0.29313468 0.27666766]\n",
      "[0.21189361 0.26314634 0.26761882 0.25734123]\n"
     ]
    }
   ],
   "source": [
    "#Inferring the importance of each feature\n",
    "print(features.columns)\n",
    "print(regressor.feature_importances_)\n",
    "print(regressor_mae.feature_importances_)"
   ]
  }
 ],
 "metadata": {
  "colab": {
   "name": "O'Reilly Class: Random Forest for Classification and Regression",
   "provenance": []
  },
  "kernelspec": {
   "display_name": "Python 3",
   "language": "python",
   "name": "python3"
  },
  "language_info": {
   "codemirror_mode": {
    "name": "ipython",
    "version": 3
   },
   "file_extension": ".py",
   "mimetype": "text/x-python",
   "name": "python",
   "nbconvert_exporter": "python",
   "pygments_lexer": "ipython3",
   "version": "3.8.5"
  },
  "widgets": {
   "application/vnd.jupyter.widget-state+json": {
    "state": {},
    "version_major": 2,
    "version_minor": 0
   }
  }
 },
 "nbformat": 4,
 "nbformat_minor": 4
}
